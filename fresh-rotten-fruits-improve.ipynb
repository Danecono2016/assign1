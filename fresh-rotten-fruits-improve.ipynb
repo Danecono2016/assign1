{
  "nbformat": 4,
  "nbformat_minor": 0,
  "metadata": {
    "colab": {
      "name": "Untitled3.ipynb",
      "provenance": [],
      "include_colab_link": true
    },
    "kernelspec": {
      "name": "python3",
      "display_name": "Python 3"
    },
    "accelerator": "GPU"
  },
  "cells": [
    {
      "cell_type": "markdown",
      "metadata": {
        "id": "view-in-github",
        "colab_type": "text"
      },
      "source": [
        "<a href=\"https://colab.research.google.com/github/Danecono2016/assign1/blob/main/fresh-rotten-fruits-improve.ipynb\" target=\"_parent\"><img src=\"https://colab.research.google.com/assets/colab-badge.svg\" alt=\"Open In Colab\"/></a>"
      ]
    },
    {
      "cell_type": "markdown",
      "metadata": {
        "id": "hN6RPuLXpQDW"
      },
      "source": [
        "## Import\n",
        "The following code imports the necessary code to run the code in the rest of this Colaboratory."
      ]
    },
    {
      "cell_type": "code",
      "metadata": {
        "id": "xjAU-S1tpYbe"
      },
      "source": [
        "import os\n",
        "import zipfile\n",
        "import random\n",
        "import shutil\n",
        "import numpy as np\n",
        "from shutil import copyfile\n",
        "\n",
        "%matplotlib inline\n",
        "import matplotlib.image as mpimg\n",
        "import matplotlib.pyplot as plt\n",
        "\n",
        "import tensorflow as tf\n",
        "from google.colab import files\n",
        "from keras.preprocessing import image\n",
        "from tensorflow.keras.preprocessing.image import ImageDataGenerator"
      ],
      "execution_count": 6,
      "outputs": []
    },
    {
      "cell_type": "code",
      "metadata": {
        "id": "atlfTzNGp9Da",
        "colab": {
          "base_uri": "https://localhost:8080/"
        },
        "outputId": "414deb02-70fd-4f46-f623-0ad31f427edc"
      },
      "source": [
        "print(tf.__version__)"
      ],
      "execution_count": 7,
      "outputs": [
        {
          "output_type": "stream",
          "name": "stdout",
          "text": [
            "2.17.0\n"
          ]
        }
      ]
    },
    {
      "cell_type": "markdown",
      "metadata": {
        "id": "1j3qJS8OoKBn"
      },
      "source": [
        "## Download Dataset\n",
        "Open this link to know how to get cookies.txt https://www.kaggle.com/general/51898"
      ]
    },
    {
      "cell_type": "code",
      "metadata": {
        "id": "UsdfCSNCGiFz",
        "colab": {
          "base_uri": "https://localhost:8080/",
          "height": 1000
        },
        "outputId": "d7ecfe87-32f0-4c5a-aa1b-2e718b0d885c"
      },
      "source": [
        "#upload kaggle cookies\n",
        "files.upload()"
      ],
      "execution_count": 8,
      "outputs": [
        {
          "output_type": "display_data",
          "data": {
            "text/plain": [
              "<IPython.core.display.HTML object>"
            ],
            "text/html": [
              "\n",
              "     <input type=\"file\" id=\"files-4c611497-50a9-4a44-864d-79b6f78819fd\" name=\"files[]\" multiple disabled\n",
              "        style=\"border:none\" />\n",
              "     <output id=\"result-4c611497-50a9-4a44-864d-79b6f78819fd\">\n",
              "      Upload widget is only available when the cell has been executed in the\n",
              "      current browser session. Please rerun this cell to enable.\n",
              "      </output>\n",
              "      <script>// Copyright 2017 Google LLC\n",
              "//\n",
              "// Licensed under the Apache License, Version 2.0 (the \"License\");\n",
              "// you may not use this file except in compliance with the License.\n",
              "// You may obtain a copy of the License at\n",
              "//\n",
              "//      http://www.apache.org/licenses/LICENSE-2.0\n",
              "//\n",
              "// Unless required by applicable law or agreed to in writing, software\n",
              "// distributed under the License is distributed on an \"AS IS\" BASIS,\n",
              "// WITHOUT WARRANTIES OR CONDITIONS OF ANY KIND, either express or implied.\n",
              "// See the License for the specific language governing permissions and\n",
              "// limitations under the License.\n",
              "\n",
              "/**\n",
              " * @fileoverview Helpers for google.colab Python module.\n",
              " */\n",
              "(function(scope) {\n",
              "function span(text, styleAttributes = {}) {\n",
              "  const element = document.createElement('span');\n",
              "  element.textContent = text;\n",
              "  for (const key of Object.keys(styleAttributes)) {\n",
              "    element.style[key] = styleAttributes[key];\n",
              "  }\n",
              "  return element;\n",
              "}\n",
              "\n",
              "// Max number of bytes which will be uploaded at a time.\n",
              "const MAX_PAYLOAD_SIZE = 100 * 1024;\n",
              "\n",
              "function _uploadFiles(inputId, outputId) {\n",
              "  const steps = uploadFilesStep(inputId, outputId);\n",
              "  const outputElement = document.getElementById(outputId);\n",
              "  // Cache steps on the outputElement to make it available for the next call\n",
              "  // to uploadFilesContinue from Python.\n",
              "  outputElement.steps = steps;\n",
              "\n",
              "  return _uploadFilesContinue(outputId);\n",
              "}\n",
              "\n",
              "// This is roughly an async generator (not supported in the browser yet),\n",
              "// where there are multiple asynchronous steps and the Python side is going\n",
              "// to poll for completion of each step.\n",
              "// This uses a Promise to block the python side on completion of each step,\n",
              "// then passes the result of the previous step as the input to the next step.\n",
              "function _uploadFilesContinue(outputId) {\n",
              "  const outputElement = document.getElementById(outputId);\n",
              "  const steps = outputElement.steps;\n",
              "\n",
              "  const next = steps.next(outputElement.lastPromiseValue);\n",
              "  return Promise.resolve(next.value.promise).then((value) => {\n",
              "    // Cache the last promise value to make it available to the next\n",
              "    // step of the generator.\n",
              "    outputElement.lastPromiseValue = value;\n",
              "    return next.value.response;\n",
              "  });\n",
              "}\n",
              "\n",
              "/**\n",
              " * Generator function which is called between each async step of the upload\n",
              " * process.\n",
              " * @param {string} inputId Element ID of the input file picker element.\n",
              " * @param {string} outputId Element ID of the output display.\n",
              " * @return {!Iterable<!Object>} Iterable of next steps.\n",
              " */\n",
              "function* uploadFilesStep(inputId, outputId) {\n",
              "  const inputElement = document.getElementById(inputId);\n",
              "  inputElement.disabled = false;\n",
              "\n",
              "  const outputElement = document.getElementById(outputId);\n",
              "  outputElement.innerHTML = '';\n",
              "\n",
              "  const pickedPromise = new Promise((resolve) => {\n",
              "    inputElement.addEventListener('change', (e) => {\n",
              "      resolve(e.target.files);\n",
              "    });\n",
              "  });\n",
              "\n",
              "  const cancel = document.createElement('button');\n",
              "  inputElement.parentElement.appendChild(cancel);\n",
              "  cancel.textContent = 'Cancel upload';\n",
              "  const cancelPromise = new Promise((resolve) => {\n",
              "    cancel.onclick = () => {\n",
              "      resolve(null);\n",
              "    };\n",
              "  });\n",
              "\n",
              "  // Wait for the user to pick the files.\n",
              "  const files = yield {\n",
              "    promise: Promise.race([pickedPromise, cancelPromise]),\n",
              "    response: {\n",
              "      action: 'starting',\n",
              "    }\n",
              "  };\n",
              "\n",
              "  cancel.remove();\n",
              "\n",
              "  // Disable the input element since further picks are not allowed.\n",
              "  inputElement.disabled = true;\n",
              "\n",
              "  if (!files) {\n",
              "    return {\n",
              "      response: {\n",
              "        action: 'complete',\n",
              "      }\n",
              "    };\n",
              "  }\n",
              "\n",
              "  for (const file of files) {\n",
              "    const li = document.createElement('li');\n",
              "    li.append(span(file.name, {fontWeight: 'bold'}));\n",
              "    li.append(span(\n",
              "        `(${file.type || 'n/a'}) - ${file.size} bytes, ` +\n",
              "        `last modified: ${\n",
              "            file.lastModifiedDate ? file.lastModifiedDate.toLocaleDateString() :\n",
              "                                    'n/a'} - `));\n",
              "    const percent = span('0% done');\n",
              "    li.appendChild(percent);\n",
              "\n",
              "    outputElement.appendChild(li);\n",
              "\n",
              "    const fileDataPromise = new Promise((resolve) => {\n",
              "      const reader = new FileReader();\n",
              "      reader.onload = (e) => {\n",
              "        resolve(e.target.result);\n",
              "      };\n",
              "      reader.readAsArrayBuffer(file);\n",
              "    });\n",
              "    // Wait for the data to be ready.\n",
              "    let fileData = yield {\n",
              "      promise: fileDataPromise,\n",
              "      response: {\n",
              "        action: 'continue',\n",
              "      }\n",
              "    };\n",
              "\n",
              "    // Use a chunked sending to avoid message size limits. See b/62115660.\n",
              "    let position = 0;\n",
              "    do {\n",
              "      const length = Math.min(fileData.byteLength - position, MAX_PAYLOAD_SIZE);\n",
              "      const chunk = new Uint8Array(fileData, position, length);\n",
              "      position += length;\n",
              "\n",
              "      const base64 = btoa(String.fromCharCode.apply(null, chunk));\n",
              "      yield {\n",
              "        response: {\n",
              "          action: 'append',\n",
              "          file: file.name,\n",
              "          data: base64,\n",
              "        },\n",
              "      };\n",
              "\n",
              "      let percentDone = fileData.byteLength === 0 ?\n",
              "          100 :\n",
              "          Math.round((position / fileData.byteLength) * 100);\n",
              "      percent.textContent = `${percentDone}% done`;\n",
              "\n",
              "    } while (position < fileData.byteLength);\n",
              "  }\n",
              "\n",
              "  // All done.\n",
              "  yield {\n",
              "    response: {\n",
              "      action: 'complete',\n",
              "    }\n",
              "  };\n",
              "}\n",
              "\n",
              "scope.google = scope.google || {};\n",
              "scope.google.colab = scope.google.colab || {};\n",
              "scope.google.colab._files = {\n",
              "  _uploadFiles,\n",
              "  _uploadFilesContinue,\n",
              "};\n",
              "})(self);\n",
              "</script> "
            ]
          },
          "metadata": {}
        },
        {
          "output_type": "stream",
          "name": "stdout",
          "text": [
            "Saving all_cookies.txt to all_cookies (2).txt\n"
          ]
        },
        {
          "output_type": "execute_result",
          "data": {
            "text/plain": [
              "{'all_cookies (2).txt': b'# Netscape HTTP Cookie File\\n# http://curl.haxx.se/rfc/cookie_spec.html\\n# This is a generated file!  Do not edit.\\n\\nmail.google.com\\tFALSE\\t/mail/u/0\\tTRUE\\t0\\tGMAIL_AT\\tAF6bupPoxLtYZpq0NNGbMlgH_6EIQbfEmg\\nmail.google.com\\tFALSE\\t/mail/u/1\\tTRUE\\t1732158476\\tCOMPASS\\tappsfrontendserver=CgAQ3u_EuQYafQAJa4lXEvrL6cZyJrPY2ph_TTl7kg1loP6ouNe_fZnTxVZvtcJVEVX9zHCSJhXUpjeKmt0i3mmhY5LSX9ekSOYgHT5vN1tUjY0dKFCxBAacxbDFOSz_bNNX_w9W6S0YrYAet83-HupnBH7RaZXEb5uYuZIVIf-PPPppPPgxIAEwAQ:gmail_ps=Cr0BAAlriVdz4oGais6kt-T-6na-1aJ66NOm2bdZhq6Ywsiiw4GAUDR3uzrcBoYLrsJU5zK5Fxalv3xFH5_g5FjjpC7t4feX_njxDDR_EJXlM5-Q_rLWPR4lOcvzK4yMsFpkmtHCM3EEinmHaVKroQrbep7prROaAdMmNLziC99t3P9GvGNOc74j041MwOMgRiBT2i_pW1740WDVqVsbu6Jk7DN48BrvaJczK6bmD3j55UxQUYvlZcNu1i4HyzH1EIyPy7kGGvsBAAlriVeWJJT1JaCE7Jv7dbhR7SMLp0hqxpvPTBO0_2XTlXdoeOOZ_xftTq36JpQAA2Z3si1POkXuOASVLUahB0rDd8MvOvyzm26rmezcTtqeBRqBJR08V1Du4TVKfzxrz33_m-9srqy8D5qUiq7E3Q8R_zYKOSbW8MJRS5UTP4q6QaatEB8LHdpJ2jTQ8JG1kxK9epr-KEf7K_xM1B5aFCEsgrgGEOhzMqaYSA2OsYXFdXRde6ZllnFk7mDgDKWIaNrj-rEMM_yO2qpaau1_ATcY_Y3bgCpplu8zFYOhkaVWMDAc069KxcSgWlV0YgvrXys9N1c_Gf_9boYwAQ:gmail=Cs4BAAlriVc2DVr3H_ZfSMuwi-hdn5sY5sv1fry3d4jIFoCU-55xHK-55vKdUHQo9FGhN8RT1XWr7YxLGBrkR-mLAGGJ7Qgu0VUI_xWOqEId_PU8nczUrPsov57Gt0LiMKEvP2xulXUlqLT7Sn37uMAw7w14gg0UJw5gw9sQ_akrfsfwQc84LZ5f3t-60B4IDnV6BKeDwhSD1Edhi_67lqrtiQqJWh0j11NqRqcXO35qNqrt2bbuePl3dN0DNbXsiX7B2Uy2yEeQsNGQU-pEGREQ-pPLuQYajAIACWuJV8OYaI7pVNJWDrzMqCMx4bdWFN6yA7wWmXSlXTOceUKyxhYCKL1EImVMct4rJXjB4RhU_kJqj0ERkHkR2EHWtR4LGfY0AFsCjGciAof5ThRvUORREBIhcMlygXVdwK6O7E05huOoRIQzdrQXFNSWu-3-b9dYcM2ODZ2Bg_tFst9iWThSOJtWPjGiP2334T0Y1MGsfqaCnuNX-xEqEqd13Ad7-7lLQreRIgB9OyK2ZZUbtcqCmW6TiaL1eGCZlEjE6EB0f-UN0w1BdhVNa6mfzhoS-Vbcdtoyz4_TOK61nixgGOlj8hHt7U_ZLie2AwddmmX0lmcGtiEfpbd8rEkwyXP_yu7VI5Y0MAE\\nmail.google.com\\tFALSE\\t/mail/u/1\\tTRUE\\t0\\tGMAIL_AT\\tAF6bupNhYo-hEGG4aTCpgN4BaqcrUDcJaw\\nmail.google.com\\tFALSE\\t/sync/u/1\\tTRUE\\t1732158486\\tCOMPASS\\tappsfrontendserver=CgAQ6oXGuQYafQAJa4lXEvrL6cZyJrPY2ph_TTl7kg1loP6ouNe_fZnTxVZvtcJVEVX9zHCSJhXUpjeKmt0i3mmhY5LSX9ekSOYgHT5vN1tUjY0dKFCxBAacxbDFOSz_bNNX_w9W6S0YrYAet83-HupnBH7RaZXEb5uYuZIVIf-PPPppPPgxIAEwAQ:bigtop-sync=Cs0BAAlriVc4vnW9mMrIPIuxcecuReJy5PQbJP0eeujgo_dZjMAc_2ueLHVjlEUUeU-ErjtAeojlvcwxOnu5sNpK6p8ASCjOi0vqY1v7gX6jsgP1AqoeQBdkq-YUkj_aNOONwyHAjRTTIhRAezwOplqggdyeNq0eg-pdyXApuZlYwYVV51pGnCSYelIZt-UkNx87V-uvE4vFlppfEnFDGUlI2IOaRkCBwC-QN4r9TlGFQnzQYYWfk40w3MJcCjyFibs2TyxedxuUyetOteu1_xCdkcu5BhqLAgAJa4lXWajqYAvutzxMrB4vS_Onijz_qia3GbxGrqmBwZFzjG91EvP1hO0rZ-zsLEPxTWYwT1IH-P8AI9OgNpdIOeuoQ5_1IEmv5oNgnEg7dSCW_vqMxddYoEyVWoEac3FijsaauMK75GcBliZDAZuFBX679UBlA02zAfK1yXXNs0GmwtzRFJcjMsjADtOSUREgZ1ayKr9D4u_PVbLWYohet8lN0Wv-t_S2mbxQZsixwWYSBnI1oFaoB1X-_OyDynYI4tWoIaA_1_NksRY_xk-v7lXqm_r7tVEot-3RAdAtIvF5r0v1jLQMGqHx1v0rMdCxzvZKBbFUzzRgNLOTs6n8RZdth1HMMj9QmTAB\\nmail.google.com\\tFALSE\\t/sync/u/0\\tTRUE\\t1732158541\\tCOMPASS\\tbigtop-sync=CsMBAAlriVfDs4PmV2abPWDw2zjQZepZFuuQIN7aW4tj7zu5Uj2Pp-Mm78WfBetooKADPVG58vnx-RReqWYS5b-0eldydCqn2dEh3ga8_3tBAN4nfhJroxZroyRU9wYPno-OxSRqzTtDrQgj7jbHcI7JJ5NY4toxP6Y0WakbQhq582mE0vCdFCDik8XSUeHYec1OWAGLYNBPhet6hU_kJvdKIVacrRRy-IZhJc-osfj0gpAnvwh2qZWzp3WHw7YNXgCQvimVEOWTy7kGGvwBAAlriVdr6uQBfsy9cykpO7XVGdKnrUMgUFI3x8PYk9K3o7GLdcOGS94kEf3AqOma5E0GqEZnRGqQIG70LNTlcUjLA5ya5OXTobqNXN-C5GY5R2sWPAPx3ZURFCG3al9Fx3_UdY3PISuwS-HL0h0OvWvwMr9-fqNW39ZzMhsHsHnIryDvbZ0cqNJiA6UM0FXWLsAswfur4RmZlvkekWHCLeSmZQstHpGbpKJtO7AEpP0B9ACKLnZWKNguz-bdU8zNhs8oIVONPxmHxwH8VMgBjzPP5CmuoSaW5bMP2VJjM3fP5nZqWqUEkHe5lkhGFhtgWf45HRk0QkgFc3dzMAE\\nmail.google.com\\tFALSE\\t/mail/u/0\\tTRUE\\t1732158613\\tCOMPASS\\tgmail_ps=CrMBAAlriVeuRxCjCRGHTwGkRm-6eXBVCiTLW7IG3HJlp-ri1WhVutoSE9pm3SpubbNPRsgBUzBJxyKleUZk3Cn_6zG_EtaHBDdXGTuMU3NPdGtT_dEyac8HY5nRxyNtnRzzDV7T6aPsklPQnPh1iGyyLckSbF3E1inrybOH4fDRdNlgOBXQSNjilcpop1UJorXRjGGc17F6JpyNlFBMBwCdTLSOFELir5JNy9kLeI54a3mBCHYQrYrLuQYa7AEACWuJV6IvQ1eod26V25n9XgDvGLxFNgpHB3-2RqwX3aJIQAsdYJTRe-viDnNoJcQx5hJsidDlHIsPuXuRzNBa5I6dqocuuSgfnocgY5O8WjoqbCfyyKVb4fvDBKQRNltlY8NlHb_0QHANEV6zO1_vM4etCcSmxoPNSr4ReCTBFxeeeURoY757k7nn1L0itUH6u7HzQQQRGvxLoj4CTnUwUzotFZfNA5gp_3RYuVnbAFPZrTThg1EnF0aTItH00nR6HuizWeMfknOyoAjjLh50oC9besyppWWET1jUVCuUlfxhjE2Q8DPNl-jx7jAB:gmail=CsQBAAlriVcFzhs0frfGgNDHNlNcHnKRDXFIlXGLe6N5X2jRTul5k94hPNmF11z8XHCFHtzvQ7asUFvq4_MjCJSmG2JL33tERP_D__cLESeBMSVxIgmgwfxpTRT8kJ1Z1m1HJWD86qb3x6IPaSCo3HyZF_AHCIqiPbv0uZzTq597LGLbirBXBk6qYjrMrHBXmzdEUohXAzxPaCJIGOsxsBlrAJ5BIpyAthzJLqTxIZaup-TS7jG4fVXcqnnVRiuW286LqLTjHBD8lsu5Bhr9AQAJa4lXzXuhLpS9B4f3mUtt6lBFzL1Hdj7kuPrPkjy3NJ_TGa5-Otvz9LjohRcVtEoFX-1GuEI6ct57RAz8sKo4mskrWKITBnTQ9EEiG_er8ME-MpSvuiNXpL8eDOYTCkFRIVgvU-czAPHL8-yx0arbFsQ95fCQI9ZWyZkIQPnoJLb2ZJsm8LOKAWS94jX5vQfwiTDHMgixxU-6yHBna-I2h0NHg4H-r_quCvyD52y08Qj58c4sXVlv1oustKiPRwidkWxgk6QVZgyRVDBHHMx9A6LWsTo5InBcq0jvTcMWXifRx8RoE8MoIqdsJC8EJkycJ_XT2AvMDMBmMv4wAQ\\n.google.com\\tTRUE\\t/verify\\tTRUE\\t1747182226\\tSNID\\tAFAt11qux_5MSmCVBcMjQQi8zLvQZCBdYmD-KQWr-nl3widywZLxEZZH-cDCXkGMqYX6g2rHK2JQRG58PD5Irmu6Z_UV_NvcZg\\ncommerce.adobe.com\\tFALSE\\t/store\\tTRUE\\t0\\tx-adobe-clientsession\\t21983c68-0c14-46b4-b5e4-e78aff3e506b\\nmail.google.com\\tFALSE\\t/mail\\tTRUE\\t1732139227\\tCOMPASS\\tappsfrontendserver=CgAQ3u_EuQYafQAJa4lXEvrL6cZyJrPY2ph_TTl7kg1loP6ouNe_fZnTxVZvtcJVEVX9zHCSJhXUpjeKmt0i3mmhY5LSX9ekSOYgHT5vN1tUjY0dKFCxBAacxbDFOSz_bNNX_w9W6S0YrYAet83-HupnBH7RaZXEb5uYuZIVIf-PPPppPPgxIAEwAQ:gmail_ps=CrMBAAlriVeuRxCjCRGHTwGkRm-6eXBVCiTLW7IG3HJlp-ri1WhVutoSE9pm3SpubbNPRsgBUzBJxyKleUZk3Cn_6zG_EtaHBDdXGTuMU3NPdGtT_dEyac8HY5nRxyNtnRzzDV7T6aPsklPQnPh1iGyyLckSbF3E1inrybOH4fDRdNlgOBXQSNjilcpop1UJorXRjGGc17F6JpyNlFBMBwCdTLSOFELir5JNy9kLeI54a3mBCHYQh4DKuQYa7AEACWuJVzChfbVjmNwIfF_tPHDJ82Xd2-BibUhPIVML4E5ScID2QMAjVgDXgGJ-dTlhz4zMkt4cXm_nKCf5_wXI1vBgykHBSf7bEtKLOAELg_0Xb3uHxxo92FJ3DUSWiuXGjDL9OneS-3WAjss5hrv7X07SYbgVhrYOjAJg5Xxgnwlt5PJyn_0e8ukvkLrGpHMPEmVeUJMPAZ-MD6jDxcBBP3GcMrVeqO4vZlHgD7pasjTRljw7M5ZLhNCXH3_brlDIf9BhTBIyD-XYywgtVwHedXVE-FbtVX2F2Wsfyq7FFMi_38UJ_BBPPFy55zAB\\n.3lift.com\\tTRUE\\t/sync\\tTRUE\\t1739053225\\tsync\\tCgoIgAIQo9eGwbEyCgoIgQIQ3-mHwbEyCgoIggIQ_fCnwbEyCgoIhwIQo9eGwbEyCgkISRDf6YfBsTIKCQgLEN_ph8GxMgoKCIsCEP3wp8GxMgoKCIwCEKPXhsGxMgoKCM4BEN_ph8GxMgoKCI4BEIrrp8GxMgoJCA4Q_fCnwbEyCgoIkAIQ_fCnwbEyCgoIkQIQiuunwbEyCgoIkgIQiuunwbEyCgoIkwIQ_fCnwbEyCgoIlAIQ3-mHwbEyCgoI1gEQ_fCnwbEyCgkIGxCj14bBsTIKCgidAhCK66fBsTIKCgjeARDf6YfBsTIKCQhfEKPXhsGxMgoJCB8QiuunwbEyCgoIoQEQo9eGwbEyCgoI4gEQo9eGwbEyCgoI4wEQ_fCnwbEyCgoI5gEQo9eGwbEyCgoI5wEQ3-mHwbEyCgoIrAIQo9eGwbEyCgoIrQIQ3-mHwbEyCgoIswIQ_fCnwbEyCgoItAIQiuunwbEyCgoItQIQ_fCnwbEyCgoItwIQ3-mHwbEyCgkIORDf6YfBsTIKCQg6EKPXhsGxMgoKCLsCEIrrp8GxMgoKCPsBEIrrp8GxMgoKCL0CEIrrp8GxMgoKCP8BEIrrp8GxMgoJCD8Q_fCnwbEy\\n.smartadserver.com\\tTRUE\\t/api\\tTRUE\\t1765491028\\tpid\\t110500683022963530\\ni.liadm.com\\tFALSE\\t/s\\tTRUE\\t1733868702\\t_li_ss\\tCgASFw3DWGh6EhAKBgj0ARCnGQoGCJMBEKcZ\\n.docs.google.com\\tTRUE\\t/\\tTRUE\\t1765834957\\tOSID\\tg.a000qAhfxhy7QYRqC4RiF49K-KfeHUBG0CXLVxGRMaWoGS3UFto_UzRxlnn20LEczcc083Cb6AACgYKAeESARUSFQHGX2MixkCy86o2CuRRw0OeP1KgIxoVAUF8yKpNf-Ig5ijK5HYg6K0Y5g6D0076\\n.docs.google.com\\tTRUE\\t/\\tTRUE\\t1765834957\\t__Secure-OSID\\tg.a000qAhfxhy7QYRqC4RiF49K-KfeHUBG0CXLVxGRMaWoGS3UFto_p1GRbQLYVbPs6q5eZ7gFewACgYKAfsSARUSFQHGX2Mi1IladnsORASJ9QZslE9aBhoVAUF8yKraQUyR4cO_ZDwogt88Va4Y0076\\n.youtube.com\\tTRUE\\t/\\tTRUE\\t1765835137\\tLOGIN_INFO\\tAFmmF2swRQIgfeTo2CuSCh6WgvfeQtIPu7dVgt7QHft9yOdXY56SCLMCIQDCdD8X6NFZm_ap_nBFc6k9-gS4EsAvxjIxoR4kqav97A:QUQ3MjNmd0pMTVdOUEZoMjRMZEloSXR6R1dfZ1lfX1R0WmpjVUhzdTFSODhUVE5EWjlDSFpMb1MyQ0xDWFVLRmkwUWJzVVJVS2k1SkhqbHRhMXBqZDJrZ1l3UFBHaWNMQjVDdFpMczdLVDQ5RGhjMWVRajFYQ0poUVVURXctdXFSNnNVVDhfZlJLZmM4YTNTZHZYVmZ1WE5CY0hXcTU0aG9B\\n.youtube.com\\tTRUE\\t/\\tTRUE\\t1765841509\\tPREF\\ttz=America.New_York&f5=30000\\nmail.google.com\\tFALSE\\t/\\tTRUE\\t1733867206\\t__Host-GMAIL_SCH_GMN\\t1\\nmail.google.com\\tFALSE\\t/\\tTRUE\\t1733867206\\t__Host-GMAIL_SCH_GMS\\t1\\nmail.google.com\\tFALSE\\t/\\tTRUE\\t1733867206\\t__Host-GMAIL_SCH_GML\\t1\\n.go.sonobi.com\\tTRUE\\t/\\tTRUE\\t1762812253\\t__uis\\taac9cd1b-215e-4cc8-a140-4081d6543a89\\n.go.sonobi.com\\tTRUE\\t/\\tTRUE\\t1734083208\\t__uin_cx\\t1\\n.go.sonobi.com\\tTRUE\\t/\\tTRUE\\t1732398408\\t__uir_cx\\t58740407\\n.onetag-sys.com\\tTRUE\\t/\\tTRUE\\t1765463669\\tOTP\\tO7Swyd46OtEZ4WIG78DT3qD72OoaE48MKYXw87UL7rI\\n.a-mo.net\\tTRUE\\t/\\tTRUE\\t1762811209\\tamuid2\\t10308010-c34a-4baf-8f91-bbee70f77374\\n.a-mo.net\\tTRUE\\t/\\tTRUE\\t1762811209\\tpamuid2\\t10308010-c34a-4baf-8f91-bbee70f77374\\n.prebid.a-mo.net\\tTRUE\\t/\\tTRUE\\t1762811209\\tpsd_amuid2\\t10308010-c34a-4baf-8f91-bbee70f77374\\n.prebid.a-mo.net\\tTRUE\\t/\\tTRUE\\t1762811209\\tsd_amuid2\\t10308010-c34a-4baf-8f91-bbee70f77374\\ncontacts.google.com\\tFALSE\\t/\\tTRUE\\t1733867217\\tOTZ\\t7816187_76_76_104100_72_446760\\nogs.google.com\\tFALSE\\t/\\tTRUE\\t1733867217\\tOTZ\\t7816187_76_76_104100_72_446760\\n.grammarly.com\\tTRUE\\t/\\tFALSE\\t1765835333\\tgnar_containerId\\tewrd98om16eu04g2\\n.facebook.com\\tTRUE\\t/\\tTRUE\\t1765835592\\tdatr\\tRysxZ5sxUXp397aPzxDPFKtE\\n.facebook.com\\tTRUE\\t/\\tTRUE\\t1765835592\\tsb\\tRysxZ3oUUiiMpHo_ZHNeX_QJ\\n.facebook.com\\tTRUE\\t/\\tTRUE\\t1731881352\\twd\\t1600x739\\n.livescore.com\\tTRUE\\t/\\tTRUE\\t1764972198\\t__gads\\tID=47a2bd7952b3b19c:T=1731276198:RT=1731276198:S=ALNI_Mb7axrxe7D4-3ikG2g6ptG9REr9rA\\n.livescore.com\\tTRUE\\t/\\tTRUE\\t1764972198\\t__gpi\\tUID=00000f5eb31fc8a2:T=1731276198:RT=1731276198:S=ALNI_MbToNLBgLPGSGg6tPp4uikRF4dzZA\\n.livescore.com\\tTRUE\\t/\\tTRUE\\t1746828198\\t__eoi\\tID=404a7bb655d1eaa1:T=1731276198:RT=1731276198:S=AA-AfjavJebNtmN6h-AHiSDWC3M5\\n.doubleclick.net\\tTRUE\\t/\\tTRUE\\t1765836201\\tIDE\\tAHWqTUnYnvsr8Qh2mQJovDddL90nme9hZI4guMQPXuxco09NZPdXrbX6PswbKo9_URc\\n.doubleclick.net\\tTRUE\\t/\\tTRUE\\t1733868820\\tar_debug\\t1\\n.livescore.com\\tTRUE\\t/\\tFALSE\\t1765836221\\t_ga\\tGA1.2.957655287.1731274786\\n.googleadservices.com\\tTRUE\\t/\\tTRUE\\t1739052975\\tar_debug\\t1\\n.doubleclick.net\\tTRUE\\t/\\tTRUE\\t1732406401\\tDSID\\tAB_BQxnjTIeuo5gkfmHtkPFoOoBY-VRPnKOtCvega4aQBjA2YwOIFh1j-E2hvNQT-w7Tvkc6rZ1Y0mbG_F_2u5oY7_MoXNYQHRAUqQUvjGwLG3bfV0BiNOigPRN7StrqzrrMnIfCoCFWW_tk8fCxspqvzv3dpXqMpaTVo97gDBUU_Z8BbJHrLRuKs_sfhI8o5lqYIbSFjzYYj5lQ0jzQZkVSZO8U6e54iQ_919v4XgWXGllSWcmXapqnpQlP-ckSFqI-a2zJeJZAuBdSI-ygmbCy5ValDtGDZw\\n.livescore.com\\tTRUE\\t/\\tFALSE\\t1765836221\\t_ga_KREVS9LH3K\\tGS1.2.1731274785.1.1.1731276221.43.0.0\\n.prebid.a-mo.net\\tTRUE\\t/\\tTRUE\\t1762812253\\t__amc\\t7_1731275208_1731276251\\n.www.livescore.com\\tTRUE\\t/\\tFALSE\\t1762812260\\tOptanonConsent\\tconsentId=433686ba-cdd1-4d99-82dd-4ef3ae1e7bc0&datestamp=Sun+Nov+10+2024+17%3A04%3A20+GMT-0500+(Eastern+Standard+Time)&version=202409.1.0&interactionCount=0&isAnonUser=1\\nlogin.microsoftonline.com\\tFALSE\\t/\\tTRUE\\t0\\tx-ms-gateway-slice\\testsfd\\nlogin.microsoftonline.com\\tFALSE\\t/\\tTRUE\\t0\\tstsservicecookie\\testsfd\\n.login.microsoftonline.com\\tTRUE\\t/\\tTRUE\\t0\\tAADSSO\\tNA|NoExtension\\nlogin.microsoftonline.com\\tFALSE\\t/\\tTRUE\\t1762861721\\tMicrosoftApplicationsTelemetryDeviceId\\tf046b105-1f0c-4587-ac10-8ca731b64983\\n.login.microsoftonline.com\\tTRUE\\t/\\tTRUE\\t1764973050\\tbrcap\\t0\\n.avenue.mcmaster.ca\\tTRUE\\t/\\tFALSE\\t0\\t__utmc\\t228025677\\n.avenue.mcmaster.ca\\tTRUE\\t/\\tFALSE\\t1747093982\\t__utmz\\t228025677.1731276435.1.1.utmcsr=(direct)|utmccn=(direct)|utmcmd=(none)\\navenue.mcmaster.ca\\tFALSE\\t/\\tTRUE\\t0\\tSimpleSAMLSessionID\\t2f536a55bea8fa02cd1d1e3cb42e84d1\\n.grammarly.com\\tTRUE\\t/\\tTRUE\\t1762812438\\tgrauth\\tAABORQexVQNsbNo-7DEpW6ScW5AwyBSgoJG4kvrxBadjz7iCnhd7zNbnEIvp8lI_E2Do-Ibg2Zcof6iq\\n.grammarly.com\\tTRUE\\t/\\tTRUE\\t1762812438\\tcsrf-token\\tAABORdbPWOHVz1Q+UC76GheMXt00nsxjuFg5sA\\n.microsoftonline.com\\tTRUE\\t/\\tTRUE\\t1764972446\\twlidperf\\tFR=L&ST=1731276446071\\nlogin.microsoftonline.com\\tFALSE\\t/\\tTRUE\\t0\\tESTSAUTHLIGHT\\t+98e00caa-3a57-4ddf-a7c0-eb0f883a4a03\\n.login.microsoftonline.com\\tTRUE\\t/\\tTRUE\\t0\\tesctx-a4wAiflM5g\\tAQABCQEAAADW6jl31mB3T7ugrWTT8pFeUODTKif-fCPtE_xvp7iKGwhIAHkzdoBCJI6Ao4pvmSJPlvRQd6LErhVdPwlqeCZ9ib72Vjgan-9AhzVhai6O9TDwSnk_lJVHzmXkadMmQgfTcjjWAawNwGWhCFSG1lQfq6g2i5X9lCtaVuKjTivrsCAA\\nsupport.microsoft.com\\tFALSE\\t/\\tTRUE\\t1762812463\\tEXPID\\tcd3e424b-0b63-423d-9d97-2871b33cd840\\n.login.microsoftonline.com\\tTRUE\\t/\\tTRUE\\t0\\tesctx-M6zwUQkrDz8\\tAQABCQEAAADW6jl31mB3T7ugrWTT8pFeaAQS5nEDM9CP4v5Z1kNF4Urw_znPj2p2mmZsdSfIiGJJv_Zg8Q51zNtDHix4RP_aa_pqf5Kmt5rnVguxHB-p3UQWiy4Rhl0Tvp_gkO67tTBCZKUjfU30LNLafZlOMpT8RKMiQcizzRfJ5ksrZTUiGyAA\\nsupport.microsoft.com\\tFALSE\\t/\\tTRUE\\t1762812466\\tMicrosoftApplicationsTelemetryDeviceId\\te0101233-80ad-4840-a620-59326423de49\\n.microsoft.com\\tTRUE\\t/\\tTRUE\\t1762812468\\tMC1\\tGUID=489a34952e254e98b35a2087a8cb3b0d&HASH=489a&LV=202411&V=4&LU=1731276465579\\n.facebook.com\\tTRUE\\t/\\tTRUE\\t1739052550\\tfr\\t0WDpZ6KNGDTF371iB..BnMStH..AAA.0.0.BnMS8E.AWWCrmJXyQM\\n.biblegateway.com\\tTRUE\\t/\\tTRUE\\t1762812669\\tBGP_default_version\\tNIV\\n.biblegateway.com\\tTRUE\\t/\\tTRUE\\t0\\tbg_id\\t1ac0c2f93715d7be8d924af5cb745950\\n.pub.network\\tTRUE\\t/\\tTRUE\\t1765836815\\t_fsuid\\t3e556d65-1d4f-4eee-86a4-bd04d33cb140\\n.scorecardresearch.com\\tTRUE\\t/\\tTRUE\\t1765023982\\tUID\\t1A9cc30616bf544898e6aae1731276670\\n.biblegateway.com\\tTRUE\\t/\\tTRUE\\t1746911471\\tpermutive-id\\t90507b1d-37d5-4062-ad41-0640bb36733d\\n.biblegateway.com\\tTRUE\\t/\\tFALSE\\t1765836673\\t_ncg_id_\\t0ed8b215-bd75-4a62-8386-6d8629e0e24a\\n.biblegateway.com\\tTRUE\\t/\\tFALSE\\t0\\t_li_dcdm_c\\t.biblegateway.com\\n.biblegateway.com\\tTRUE\\t/\\tFALSE\\t1765836673\\t_lc2_fpi\\tdce764050d17--01jcc234kcqw9v2x88mvhx0r7n\\n.biblegateway.com\\tTRUE\\t/\\tFALSE\\t1765836673\\t_lc2_fpi_meta\\t%7B%22w%22%3A1731276673644%7D\\n.biblegateway.com\\tTRUE\\t/\\tFALSE\\t1733695899\\tcookie\\td58ba31f-3b4a-4568-83e2-289c676ee7dc\\n.biblegateway.com\\tTRUE\\t/\\tFALSE\\t1733695899\\tcookie_cst\\tzix7LPQsHA%3D%3D\\nwww.biblegateway.com\\tFALSE\\t/\\tFALSE\\t1733868673\\t_lr_env_src_ats\\tfalse\\n.0cf17917-395b-4f25-91cc-db3bdd6044b0.prmutv.co\\tTRUE\\t/\\tTRUE\\t1739225473\\tpxid\\t3ee1f9c9-d95d-445f-ad9f-f0f2bdc372f3\\n.biblegateway.com\\tTRUE\\t/\\tTRUE\\t1765836674\\t_ncg_sp_id.f6a2\\t0ed8b215-bd75-4a62-8386-6d8629e0e24a.1731276673.1.1731276674.1731276673.ed1fe254-14ad-4dde-8fe4-dea990ed7a45\\n.biblegateway.com\\tTRUE\\t/\\tTRUE\\t1765836674\\t_ncg_domain_id_\\t0ed8b215-bd75-4a62-8386-6d8629e0e24a.1.1731276673171.1794348673171\\n.newscgp.com\\tTRUE\\t/\\tTRUE\\t1762812674\\tsp\\t96aec538-11a0-4d22-a98e-88ca30f01b78\\n.biblegateway.com\\tTRUE\\t/\\tFALSE\\t1739052675\\t_gcl_au\\t1.1.1674770301.1731276676\\n.biblegateway.com\\tTRUE\\t/\\tFALSE\\t1765836677\\t_ga\\tGA1.1.542158400.1731276671\\n.newscgp.com\\tTRUE\\t/\\tTRUE\\t1765836680\\t_ncg_g_id_\\t96aec538-11a0-4d22-a98e-88ca30f01b78.3.1731276679.1794348673171\\n.3lift.com\\tTRUE\\t/\\tTRUE\\t1739053228\\ttluid\\t295370863831836129614\\n.openx.net\\tTRUE\\t/\\tTRUE\\t1762812816\\ti\\tf925f982-cbd6-00e6-2546-7fc98daf9a47|1731276679\\n.biblegateway.com\\tTRUE\\t/\\tTRUE\\t1765836681\\t_ncg_g_id_\\t96aec538-11a0-4d22-a98e-88ca30f01b78.3.1731276679.1794348673171\\n.adsrvr.org\\tTRUE\\t/\\tTRUE\\t1762826150\\tTDID\\tcb443b2e-d8d0-4efc-b05f-314f2b0faa9c\\n.bing.com\\tTRUE\\t/\\tTRUE\\t1764986791\\tMUID\\t04E774AD46526DE22835619E47786C87\\n.c.bing.com\\tTRUE\\t/\\tTRUE\\t1731881482\\tMR\\t0\\n.biblegateway.com\\tTRUE\\t/\\tTRUE\\t0\\thide-slider\\t1\\nsync.srv.stackadapt.com\\tFALSE\\t/\\tTRUE\\t1762812682\\tsa-user-id\\ts%3A0-e37df9d0-9bbc-5052-59af-0711c0f112ed.4ixlofij4ZQtHvP22xx7oVv7yQMAeNx7%2FnH7LDl8qKM\\n.srv.stackadapt.com\\tTRUE\\t/\\tTRUE\\t1762812682\\tsa-user-id\\ts%3A0-e37df9d0-9bbc-5052-59af-0711c0f112ed.4ixlofij4ZQtHvP22xx7oVv7yQMAeNx7%2FnH7LDl8qKM\\nsync.srv.stackadapt.com\\tFALSE\\t/\\tTRUE\\t1762812682\\tsa-user-id-v2\\ts%3A43350Ju8UFJZrwcRwPES7RiWOuQ.2IcXAnpsPzu5n7uAEAwkskq0EbVC3tg4KhLLtLMsAPg\\n.srv.stackadapt.com\\tTRUE\\t/\\tTRUE\\t1762812682\\tsa-user-id-v2\\ts%3A43350Ju8UFJZrwcRwPES7RiWOuQ.2IcXAnpsPzu5n7uAEAwkskq0EbVC3tg4KhLLtLMsAPg\\nsync.srv.stackadapt.com\\tFALSE\\t/\\tTRUE\\t1762812682\\tsa-user-id-v3\\ts%3AAQAKICc0G9nMpVOL67TlWFxBYG4UtX1QMvlwBtOZ3lOGaLUOEAEYAyCI38S5BjABOgSOHXLLQgTZSc7C.44YdP0hF5qg6fARD8wQtl4MIObUVedsPtqSwmzq6wZw\\n.srv.stackadapt.com\\tTRUE\\t/\\tTRUE\\t1762812682\\tsa-user-id-v3\\ts%3AAQAKICc0G9nMpVOL67TlWFxBYG4UtX1QMvlwBtOZ3lOGaLUOEAEYAyCI38S5BjABOgSOHXLLQgTZSc7C.44YdP0hF5qg6fARD8wQtl4MIObUVedsPtqSwmzq6wZw\\n.criteo.com\\tTRUE\\t/\\tTRUE\\t1764972682\\tuid\\t8d8b57b7-51d5-4736-b184-92933106b52d\\n.linkedin.com\\tTRUE\\t/\\tTRUE\\t1739104128\\tli_sugr\\t45577172-de1f-449c-a410-ebda327dddf4\\n.linkedin.com\\tTRUE\\t/\\tTRUE\\t1762864129\\tbcookie\\t\"v=2&980422ba-8b37-4864-827e-5cb2abac025a\"\\n.yahoo.com\\tTRUE\\t/\\tTRUE\\t1762847750\\tA3\\td=AQABBIgvMWcCENqAfFYiBGxBmYQUYD4d7KwFEgEBAQGBMmc7ZwAAAAAA_eMAAA&S=AQAAAnIGGi88hH5zDpgVgzNJZUQ\\n.everesttech.net\\tTRUE\\t/\\tTRUE\\t1762812682\\teverest_g_v2\\tg_surferid~ZzEviAAAAXC5ggAZ\\n.ad.gt\\tTRUE\\t/\\tTRUE\\t0\\tau_3p_check\\t1\\n.biblegateway.com\\tTRUE\\t/\\tTRUE\\t1762812682\\t_au_1d\\tAU1D-0100-001731276682-JVWQ1Z9A-JEM9\\n.amazon-adsystem.com\\tTRUE\\t/\\tTRUE\\t1751335030\\tad-id\\tA-uXvk52I09lvqm1eFgGDaQ\\n.amazon-adsystem.com\\tTRUE\\t/\\tTRUE\\t1765850230\\tad-privacy\\t0\\n.quantserve.com\\tTRUE\\t/\\tTRUE\\t1765491082\\tmc\\t67312f89-16cba-afd38-58ebc\\n.biblegateway.com\\tTRUE\\t/\\tFALSE\\t1765145482\\t__qca\\tP0-514064677-1731276681816\\n.adnxs.com\\tTRUE\\t/\\tTRUE\\t1739072085\\tuuid2\\t3201462394567835867\\n.crwdcntrl.net\\tTRUE\\t/\\tTRUE\\t1754604481\\t_cc_dc\\t0\\n.crwdcntrl.net\\tTRUE\\t/\\tTRUE\\t1754604481\\t_cc_id\\t358abe66b72d01e4bde63ec27692525a\\n.biblegateway.com\\tTRUE\\t/\\tFALSE\\t1739052682\\t_sharedid\\td6b2b8f9-c5b4-4ffc-a331-c020a6d4df34\\n.biblegateway.com\\tTRUE\\t/\\tFALSE\\t1739052682\\t_sharedid_cst\\tzix7LPQsHA%3D%3D\\n.ad.gt\\tTRUE\\t/\\tTRUE\\t1762812682\\tau_id\\tAU1D-0100-001731276682-JVWQ1Z9A-JEM9\\n.rubiconproject.com\\tTRUE\\t/\\tTRUE\\t1762826151\\tkhaos\\tM3C5FOZG-1Q-IVKJ\\n.biblegateway.com\\tTRUE\\t/\\tFALSE\\t1754604682\\t_cc_id\\t358abe66b72d01e4bde63ec27692525a\\n.biblegateway.com\\tTRUE\\t/\\tFALSE\\t1731881481\\tpanoramaId_expiry\\t1731881481401\\n.biblegateway.com\\tTRUE\\t/\\tFALSE\\t1731881481\\tpanoramaId\\t9d21df456e47514201b3b9e8943216d53938dcaaeb57578ff973152ccceaad8a\\n.biblegateway.com\\tTRUE\\t/\\tFALSE\\t1731881481\\tpanoramaIdType\\tpanoIndiv\\n.turn.com\\tTRUE\\t/\\tTRUE\\t1746828818\\tuid\\t4245257546871010674\\n.demdex.net\\tTRUE\\t/\\tTRUE\\t1746877025\\tdemdex\\t11207416568952437132606610138914747753\\n.tapad.com\\tTRUE\\t/\\tTRUE\\t1736460703\\tTapAd_TS\\t1731276681544\\n.tapad.com\\tTRUE\\t/\\tTRUE\\t1736460703\\tTapAd_DID\\td88985e4-cd83-4a41-be3a-5e64f6146c57\\n.dpm.demdex.net\\tTRUE\\t/\\tTRUE\\t1746830548\\tdpm\\t11207416568952437132606610138914747753\\n.sharethrough.com\\tTRUE\\t/\\tTRUE\\t1733868972\\tstx_user_id\\t9c123682-d593-4b0d-8787-d7369f1b36b2\\n.gumgum.com\\tTRUE\\t/\\tTRUE\\t1762812972\\tcs\\ttrue\\n.pubmatic.com\\tTRUE\\t/\\tTRUE\\t1762812703\\tKADUSERCOOKIE\\t4020F342-1C7D-4DFD-ADE1-025396EABCA7\\n.bidswitch.net\\tTRUE\\t/\\tTRUE\\t1762812684\\ttuuid\\t888beaff-11dd-4d5a-b842-25f2e0c59531\\n.bidswitch.net\\tTRUE\\t/\\tTRUE\\t1762812684\\tc\\t1731276683\\n.bidswitch.net\\tTRUE\\t/\\tTRUE\\t1762812684\\ttuuid_lu\\t1731276683\\n.casalemedia.com\\tTRUE\\t/\\tTRUE\\t1762826231\\tCMID\\tZzEvi9HM54sAAB9OAX39ZgAA\\n.casalemedia.com\\tTRUE\\t/\\tTRUE\\t1739052684\\tCMPS\\t1448\\n.casalemedia.com\\tTRUE\\t/\\tTRUE\\t1739066231\\tCMPRO\\t1448\\nwww.biblegateway.com\\tFALSE\\t/\\tFALSE\\t1733868783\\thb_insticator_uid\\t89fdffad-56a1-4fdb-9363-41d27c6ebd52\\n.biblegateway.com\\tTRUE\\t/\\tTRUE\\t1764972683\\t__gads\\tID=f684bafee552193a:T=1731276683:RT=1731276683:S=ALNI_MbOd4u5_Im-_9V0Vts_6--J5oOmmQ\\n.biblegateway.com\\tTRUE\\t/\\tTRUE\\t1764972683\\t__gpi\\tUID=00000f90a69ff4e8:T=1731276683:RT=1731276683:S=ALNI_Maw61IytOPFHuX-EX6N2AurL6lS3Q\\n.biblegateway.com\\tTRUE\\t/\\tTRUE\\t1746828683\\t__eoi\\tID=d3758b2459975a59:T=1731276683:RT=1731276683:S=AA-Afjb2zsP3Rav5BgjkZcwERZuD\\n.mediago.io\\tTRUE\\t/\\tTRUE\\t1762812687\\t__mguid_\\t7675d59b556568cb2ijxii00m3c5fskh\\n.tribalfusion.com\\tTRUE\\t/\\tTRUE\\t1739052687\\tANON_ID\\tatnoeUriItxP3PTThU1PDLMTQV3rfIfDPQAIGHns\\n.openx.net\\tTRUE\\t/\\tTRUE\\t1732572688\\tuniv_id\\t537072971|cb443b2e-d8d0-4efc-b05f-314f2b0faa9c|1731276687050393\\n.bidr.io\\tTRUE\\t/\\tTRUE\\t1765386818\\tbito\\tAAETWE7OYl8AABjTjzCyyw\\n.bidr.io\\tTRUE\\t/\\tTRUE\\t1765386689\\tbitoIsSecure\\tok\\n.postrelease.com\\tTRUE\\t/\\tTRUE\\t1762812692\\tvisitor\\t48538404-71ec-4418-806d-2d7b46a80b3b\\n.postrelease.com\\tTRUE\\t/\\tTRUE\\t1762812692\\tstatus\\t0\\n.simpli.fi\\tTRUE\\t/\\tTRUE\\t1762899092\\tsuid\\tEE0D2DCC0880418982417529511511F7\\n.sitescout.com\\tTRUE\\t/\\tTRUE\\t1762812817\\tssi\\t42222a13-df1e-4f43-b204-6efa56a6483c#1731276691955\\n.targeting.unrulymedia.com\\tTRUE\\t/\\tTRUE\\t1762812698\\t_rxuuid\\t%7B%22rx_uuid%22%3A%22RX-c5f80586-a48a-486f-a119-e06dae0e1d80-005%22%7D\\n.analytics.yahoo.com\\tTRUE\\t/\\tTRUE\\t1762812694\\tIDSYNC\\t18y3~2lra\\n.presage.io\\tTRUE\\t/\\tTRUE\\t1747087898\\tpresage-ssp\\t%7B%22uuid%22%3A%224ba303dd-8fc7-424b-9aa9-9db1c1ce0b19%22%7D\\n.presage.io\\tTRUE\\t/\\tTRUE\\t1731881494\\tpresage-freshness\\ttrue\\n.gumgum.com\\tTRUE\\t/\\tTRUE\\t1762812694\\tvst\\tu_5d16e63a-de95-4d1a-9a13-f92e33a2c9cf\\n.inmobi.com\\tTRUE\\t/\\tTRUE\\t1762812694\\tTEST-COOKIE\\tYES\\n.inmobi.com\\tTRUE\\t/\\tTRUE\\t1762812696\\tiid\\tID5-1-f1e89dd3-f4de-4923-bcc3-6b0d5d843f92\\n.adform.net\\tTRUE\\t/\\tTRUE\\t1733868695\\tC\\t1\\n.adform.net\\tTRUE\\t/\\tTRUE\\t1736461226\\tuid\\t6959021729217720312\\n.contextweb.com\\tTRUE\\t/\\tTRUE\\t1762380702\\tV\\t2RLaKfEGJgtX\\nbh.contextweb.com\\tFALSE\\t/\\tTRUE\\t0\\tINGRESSCOOKIE\\t8f0d685b11c9bd3f\\n.us.ck-ie.com\\tTRUE\\t/\\tTRUE\\t1731881495\\tCID\\t339afc26b9c1bba36da3fde36cf8b7ed\\n.lijit.com\\tTRUE\\t/\\tTRUE\\t1762812696\\tljt_reader\\tJpUTALZH7uGHxV4vQpKhFnw7\\n.ortb.net\\tTRUE\\t/\\tTRUE\\t1733868695\\tlluid\\t86a63807-4065-84b1-d93a-9632e182415b\\n.ortb.net\\tTRUE\\t/\\tTRUE\\t1762812695\\tllum\\teyJzaHIiOnsiMSI6MTczMTI3NjY5NDU4OX19\\n.deepintent.com\\tTRUE\\t/\\tTRUE\\t1765836695\\tCDIUSER\\tdi_5289a1e8c33940bca69f2\\n.deepintent.com\\tTRUE\\t/\\tTRUE\\t1765836695\\tCDIPARTNERS\\t%7B%221%22%3A%2220241110%22%7D\\n.adkernel.com\\tTRUE\\t/\\tTRUE\\t1733868816\\tADKUID\\tA873641542818254234\\n.ipredictive.com\\tTRUE\\t/\\tTRUE\\t1762812702\\tcu\\tb5531e1b-763f-4f22-8ac6-6f389b62977f|1731276694633\\n.e-volution.ai\\tTRUE\\t/\\tTRUE\\t1732486296\\tv_usr\\t6945eda5-f47c-4f3e-99b5-1117643f17fa\\n.e-volution.ai\\tTRUE\\t/\\tTRUE\\t1732486296\\tv_red\\t378\\n.inmobi.com\\tTRUE\\t/\\tTRUE\\t1762812696\\tgob_cookie\\tYES\\nbeacon.lynx.cognitivlabs.com\\tFALSE\\t/\\tTRUE\\t1762812699\\tUID\\t3385a352-f9cc-4561-9612-b8a49e2ac180\\n.smartadserver.com\\tTRUE\\t/\\tTRUE\\t1765491097\\tpid\\t6701190743912190883\\n.smartadserver.com\\tTRUE\\t/\\tTRUE\\t1765491097\\tTestIfCookieP\\tok\\n.1rx.io\\tTRUE\\t/\\tTRUE\\t1762812697\\t_rxuuid\\t%7B%22rx_uuid%22%3A%22RX-c5f80586-a48a-486f-a119-e06dae0e1d80-005%22%2C%22nxtrdr%22%3Afalse%7D\\n.tapad.com\\tTRUE\\t/\\tTRUE\\t1736460703\\tTapAd_3WAY_SYNCS\\t1!7582-2!7582-3!7582\\n.pubmatic.com\\tTRUE\\t/\\tTRUE\\t1739052702\\tKRTBCOOKIE_80\\t22987-CAESEIUHKP9ez1v8PFLdKW1QSOk&KRTB&16514-CAESEIUHKP9ez1v8PFLdKW1QSOk&KRTB&23025-CAESEIUHKP9ez1v8PFLdKW1QSOk&KRTB&23386-CAESEIUHKP9ez1v8PFLdKW1QSOk\\nbeacon.lynx.cognitivlabs.com\\tFALSE\\t/\\tTRUE\\t1762812699\\tss\\tdjH23hqDlLKeOqXSRQASYWQo2tJ1NPUHEh0pu%2FGd5u%2FmpKDVDIQA2vC%2FRAXGFQN3xJmBX8%2F37HouXDf0ewo%2F9w%3D%3D\\n.yieldmo.com\\tTRUE\\t/\\tTRUE\\t1762812701\\tyieldmo_id\\tVFeJyzzTTJzeDEJnDvyf%7C1731196800000%7C0\\n.ads.yieldmo.com\\tTRUE\\t/\\tTRUE\\t1762812700\\tre_sync\\tpp%3D1203115%7Cc%3D1203115%7Ct%3D1203115%7Ctapad%3D1203115%7Can%3D1203115\\n.biblegateway.com\\tTRUE\\t/\\tFALSE\\t1764954671\\tcto_bundle\\tIzlliV9qenBQT1daRllIVyUyQjJEV0Q0UWNzdkFuRW92T1I4M0xjd2R0alFXJTJCSGY0QXZnamRWV2l0V1ByZExkck1MY09nRjM4Y3NnS1FQVU5vTEppT1hRa3Y1JTJCZVElMkJJZ3lJelZtZE9YbTdlREpDQUMyOEFJTWNUc2E1ZHZpUkpVZjhWQWZ2eW5xbDFDVWdNbjdXeGlaRTBodDJGQSUzRCUzRA\\n.biblegateway.com\\tTRUE\\t/\\tFALSE\\t1764954671\\tcto_bidid\\tI7XDgF9FYWQ2NDk0eHJpNmtNeEJHNVVSSmdzb2VodFl0RVlmNUlUeUglMkJYaXM0b0xqMW1kMlFkV1lINGtIRlJobFVwVzU0Yjk1ZkN4S3FMQ2Z1bjA0VDVmVk5XMiUyRlBBdnBiVTNqYUhCeTk2M3BrVTRuJTJGZGxNUnlmSnJpVCUyQmElMkJ1QVhOJTJGWg\\n.media.net\\tTRUE\\t/\\tTRUE\\t1762812700\\tvisitor-id\\t3742782999866039000V10\\n.zemanta.com\\tTRUE\\t/\\tTRUE\\t1762812816\\tzuid\\twIYYJV2A00h0oLcXYNN5\\n.mathtag.com\\tTRUE\\t/\\tTRUE\\t1765231900\\tuuid\\t69116731-2f9b-4700-a85b-8ce31cd9e0f8\\n.w55c.net\\tTRUE\\t/\\tTRUE\\t1765404817\\twfivefivec\\tRBK6cr2t1Tag9J5\\n.trustedstack.com\\tTRUE\\t/\\tTRUE\\t1765577501\\tvisitor-id\\t3742782999866073000V10\\n.ads.yieldmo.com\\tTRUE\\t/\\tTRUE\\t1762812701\\tptrpp\\t2RLaKfEGJgtX\\n.adnxs.com\\tTRUE\\t/\\tTRUE\\t1739052701\\tanj\\tdTM7k!M40DEVNsVF\\']wIg2GTuCkz(G!@wnfH)iKLPP!R5QtV9j0ig%$jdQfm/]TsfwCJH[/X%W#.wL4W1Qw0pjj+=n\\n.smaato.net\\tTRUE\\t/\\tTRUE\\t1733091216\\tSCM\\t5fbc3c9584\\n.smaato.net\\tTRUE\\t/\\tTRUE\\t1733091101\\tSCMinmobi\\t5fbc3c9584\\n.smaato.net\\tTRUE\\t/\\tTRUE\\t1733091101\\tSCM1001299\\t5fbc3c9584\\n.taboola.com\\tTRUE\\t/\\tTRUE\\t1762813226\\tt_gid\\ta327443d-06c9-44a9-a757-3a2c57549b2e-tucte2ab51c\\n.teads.tv\\tTRUE\\t/\\tTRUE\\t1762726301\\ttt_viewer\\te3bda6fa-df94-4b9e-989f-a4bcd2ec7ed0\\n.kargo.com\\tTRUE\\t/\\tTRUE\\t1762812701\\tktcid\\tceb52d44-188a-04b4-5471-4e03c2f9cfec\\n.pubmatic.com\\tTRUE\\t/\\tTRUE\\t1739052701\\tKRTBCOOKIE_1030\\t23330-2RLaKfEGJgtX&KRTB&23333-2RLaKfEGJgtX\\ncs.chocolateplatform.com\\tFALSE\\t/\\tTRUE\\t1739052701\\tsp_cookie\\tsp-c43a352d1f814874a3724da7dd242103\\n.connatix.com\\tTRUE\\t/\\tTRUE\\t1733868701\\tcnx_userId\\te61c05ec9483480e8ac57ef6a3331015\\n.liadm.com\\tTRUE\\t/\\tTRUE\\t1765836702\\tlidid\\tcc8c249e-f0dc-4970-9951-aa755cb6f6d6\\n.contextweb.com\\tTRUE\\t/\\tTRUE\\t1762812702\\tpb_rtb_ev\\t3-1up5|7Bj.0.CAESEFhkI2OX9Tyh2wf5dBEoOgc|4is.0.CAESED03JrMuUZe2rUCbNt_N6ew|7TZ.0.1|7GB.0.1|2N.0.AQADDvcJw4GBwwI9w3dPAQEBAQEBAQCSGSD7jQEBAJIZIPuN|8fr.0.1|7bq.0.1|8vg.0.1\\n.aniview.com\\tTRUE\\t/\\tTRUE\\t1732140701\\t1_C_10\\t2RLaKfEGJgtX\\nsync.aniview.com\\tFALSE\\t/\\tTRUE\\t1732140701\\t1_C_10\\t2RLaKfEGJgtX\\n.rfihub.com\\tTRUE\\t/\\tTRUE\\t1764972817\\trud\\tH4sIAAAAAAAA_-MSsjQ3MDA2NrQwsDA0MbYwMbUwEuIz1DWIysoryzQuyElLSQEAGOw-WCQAAAA\\n.rfihub.com\\tTRUE\\t/\\tTRUE\\t0\\truds\\tH4sIAAAAAAAA_-MSsjQ3MDA2NrQwsDA0MbYwMbUwEuIz1DWIysoryzQuyElLSQEAGOw-WCQAAAA\\n.media.net\\tTRUE\\t/\\tTRUE\\t1761516702\\tdata-p\\t2RLaKfEGJgtX~~8\\n.lunamedia.live\\tTRUE\\t/\\tTRUE\\t1762812702\\txeluid\\t612178.fa1a7e92-354c-4910-b51a-a86a687c82e7\\n.media.net\\tTRUE\\t/\\tTRUE\\t1762726302\\tdata-rk\\t970033180814384582~~8\\n.adx.opera.com\\tTRUE\\t/\\tTRUE\\t1762812702\\tUID\\tOPUd9324f2d590644e3b3ddba282d062162\\n.agkn.com\\tTRUE\\t/\\tTRUE\\t1762812702\\tab\\t0001%3AtZhuQTL3%2F80RvYl8IRCUb5ctsDuKi85t\\n.rlcdn.com\\tTRUE\\t/\\tTRUE\\t1762812702\\trlas3\\tOrwLrGFFe0/SUjqd84q2xU6wi2grXbMmQTRY2KZkR3U=\\n.media6degrees.com\\tTRUE\\t/\\tTRUE\\t1746828702\\tclid\\t2smr9ng01171i8di0y79r155000000018r011a01b01\\n.media6degrees.com\\tTRUE\\t/\\tTRUE\\t1746828702\\tacs\\t012020k1smr9ngxzt10\\npool.admedo.com\\tFALSE\\t/\\tTRUE\\t1762812702\\ttuuid\\t00677062-0cae-44f8-9de6-df9ebb120536\\npool.admedo.com\\tFALSE\\t/\\tTRUE\\t1762812702\\tc\\t1731276700\\n.rlcdn.com\\tTRUE\\t/\\tTRUE\\t1736460702\\tpxrc\\tCJzfxLkGEgUI6EcQAA==\\n.mfadsrvr.com\\tTRUE\\t/\\tTRUE\\t1762812702\\ttuuid\\ta313893e-f68c-4a10-b569-dc9b7248a7eb\\n.mfadsrvr.com\\tTRUE\\t/\\tTRUE\\t1762812702\\tc\\t1731276701\\n.mfadsrvr.com\\tTRUE\\t/\\tTRUE\\t1762812702\\ttuuid_lu\\t1731276701\\n.company-target.com\\tTRUE\\t/\\tTRUE\\t1765837226\\ttuuid\\tfeb86d08-0d60-4a32-bd76-6236f5442ef3\\n.w55c.net\\tTRUE\\t/\\tTRUE\\t1733868703\\tmatchtriplelift\\t5\\n.ads.stickyadstv.com\\tTRUE\\t/\\tTRUE\\t1733868702\\tUID\\tb1b68555a5a399dc924239c2f77cae5\\n.sportradarserving.com\\tTRUE\\t/\\tTRUE\\t1762726302\\tzuuid\\t7f7ebb97-94d5-4470-895f-e7f76a0af1d7\\n.sportradarserving.com\\tTRUE\\t/\\tTRUE\\t1762726302\\tc\\t1731276701\\n.sportradarserving.com\\tTRUE\\t/\\tTRUE\\t1762726302\\tzuuid_lu\\t1731276701\\n.servenobid.com\\tTRUE\\t/\\tTRUE\\t1731881502\\tpid_312\\t3201462394567835867\\n.thrtle.com\\tTRUE\\t/\\tTRUE\\t1748556702\\tmc\\teyJpZCI6IjliYjRhZDc4LWI2MzYtNDMwZi04ZTVhLTcyMDhiY2EwMjI4OSIsImwiOjE3MzEyNzY3MDEyOTMsInQiOjF9\\n.pubmatic.com\\tTRUE\\t/\\tTRUE\\t1739052702\\tKRTBCOOKIE_699\\t22727-AAETWE7OYl8AABjTjzCyyw&KRTB&23649-AAETWE7OYl8AABjTjzCyyw\\n.pubmatic.com\\tTRUE\\t/\\tTRUE\\t1733868702\\tPugT\\t1731267322\\npool.admedo.com\\tFALSE\\t/\\tTRUE\\t1762812702\\ttuuid_lu\\t1731276701\\n.pubmatic.com\\tTRUE\\t/\\tTRUE\\t1739052703\\tSyncRTB4\\t1732406400%3A220_201_21_13\\n.pubmatic.com\\tTRUE\\t/\\tTRUE\\t1739052703\\tchkChromeAb67Sec\\t4\\n.adnxs.com\\tTRUE\\t/\\tTRUE\\t1739052781\\ticu\\tChgIodc0EAoYASABKAEw69_EuQY4AUABSAEQ69_EuQYYAA..\\n.adkernel.com\\tTRUE\\t/\\tTRUE\\t0\\tSSPZ\\t221544\\n.adkernel.com\\tTRUE\\t/\\tTRUE\\t0\\tDSP2F_77\\t688143\\n.adkernel.com\\tTRUE\\t/\\tTRUE\\t0\\tDSP2F_106\\t766575\\n.openx.net\\tTRUE\\t/\\tTRUE\\t1732572816\\tpd\\tv2|1731276680.11.8.115|iKvPvMgakWgy.bwuYhEg2f8.g6wvwVmmmKvJeSvuwiwI.hMfYn8nooqvR\\n.smaato.net\\tTRUE\\t/\\tTRUE\\t1733091216\\tSCMsas\\t5fbc3c9584\\n.pxl.iqm.com\\tTRUE\\t/\\tTRUE\\t1733868816\\tequativ\\tMTczMjQ4NjQxNTA0Mg==\\n.pxl.iqm.com\\tTRUE\\t/\\tTRUE\\t1732572816\\tiqm.retarget.uid\\t8c8dbe97-5b69-4a72-8b5e-e76c3eefb831\\n.adotmob.com\\tTRUE\\t/\\tTRUE\\t1746828816\\tuid\\t0b36220400a1ef0fa5b588cf\\n.adotmob.com\\tTRUE\\t/\\tTRUE\\t1746828816\\tuuid\\t0b36220400a1ef0fa5b588cf\\n.adotmob.com\\tTRUE\\t/\\tTRUE\\t1746828816\\tpartners\\tSMA%3A1731276815113\\n.adfarm1.adition.com\\tTRUE\\t/\\tTRUE\\t1739052817\\tUserID1\\t7435777300770584944\\n.creative-serving.com\\tTRUE\\t/\\tTRUE\\t1762380817\\ttuuid\\t74e95683-e2cb-4462-a5b0-7b861ae3544b\\n.creative-serving.com\\tTRUE\\t/\\tTRUE\\t1762380817\\tc\\t1731276815\\n.creative-serving.com\\tTRUE\\t/\\tTRUE\\t1762380817\\ttuuid_lu\\t1731276815\\n.csync.loopme.me\\tTRUE\\t/\\tTRUE\\t1739225617\\tviewer_token\\tba89c44a-bb1f-4926-a4b7-e6ddbea09cf1\\n.rqtrk.eu\\tTRUE\\t/\\tTRUE\\t1731881617\\tbrowser_id\\t1:12eaa32a-cb2b-45bc-a45f-7f21aadfe1a6\\n.rfihub.com\\tTRUE\\t/\\tTRUE\\t1764972817\\teud\\tH4sIAAAAAAAA_9vFyGtobmxoZG5mYWhqZmkCAPcDPM8QAAAA\\n.adentifi.com\\tTRUE\\t/\\tTRUE\\t1765836817\\tadtheorent[cuid]\\tcuid_07b0a6a3-9fb1-11ef-9f5d-12707100b72d\\n.sitescout.com\\tTRUE\\t/\\tTRUE\\t1733868817\\t_ssuma\\teyIyNCI6MTczMTI3NjgxNTg4NiwiMjYiOjE3MzEyNzY2OTkzMjEsIjE3IjoxNzMxMjc2NjkyNzY0LCIzOSI6MTczMTI3NjY5OTMyMSwiNyI6MTczMTI3NjY5OTMyMX0\\n.w55c.net\\tTRUE\\t/\\tTRUE\\t1733868817\\tmatchopenx\\t5\\n.blismedia.com\\tTRUE\\t/\\tTRUE\\t1762816817\\tb\\t6731300F105BB60345104B4DBLIS\\n.id5-sync.com\\tTRUE\\t/\\tTRUE\\t1739052817\\tid5\\tf64fcf13-5921-70e5-bdad-4e30cfd268c2#1731276815426#2\\n.creativecdn.com\\tTRUE\\t/\\tTRUE\\t1762812817\\tg\\t5HVSgiy3kPlpVarA6wUo_1731276816016\\n.semasio.net\\tTRUE\\t/\\tTRUE\\t1762812818\\tSEUNCY\\tF5E0C0002EBB27C4\\n.id5-sync.com\\tTRUE\\t/\\tTRUE\\t1739052819\\t3pi\\t112#1731276817306#1795441200|2#1731276816553#-822540841|102#1731276816106#1097161685|264#1731276816917#-412926128|10#1731276817459#1718237697|155#1731276817650#-19551840\\n.mediarithmics.com\\tTRUE\\t/\\tTRUE\\t1762812819\\tmics_vid\\t109667569221\\n.mediarithmics.com\\tTRUE\\t/\\tTRUE\\t1762812819\\tmics_uaid\\tweb:1:e75ce621-3bd9-41be-9d23-37bde696f724\\n.mediarithmics.com\\tTRUE\\t/\\tTRUE\\t1762812819\\tmics_lts\\t1731276818516\\n.admanmedia.com\\tTRUE\\t/\\tTRUE\\t1732483507\\tadmtr\\t86b3869e-fea8-4308-a304-d80a0349838e\\n.admanmedia.com\\tTRUE\\t/\\tTRUE\\t1732483507\\tac_r\\tCS159\\n.smartadserver.com\\tTRUE\\t/\\tTRUE\\t1762812821\\tcsync\\t33:ZzEvi9HM54sAAB9OAX39ZgAA&1448|66:0b36220400a1ef0fa5b588cf|92:2RLaKfEGJgtX|113:RX-c5f80586-a48a-486f-a119-e06dae0e1d80-005|116:wIYYJV2A00h0oLcXYNN5|127:AAETWE7OYl8AABjTjzCyyw|130:86b3869e-fea8-4308-a304-d80a0349838e|139:0\\n.login.microsoftonline.com\\tTRUE\\t/\\tTRUE\\t0\\tesctx-G3A2DwlyTu0\\tAQABCQEAAADW6jl31mB3T7ugrWTT8pFeNSbT6g7GzTXUUDzGQr3vghpK0B-AzuxHxbJ1dxHDq6a56wepuTOhvVz4-kMhOZ7qahUFoDWF0sqZ6x2W_aXzgR5EVWiqZvR8Mx51nWyIxjJmXsD8qkWmYpikiFrRW4EVYijldY9Ejga1qj7_sQHmgSAA\\n.biblegateway.com\\tTRUE\\t/\\tFALSE\\t1765837048\\t_ga_PFXKEWK1RR\\tGS1.1.1731276677.1.1.1731277048.0.0.0\\nautologon.microsoftazuread-sso.com\\tFALSE\\t/\\tTRUE\\t1733869052\\tfpc\\tAuRGyDbKrc1DsedOSQz-M50\\nautologon.microsoftazuread-sso.com\\tFALSE\\t/\\tTRUE\\t0\\tx-ms-gateway-slice\\testsfd\\nautologon.microsoftazuread-sso.com\\tFALSE\\t/\\tTRUE\\t0\\tstsservicecookie\\testsfd\\n.live.com\\tTRUE\\t/\\tFALSE\\t0\\txid\\td12ff920-5e49-40ef-88cd-1bd4a1bbdb41&&ODSP-ODWEB-ODCF&362\\n.live.com\\tTRUE\\t/\\tFALSE\\t0\\txidseq\\t1\\n.live.com\\tTRUE\\t/\\tFALSE\\t1731881866\\twla42\\t\\nonedrive.live.com\\tFALSE\\t/\\tTRUE\\t1762813068\\tMicrosoftApplicationsTelemetryDeviceId\\t2814cded-381e-4b62-98b7-ca03b032b242\\n.live.com\\tTRUE\\t/\\tFALSE\\t0\\tE\\tP:CSnYgdUB3Yg=:c9DB4W3nWNPbDMTyJHiB7isCXbRT4gFdLxkZez1w9js=:F\\nonedrive.live.com\\tFALSE\\t/\\tTRUE\\t1762813070\\tMSFPC\\tGUID=489a34952e254e98b35a2087a8cb3b0d&HASH=489a&LV=202411&V=4&LU=1731276465579\\nportal.office.com\\tFALSE\\t/\\tTRUE\\t0\\ts.SessID\\t2f17c868-f88e-47da-8f1d-927b49ae06b1\\nportal.office.com\\tFALSE\\t/\\tTRUE\\t0\\ts.cachemap\\t20\\nportal.office.com\\tFALSE\\t/\\tTRUE\\t0\\tx-portal-routekey\\tcus\\n.login.microsoftonline.com\\tTRUE\\t/\\tTRUE\\t0\\tesctx-B6pScqjHKMw\\tAQABCQEAAADW6jl31mB3T7ugrWTT8pFeisoCOYQsjSDqP5Mvz9mU_ePxvhOyOPxqrYb_MbSxI6Nn1bjpL9ORALxiLRn6xRdmwb9C0_ilM0WfXaSjDzLdgoJ25UZTBQNb941BKWt9dctlOrytPnnhPOYx4D__vuz040-MCyJnWjkF9xuy6NnOvCAA\\n.as-proceeding.com\\tTRUE\\t/\\tFALSE\\t0\\tOJSASID\\togqnaobcl682kh0tl3mf0nd8b0\\n.sciencedirect.com\\tTRUE\\t/\\tTRUE\\t1746915581\\tEUID\\tae8fb262-cd73-4e51-9bdc-fb44bb99fde3\\n.sciencedirect.com\\tTRUE\\t/\\tTRUE\\t0\\tsd_session_id\\t215f350f9e853244d29b17d20388f4d69b41gxrqa\\n.sciencedirect.com\\tTRUE\\t/\\tTRUE\\t0\\tacw\\t215f350f9e853244d29b17d20388f4d69b41gxrqa%7C%24%7CFC35873265DC719EE1A3FD3699D36B5CCBDEC702111391335F3E6852104D42E8CC1258093665A6E6FE3A98C1722C314CEC3F61930474758F3FBA44D1BD4E4F2EB0469A67597464825D387A21AFA2E514\\n.sciencedirect.com\\tTRUE\\t/\\tTRUE\\t1765932592\\tid_ab\\tAEG\\n.www.researchgate.net\\tTRUE\\t/\\tTRUE\\t1762860526\\tdid\\t4WeQ1wWIO1YfhBpQxIsAp3MU1wvW1Vk5OSWdhL2iY4ZTrhelf9Zy4h0ULsADJFsj\\n.www.researchgate.net\\tTRUE\\t/\\tTRUE\\t1765884526\\tptc\\tRG1.6085236896915965319.1731277183\\n.www.researchgate.net\\tTRUE\\t/\\tTRUE\\t0\\tisInstIp\\tfalse\\n.www.researchgate.net\\tTRUE\\t/\\tTRUE\\t0\\thasPdpNext\\tfalse\\n.researchgate.net\\tTRUE\\t/\\tTRUE\\t0\\t_cfuvid\\tTbiLVAUitj_lufG0avTOWjL.qQq9e77RPkX3E3AkBF8-1731277184030-0.0.1.1-604800000\\nid.elsevier.com\\tFALSE\\t/\\tTRUE\\t0\\tPF\\tv5DpFHiGhzGAPWnbgyQ5SrJgslOAhx1uz2KISROLlOTu\\n.scholar.google.com\\tTRUE\\t/\\tTRUE\\t1765837187\\tGSP\\tLM=1731277186:S=_gxB2hGC6EyB_CtH\\n.sciencedirect.com\\tTRUE\\t/\\tFALSE\\t0\\tAMCVS_4D6368F454EC41940A4C98A6%40AdobeOrg\\t1\\n.sciencedirect.com\\tTRUE\\t/\\tFALSE\\t1765837190\\tAMCV_4D6368F454EC41940A4C98A6%40AdobeOrg\\t179643557%7CMCIDTS%7C20038%7CMCMID%7C11172165011308535882603081650624744572%7CMCAAMLH-1731881990%7C7%7CMCAAMB-1731881990%7CRKhpRz8krg2tLO6pguXWp5olkAcUniQYPHaMWWgdJ3xzPWQmdj0y%7CMCOPTOUT-1731284390s%7CNONE%7CMCAID%7CNONE%7CMCCIDH%7C-1660478464%7CvVersion%7C5.5.0\\n.researchgate.net\\tTRUE\\t/\\tFALSE\\t1731411346\\t_gid\\tGA1.2.1004899779.1731277193\\n.pbs.yahoo.com\\tTRUE\\t/\\tTRUE\\t1747002025\\tuids\\teyJ0ZW1wVUlEcyI6eyJ0cmlwbGVsaWZ0Ijp7InVpZCI6IjI5NTM3MDg2MzgzMTgzNjEyOTYxNCIsImV4cGlyZXMiOiIyMDI0LTExLTI0VDIyOjIwOjIzLjY0MDY3NjAxOFoifX19\\n.pbs.optidigital.com\\tTRUE\\t/\\tTRUE\\t1739053226\\tuidod\\te30=\\n.pbs.optidigital.com\\tTRUE\\t/\\tTRUE\\t1739053226\\tuidcriteo\\teyJ1aWQiOiJrLV82a0tNN1lMLTRPN0VZTGhxT1Y4d3ktYTl0RHg2T1RFUjJoV21BIn0=\\n.pbs.optidigital.com\\tTRUE\\t/\\tTRUE\\t1739053226\\tuidonetag\\teyJ1aWQiOiJPN1N3eWQ0Nk90RVo0V0lHNzhEVDNxRDcyT29hRTQ4TUtZWHc4N1VMN3JJIn0=\\n.pbs.optidigital.com\\tTRUE\\t/\\tTRUE\\t1739053226\\tuidsmartadserver\\teyJ1aWQiOiI2NzAxMTkwNzQzOTEyMTkwODgzIn0=\\n.pbs.optidigital.com\\tTRUE\\t/\\tTRUE\\t1739053226\\tuidrubicon\\teyJ1aWQiOiJNM0M1Rk9aRy0xUS1JVktKIn0=\\n.pbs.optidigital.com\\tTRUE\\t/\\tTRUE\\t1739053226\\tuidadnxs\\teyJ1aWQiOiIzMjAxNDYyMzk0NTY3ODM1ODY3In0=\\n.quantserve.com\\tTRUE\\t/\\tTRUE\\t1739053226\\tsp\\tCgkIuYoDEgMQ7g0KCQiF_wISAxDuDQoJCIKtAxIDEO4NCggIknESAxDuDQoJCOirBhIDEO4N\\n.pbs.optidigital.com\\tTRUE\\t/\\tTRUE\\t1739053226\\tuidtriplelift\\teyJ1aWQiOiIyOTUzNzA4NjM4MzE4MzYxMjk2MTQifQ==\\n.company-target.com\\tTRUE\\t/\\tTRUE\\t1765837226\\ttuuid_lu\\t1731277225|eqx:0|ix:0|tlx:0\\n.storygize.net\\tTRUE\\t/\\tTRUE\\t1765837227\\tU\\td468c23a-609a-4474-8b1b-2dccb885f045\\n.www.researchgate.net\\tTRUE\\t/\\tTRUE\\t1762860526\\tpl\\tKe04JYJlNX3Zwmj1OWvx0PYRy5MAtlbvmp8On8uuDKqxZsJCj20qMcZ3JjDvOodub0D1o6kXRcuPC0yd4k5gfeQdStjzWsjBFZe50pbp398iu4rG9eT4Xg4N1B10BmO0\\n.mdpi.com\\tTRUE\\t/\\tTRUE\\t0\\t__cfruid\\tf2d3b6a1685745bc2d690cbb580f55b5684656d6-1731277281\\n.mdpi.com\\tTRUE\\t/\\tTRUE\\t0\\t_cfuvid\\tSJfdHy6.KZ0ETc4iR8kSRA0jslqH8Wo07NvL6fTSqhI-1731277281654-0.0.1.1-604800000\\nwww.mdpi.com\\tFALSE\\t/\\tTRUE\\t1762813289\\tCookieConsent\\t{stamp:%27k3cWei6Zg/xQjT4p70PjG1L9heUA8nM+dI9LIY2C/Ek7srBoi/5qFw==%27%2Cnecessary:true%2Cpreferences:true%2Cstatistics:true%2Cmarketing:true%2Cmethod:%27explicit%27%2Cver:1%2Cutc:1731277289786%2Cregion:%27ca%27}\\nwww.mdpi.com\\tFALSE\\t/\\tFALSE\\t1762864127\\tmdpi_layout_type_v2\\tmobile\\n.mdpi.com\\tTRUE\\t/\\tFALSE\\t1739053292\\t_gcl_au\\t1.1.363502490.1731277292\\n.linkedin.com\\tTRUE\\t/\\tTRUE\\t1733869292\\tUserMatchHistory\\tAQLysDfGUagShQAAAZMYKvzx4xyicwfvhaPyDEP5DEJ6ldsPajK8dHR8keO2sFlXo7H_F_vBbddWDw\\n.linkedin.com\\tTRUE\\t/\\tTRUE\\t1733869292\\tAnalyticsSyncHistory\\tAQKKbA74Xbgw1QAAAZMYKvzxEcT9xFhkXyp3BoEquaKHsQtaF8VePNExiJWP1k040fXx6nbkyHJWBnysNgShRg\\n.www.linkedin.com\\tTRUE\\t/\\tTRUE\\t1762813292\\tbscookie\\t\"v=1&202411102221305ff11b42-afb4-431c-8d53-e4cd207ad324AQGMPKXmDFm8xYAM-tkSyxP0UVrASJOk\"\\n.mdpi.com\\tTRUE\\t/\\tFALSE\\t1731414596\\t_gid\\tGA1.2.950323080.1731277292\\n.www.mdpi.com\\tTRUE\\t/\\tFALSE\\t1765232493\\t_pk_id.1.0af8\\t3f995dac7435c4f7.1731277293.\\n.www.google-analytics.com\\tTRUE\\t/\\tTRUE\\t1739104129\\tar_debug\\t1\\n.mdpi.com\\tTRUE\\t/\\tFALSE\\t0\\tcebs\\t1\\n.github.com\\tTRUE\\t/\\tTRUE\\t1762813519\\t_octo\\tGH1.1.698905072.1731277518\\n.github.com\\tTRUE\\t/\\tTRUE\\t0\\tpreferred_color_mode\\tlight\\n.github.com\\tTRUE\\t/\\tTRUE\\t0\\ttz\\tAmerica%2FNew_York\\ndrive.google.com\\tFALSE\\t/\\tTRUE\\t1765837553\\tOSID\\tg.a000qAhfxmRmeY75dxGFomOyNvmRfiINkKBKND96ie3D-wT2p-1EtMuJnuSonzLzMgrvb7u9rgACgYKAbISARUSFQHGX2Mi4UgOzmL_rvXrSTtkCTYB7xoVAUF8yKowR8hwwA4084ANNH3Hdqi-0076\\ndrive.google.com\\tFALSE\\t/\\tTRUE\\t1765837553\\t__Secure-OSID\\tg.a000qAhfxmRmeY75dxGFomOyNvmRfiINkKBKND96ie3D-wT2p-1EyVHkhcy9LYeiWg6cPylS0gACgYKASISARUSFQHGX2MiVKC-pnKdjq_dqx2y98ZsPxoVAUF8yKqrKOzHemy7Fybl2cBALYf70076\\n.mdpi.com\\tTRUE\\t/\\tTRUE\\t1762864129\\t_hjSessionUser_1635407\\teyJpZCI6IjE1NDY2MmJmLWY5ZjQtNTkyOC05YmY3LTM2MDRhMDJlYTdlNSIsImNyZWF0ZWQiOjE3MzEyNzcyOTQwMDIsImV4aXN0aW5nIjp0cnVlfQ==\\n.medium.com\\tTRUE\\t/\\tTRUE\\t1765837766\\tuid\\tlo_025efb2ab6bb\\n.medium.com\\tTRUE\\t/\\tTRUE\\t1765837766\\tsid\\t1:qBMHXO1LASgPYJH5HRW6kxY2v7RLkAmMNZbK2zksmFaCOaV/s2s7L3VSWAmp/KI/\\n.medium.com\\tTRUE\\t/\\tTRUE\\t0\\t_cfuvid\\t1BsynsKaQ8nLwj8OCSgV31E.VUd1yOtejZaKDXFBwG4-1731277766164-0.0.1.1-604800000\\n.medium.com\\tTRUE\\t/\\tFALSE\\t1765837772\\t_ga\\tGA1.1.2028469916.1731277773\\n.app.link\\tTRUE\\t/\\tTRUE\\t1762813772\\t_s\\tKdWbMonp%2F0mUDBwP3xQwPFjM7dAHfj0%2BKZkAucflmkXQgl%2B4XACTcS5v%2BROe1YNw\\n.extension.joinhoney.com\\tTRUE\\t/\\tFALSE\\t1765934728\\thoneyExtDeviceId\\t9064144840593533904\\n.joinhoney.com\\tTRUE\\t/\\tFALSE\\t1731461134\\texv\\tch.17.0.0.8185022923061706293.9064144840593533904\\n.medium.com\\tTRUE\\t/\\tFALSE\\t1765837788\\t_ga_7JY7T788PK\\tGS1.1.1731277772.1.1.1731277788.0.0.0\\nieeexplore.ieee.org\\tFALSE\\t/\\tTRUE\\t1731883346\\tAWSALBAPP-1\\t_remove_\\nieeexplore.ieee.org\\tFALSE\\t/\\tTRUE\\t1731883346\\tAWSALBAPP-2\\t_remove_\\nieeexplore.ieee.org\\tFALSE\\t/\\tTRUE\\t1731883346\\tAWSALBAPP-3\\t_remove_\\n.ieeexplore.ieee.org\\tTRUE\\t/\\tFALSE\\t0\\tTS016349ac\\t01f15fc87c445c8168169caf940d8fd8f6357efc0be1d178aa7a260225ae318a5f7ed838ab410512ec8ede6011a4ed5bb4cd0ce374\\nieeexplore.ieee.org\\tFALSE\\t/\\tTRUE\\t0\\tJSESSIONID\\t13544ECD15A75C608CE559B0A7B29383\\n.ieeexplore.ieee.org\\tTRUE\\t/\\tTRUE\\t0\\tipCheck\\t2001:1970:48c3:5300:3082:df7d:896f:8b5c\\nieeexplore.ieee.org\\tFALSE\\t/\\tTRUE\\t1731883346\\tAWSALBAPP-0\\tAAAAAAAAAACBE83yTowj6iRtdpin7GCz0A/X4QHDTunahdf9uvmppFxzvqP3Z8FpWjtlxW3iOgMVRo+ndgQcC4DKA+0a05W5y1uhlgMwF37QO1tdDudAS0B7a1x8MWVT1sqC22LiM6AAoB/MGNfePOtd+bZa0ht9kJNmZl9kSLRRqA9x7YxyKJ3rrCHwJBwy/HmXpO0fxixtuXygziWeGg==\\nieeexplore.ieee.org\\tFALSE\\t/\\tFALSE\\t0\\tTS8b476361027\\t0807dc117eab2000808a6fadeaa08898e5e50786ae9667182e9df45c27abd3ebefdabe0e7b5ee5e2085e7488f81130002796de68c1bff4e19845d0ffc4c8164989ee4a31305f5df20766793b581dbddcbcd8a80b2b3aca87169043d7b14f9a20\\nieeexplore.ieee.org\\tFALSE\\t/\\tFALSE\\t1765838547\\tfp\\t92e92838f41afe1508ae02959eb9f3b9\\n.ieeexplore.ieee.org\\tTRUE\\t/\\tFALSE\\t0\\tAMCVS_8E929CC25A1FB2B30A495C97%40AdobeOrg\\t1\\n.everesttech.net\\tTRUE\\t/\\tTRUE\\t1733956948\\tev_sync_dd\\t20241110\\n.ieee.org\\tTRUE\\t/\\tFALSE\\t1765838548\\ts_ecid\\tMCMID%7C11064338983282893112664988868285448375\\n.ieeexplore.ieee.org\\tTRUE\\t/\\tFALSE\\t1765838549\\tAMCV_8E929CC25A1FB2B30A495C97%40AdobeOrg\\t359503849%7CMCIDTS%7C20038%7CMCMID%7C11064338983282893112664988868285448375%7CMCAAMLH-1731883348%7C7%7CMCAAMB-1731883348%7CRKhpRz8krg2tLO6pguXWp5olkAcUniQYPHaMWWgdJ3xzPWQmdj0y%7CMCOPTOUT-1731285749s%7CNONE%7CMCAID%7CNONE%7CvVersion%7C5.0.1\\n.ieee.org\\tTRUE\\t/\\tFALSE\\t1762814549\\tutag_main\\tv_id:0193183e28e0007b66dc66457e480506f003d06700bd0$_sn:1$_se:2$_ss:0$_st:1731280349999$ses_id:1731278547169%3Bexp-session$_pn:1%3Bexp-session$vapi_domain:ieeexplore.ieee.org\\n.ieeexplore.ieee.org\\tTRUE\\t/\\tFALSE\\t0\\ts_cc\\ttrue\\n.smetrics-ieeexplore.ieee.org\\tTRUE\\t/\\tFALSE\\t1765838550\\ts_ecid\\tMCMID%7C11064338983282893112664988868285448375\\ncreate.microsoft.com\\tFALSE\\t/\\tTRUE\\t1733871546\\tCreateVisitorId\\t21115c32-f240-432d-8a16-454ef5a67b6b\\ncreate.microsoft.com\\tFALSE\\t/\\tTRUE\\t1762815549\\tMicrosoftApplicationsTelemetryDeviceId\\t4e5455f2-de76-466c-a349-838ccd6e2637\\ncreate.microsoft.com\\tFALSE\\t/\\tTRUE\\t1733871551\\tCreateServerVersion\\t1.1.02861.2215\\n.login.microsoftonline.com\\tTRUE\\t/\\tTRUE\\t0\\tesctx-2utdX39gOdc\\tAQABCQEAAADW6jl31mB3T7ugrWTT8pFe9Jpqys4Hb_Jc2KV00S9_CiF3EOyzEE1o-fcdwfdsNHoMkvJ7yOUlgjsRSzJTScKb1nc2oTMGi3jcoBDVA-HNMVJav6PjKdUrY7DW5zjcKJrdIULckUm7SRiS5yXLLXY3bNfcgDUNrx_pGQaRxPNP5CAA\\n.login.microsoftonline.com\\tTRUE\\t/\\tTRUE\\t0\\tesctx-8K1zMfG48V4\\tAQABCQEAAADW6jl31mB3T7ugrWTT8pFeSWAAkehsolDwRNsk3Laz1u_K1KJTdShnArqGrD3ojUcg4Bel9kE9dvY7P4wat09f4x2ll6oAKo89elysyTdsSrkdRt-IUXN5t84iAaqmKx0zENqxH2w4Vk-CJI2ZuJKLwkPr7mudp19ZsQy_u_dzSiAA\\n.login.microsoftonline.com\\tTRUE\\t/\\tTRUE\\t0\\tesctx-uaI6ervEig\\tAQABCQEAAADW6jl31mB3T7ugrWTT8pFeZj2tgbBC0_2l2dp5JZPaXTWtgNKlLOxUnsP_ax6r0QUghaKXby58HXhWrAWgei8JHcPvZJJZXk4AFnXqJoZXA-K7RzxjSSzKywTxWwlu0YuNZMp909JJ_tqQSjhnmsdBL6G_TxBTEyPPEA5L7SjJBCAA\\n.sciencedirect.com\\tTRUE\\t/\\tFALSE\\t0\\ts_sess\\t%20s_ppvl%3D%3B%20s_cpc%3D0%3B%20s_ppv%3Dsd%25253Apdfft%25253Apdf%25253Aurl%252C100%252C100%252C739%252C1600%252C739%252C1600%252C900%252C1%252CP%3B%20e41%3D1%3B%20s_sq%3D%3B%20s_cc%3Dtrue%3B\\n.sciencedirect.com\\tTRUE\\t/\\tFALSE\\t1765841410\\ts_pers\\t%20c19%3Dsd%253Aproduct%253Ajournal%253Aarticle%7C1731283209999%3B%20v68%3D1731281390775%7C1731283210013%3B%20v8%3D1731281410030%7C1825889410030%3B%20v8_s%3DLess%2520than%25201%2520day%7C1731283210030%3B\\n.sciencedirect.com\\tTRUE\\t/\\tFALSE\\t1762817413\\tOptanonConsent\\tisGpcEnabled=0&datestamp=Sun+Nov+10+2024+18%3A30%3A13+GMT-0500+(Eastern+Standard+Time)&version=202402.1.0&browserGpcFlag=0&isIABGlobal=false&hosts=&consentId=8a9b7774-3950-45ec-8172-eef7fb3d7a1e&interactionCount=1&isAnonUser=1&landingPath=NotLandingPage&groups=1%3A1%2C3%3A1%2C2%3A1%2C4%3A1&geolocation=CA%3BON&AwaitingReconsent=false\\n.sciencedirect.com\\tTRUE\\t/\\tFALSE\\t1762817413\\tOptanonAlertBoxClosed\\t2024-11-10T23:30:13.087Z\\n.youtube.com\\tTRUE\\t/\\tFALSE\\t1762820403\\tSIDCC\\tAKEyXzVdjllntKu2ibepBC1X4N3HfeXzTcfqqhrvnroc9zEtZ0_aEYzVOCR0vXB-k3uQV0gS\\n.youtube.com\\tTRUE\\t/\\tTRUE\\t1762820403\\t__Secure-1PSIDCC\\tAKEyXzUeVA2F8_0PGESOxS9tfrAI1xLpakp1ZFcuOwwyeDCDWxcW_CKYrPNqc8hueQvM3t4mtw\\nwww.businessinsider.com\\tFALSE\\t/\\tFALSE\\t1739066147\\tinsider_uid\\tnull\\nwww.businessinsider.com\\tFALSE\\t/\\tFALSE\\t1765850147\\t_ABTest_ctc\\tc\\nwww.businessinsider.com\\tFALSE\\t/\\tFALSE\\t1762826147\\tuniversal_id\\tf0fdf67c-1f4f-4bed-b28d-2f08fdb9b81c\\nwww.businessinsider.com\\tFALSE\\t/\\tFALSE\\t1762826147\\tanonymous_id\\t734c96fa-17c9-43ca-bd54-954b39579b00\\n.www.businessinsider.com\\tTRUE\\t/\\tFALSE\\t1762826147\\tfenrir_anonymous_id\\t734c96fa-17c9-43ca-bd54-954b39579b00\\n.www.businessinsider.com\\tTRUE\\t/\\tFALSE\\t1762826147\\tfenrir_insider_uid\\tnull\\n.businessinsider.com\\tTRUE\\t/\\tFALSE\\t1739066148\\t_gcl_au\\t1.1.951264589.1731290148\\n.businessinsider.com\\tTRUE\\t/\\tTRUE\\t1746924947\\tpermutive-id\\t5e4c737f-e3ad-49e9-a63c-68bba7a44781\\nmy.businessinsider.com\\tFALSE\\t/\\tFALSE\\t1739066148\\tanonymous_id\\t8a821e7a-b47d-466c-83f5-f8c56bcd6db7\\nmy.businessinsider.com\\tFALSE\\t/\\tFALSE\\t1762826148\\tmyinsider-anonymous-id\\t8a821e7a-b47d-466c-83f5-f8c56bcd6db7\\n.businessinsider.com\\tTRUE\\t/\\tFALSE\\t1765850148\\t_ga\\tGA1.1.1393467033.1731290149\\n.businessinsider.com\\tTRUE\\t/\\tTRUE\\t1746924950\\t___nrbic\\t%7B%22isNewUser%22%3Atrue%2C%22previousVisit%22%3A1731290148%2C%22currentVisitStarted%22%3A1731290148%2C%22sessionId%22%3A%229c179627-e0c6-49c4-92a7-2b6d92160adf%22%2C%22sessionVars%22%3A%5B%5D%2C%22visitedInThisSession%22%3Atrue%2C%22pagesViewed%22%3A1%2C%22landingPage%22%3A%22https%3A//www.businessinsider.com/guides/tech/facetime-for-android%22%2C%22referrer%22%3A%22https%3A//www.google.com/%22%2C%22lpti%22%3A%222023-06-14T17%3A04%3A53Z%22%7D\\n.businessinsider.com\\tTRUE\\t/\\tTRUE\\t1746924950\\t___nrbi\\t%7B%22firstVisit%22%3A1731290148%2C%22userId%22%3A%2266a0ae3c-e769-402d-a7c9-dce833f19c77%22%2C%22userVars%22%3A%5B%5D%2C%22futurePreviousVisit%22%3A1731290148%2C%22timesVisited%22%3A1%7D\\n.businessinsider.com\\tTRUE\\t/\\tTRUE\\t1746924950\\tcompass_uid\\t66a0ae3c-e769-402d-a7c9-dce833f19c77\\nwww.businessinsider.com\\tFALSE\\t/\\tFALSE\\t1739066150\\tcrossdomain_id_set\\t1\\nevents.newsroom.bi\\tFALSE\\t/\\tTRUE\\t1746842158\\t3378_u\\t66a0ae3c-e769-402d-a7c9-dce833f19c77\\nevents.newsroom.bi\\tFALSE\\t/\\tTRUE\\t1733882155\\t3378_lv\\tnull\\nevents.newsroom.bi\\tFALSE\\t/\\tTRUE\\t1733882158\\t3378_ut\\t0\\n.3aba5292-ba75-422b-8715-bd21146f7836.prmutv.co\\tTRUE\\t/\\tTRUE\\t1739238949\\tpxid\\tfbc2889a-05a4-446a-bfb8-8ac3091f2480\\n.adsrvr.org\\tTRUE\\t/\\tTRUE\\t1762826150\\tTDCPM\\tCAESFAoFdGFwYWQSCwj2jdnI1PfAPRAFEhUKBmNhc2FsZRILCIDhguLU98A9EAUSFgoHc3Z4OXQ1MBILCIzB6enU98A9EAUSGwoMc2hhcmV0aHJvdWdoEgsIqvjn-tX3wD0QBRgBIAEoAjILCPb5z6XW_8A9EAU4AVoHZGJlZ3BwY2AC\\npermutive.businessinsider.com\\tFALSE\\t/\\tFALSE\\t1765850150\\tpermutive-id-HttpOnly\\t5e4c737f-e3ad-49e9-a63c-68bba7a44781\\n.rubiconproject.com\\tTRUE\\t/\\tTRUE\\t1762826151\\taudit\\t1|1km25kFZh1WhvIepJSqkvYHIOpJ2NLJU8chNBj6sy+vSqTRsoYL8tDaQ7V6F7B75wuE73kiZtvnyUhTWCqUS/Pv31DA4fHDqMp0HTDw5gZ7V/IjBlWfcnTSqLulYsgDfb2uA/yEVmZAMgzI5iUKoyiOzwHei3ELTYPDxny9O7hNPVHjylZIeXNAPlTu0R9RN\\nwww.businessinsider.com\\tFALSE\\t/\\tFALSE\\t1731690102\\tAWSALBTG\\tyuG0of77sxX+73ZoGjNcLO+sxHZdYx9iUpWUr7y4SootaTxO0bGmKQ/o59MLuHaPV0U9hm/Gxj7ejAc32zgjBfQ3B8Hc6HwWmOTicGi1RsiP17eIIxOfWZ/lHRnNzMt7BQGKY0K9JkqmwnuKWLb2eG42Ik5yhS3ddPBVuxzCx84J\\nwww.businessinsider.com\\tFALSE\\t/\\tTRUE\\t1731690102\\tAWSALBTGCORS\\tyuG0of77sxX+73ZoGjNcLO+sxHZdYx9iUpWUr7y4SootaTxO0bGmKQ/o59MLuHaPV0U9hm/Gxj7ejAc32zgjBfQ3B8Hc6HwWmOTicGi1RsiP17eIIxOfWZ/lHRnNzMt7BQGKY0K9JkqmwnuKWLb2eG42Ik5yhS3ddPBVuxzCx84J\\n.businessinsider.com\\tTRUE\\t/\\tFALSE\\t1765850163\\t_ga_E21CV80ZCZ\\tGS1.1.1731290148.1.1.1731290162.46.0.0\\nwww.shazam.com\\tFALSE\\t/\\tFALSE\\t1762826186\\tgeoip_country\\tCA\\nwww.shazam.com\\tFALSE\\t/\\tFALSE\\t1733882170\\t_bszm\\t1\\n.support.google.com\\tTRUE\\t/\\tFALSE\\t1731376699\\t_gid\\tGA1.3.1534095808.1731290215\\nwww.aha-music.com\\tFALSE\\t/\\tFALSE\\t1731376626\\tvisited\\t1\\n.bttrack.com\\tTRUE\\t/\\tTRUE\\t1739066230\\tGLOBALID\\t2uKlc8-sIBd987FnXwNFZmP6fgwDX1WFcXQ45YiyI7sORDxrcAlC14S3nR2p4YxQIWr24sw2SZQC4TM1\\n.ads.pubmatic.com\\tTRUE\\t/\\tTRUE\\t1731376634\\tKCCH\\tYES\\nwww.midomi.com\\tFALSE\\t/\\tFALSE\\t1762826248\\tOptanonAlertBoxClosed\\t2024-11-11T01:57:28.812Z\\nwww.midomi.com\\tFALSE\\t/\\tFALSE\\t1762826248\\tOptanonConsent\\tisIABGlobal=false&datestamp=Sun+Nov+10+2024+20%3A57%3A28+GMT-0500+(Eastern+Standard+Time)&version=6.2.0&consentId=81c9ac1a-8639-448e-9cf3-ce5643b51d79&interactionCount=1&landingPath=NotLandingPage&groups=C0001%3A1%2CC0003%3A1%2CC0004%3A1%2CC0002%3A1&hosts=&legInt=\\n.midomi.com\\tTRUE\\t/\\tFALSE\\t1765850248\\t_ga\\tGA1.2.1177889168.1731290249\\n.midomi.com\\tTRUE\\t/\\tFALSE\\t1731376648\\t_gid\\tGA1.2.283890240.1731290249\\n.midomi.com\\tTRUE\\t/\\tFALSE\\t1765850269\\t_ga_EV5C59Z3H9\\tGS1.2.1731290249.1.1.1731290269.0.0.0\\n.blog.google\\tTRUE\\t/\\tFALSE\\t1731376686\\t_gid\\tGA1.2.1811577003.1731290286\\n.blog.google\\tTRUE\\t/\\tFALSE\\t1765850286\\t_ga\\tGA1.2.783862484.1731290286\\n.blog.google\\tTRUE\\t/\\tFALSE\\t1765850288\\t_ga_TMN2946Z0E\\tGS1.1.1731290285.1.0.1731290288.0.0.0\\n.support.google.com\\tTRUE\\t/\\tFALSE\\t1765850299\\t_ga\\tGA1.3.1974279069.1731290215\\n.support.google.com\\tTRUE\\t/\\tFALSE\\t1765850308\\t_ga_H30R9PNQFN\\tGS1.1.1731290215.1.1.1731290308.0.0.0\\n.geeksforgeeks.org\\tTRUE\\t/\\tFALSE\\t0\\thttp_referrer\\thttps://www.geeksforgeeks.org/how-to-find-a-song-by-humming-on-google/\\n.geeksforgeeks.org\\tTRUE\\t/\\tFALSE\\t0\\tgfg_id5_user_agent\\tMozilla/5.0%20%28Windows%20NT%2010.0%3B%20Win64%3B%20x64%29%20AppleWebKit/537.36%20%28KHTML%2C%20like%20Gecko%29%20Chrome/130.0.0.0%20Safari/537.36\\n.geeksforgeeks.org\\tTRUE\\t/\\tFALSE\\t1765850340\\t_ga\\tGA1.1.256968606.1731290340\\n.geeksforgeeks.org\\tTRUE\\t/\\tFALSE\\t0\\tgfg_ads_exp\\tNO-RUNNING-EXPERIMENTS\\n.geeksforgeeks.org\\tTRUE\\t/\\tTRUE\\t1762846141\\tgfg_nluid\\t0259e11036f727d97ced2cbc9acfb09b\\n.geeksforgeeks.org\\tTRUE\\t/\\tFALSE\\t1739066341\\t_gcl_au\\t1.1.621418888.1731290342\\n.geeksforgeeks.org\\tTRUE\\t/\\tFALSE\\t1762826346\\tFCNEC\\t%5B%5B%22AKsRol9x075RxKqqq8xuFMhthl3ePtxGnof8az9vMbpQwIeVSCxmKzPkczzmMMQxYkFi4JQgIDSNWr51idVGe7aS-7Q1BqaZZVGMc1s3oUeLTcgNO7DvsejE9gmCAy1MPZQVhV2QbkBITBOoKudz_Nv3xTnSBlcfEw%3D%3D%22%5D%5D\\nwww.clarity.ms\\tFALSE\\t/\\tTRUE\\t1762826346\\tCLID\\ta64d2cdb352944a39f983c5a8393b544.20241111.20251111\\n.geeksforgeeks.org\\tTRUE\\t/\\tFALSE\\t1765850348\\t_ga_DWCCJLKX3X\\tGS1.1.1731290340.1.0.1731290348.52.0.0\\n.geeksforgeeks.org\\tTRUE\\t/\\tFALSE\\t1762826348\\t_clck\\tleaqiq%7C2%7Cfqs%7C0%7C1776\\n.c.bing.com\\tTRUE\\t/\\tTRUE\\t1764986348\\tSRM_B\\t04E774AD46526DE22835619E47786C87\\n.c.clarity.ms\\tTRUE\\t/\\tTRUE\\t0\\tSM\\tC\\n.clarity.ms\\tTRUE\\t/\\tTRUE\\t1764986348\\tMUID\\t04E774AD46526DE22835619E47786C87\\n.c.clarity.ms\\tTRUE\\t/\\tTRUE\\t1731895148\\tMR\\t0\\n.geeksforgeeks.org\\tTRUE\\t/\\tFALSE\\t1731376748\\t_clsk\\tmftcyy%7C1731290348627%7C1%7C0%7Cl.clarity.ms%2Fcollect\\ncapi.grammarly.com\\tFALSE\\t/\\tTRUE\\t1731978899\\tAWSALBAPP-1\\t_remove_\\ncapi.grammarly.com\\tFALSE\\t/\\tTRUE\\t1731978899\\tAWSALBAPP-2\\t_remove_\\ncapi.grammarly.com\\tFALSE\\t/\\tTRUE\\t1731978899\\tAWSALBAPP-3\\t_remove_\\nmail.google.com\\tFALSE\\t/\\tTRUE\\t0\\t__Host-GMAIL_SCH\\tnsl\\n.springer.com\\tTRUE\\t/\\tTRUE\\t0\\ttrackid\\t\"6fgzsrl45av7l6unh4ztca8bg\"\\n.springer.com\\tTRUE\\t/\\tTRUE\\t0\\tidp_session\\tsVERSION_14576961f-8b49-456b-95a0-cc602f775a4c\\n.springer.com\\tTRUE\\t/\\tFALSE\\t0\\tidp_session_http\\thVERSION_12c041fcc-3b85-434d-96e4-8967ce04b589\\n.springer.com\\tTRUE\\t/\\tFALSE\\t1765850782\\tidp_marker\\t43afe8c4-e895-4786-9208-bd1721e81bd9\\n.springer.com\\tTRUE\\t/\\tFALSE\\t1739239582\\tuser.uuid.v2\\t\"a99b47b9-6200-4100-8577-117eb0a5e896\"\\n.springer.com\\tTRUE\\t/\\tTRUE\\t0\\tsim-inst-token\\t\"1::1731320783665:de242425\"\\n.springer.com\\tTRUE\\t/\\tFALSE\\t1762826789\\tsncc\\tP%3D17%3AV%3D52.0.0%26C%3DC01%2CC02%2CC03%2CC04%26D%3Dtrue\\n.springer.com\\tTRUE\\t/\\tFALSE\\t1746848139\\toptimizelyEndUserId\\toeu1731290789225r0.4819944835023753\\n.springer.com\\tTRUE\\t/\\tTRUE\\t1765856143\\tpermutive-id\\tb751bc8c-036d-4adc-83c7-48137da73f9d\\n.springer.com\\tTRUE\\t/\\tFALSE\\t1733882789\\tlantern\\t981b2948-a16b-4031-9016-ea9ba6fb2d19\\n.springer.com\\tTRUE\\t/\\tFALSE\\t1765856143\\t_ga\\tGA1.1.1065863588.1731290790\\n.2e4b93d1-a8ae-4a89-8885-6109135ac0de.prmutv.co\\tTRUE\\t/\\tTRUE\\t1739239589\\tpxid\\t2c86f2a6-2ffa-4c77-bf40-e3c4b666268a\\n.bat.bing.com\\tTRUE\\t/\\tTRUE\\t1731895591\\tMR\\t0\\n.marvellousmachine.net\\tTRUE\\t/\\tTRUE\\t1762832143\\tuid\\t673166a53e9e01001ace0e78\\n.translate-pa.googleapis.com\\tTRUE\\t/\\tFALSE\\t1747102125\\tNID\\t519=M-mNeHW3YffsLe6OEQLLf7epdf5vw2kwpbgyqKjYp7v1fhJ93SLtZ5oE9bsnt91SgVjQ7pGT2_BZgylZF3bG30KFC-MPmaMqYAezZr7iqIVWbxMpEq_7iCqQug-eMR1qoOTZwGM1rGfNWY_0W0owCGaruY42mTt_ZOm1r3NNt2o\\nadobeid-na1.services.adobe.com\\tFALSE\\t/\\tTRUE\\t0\\trelay\\tce87d471-16b7-47d5-b4d1-6b71edcb4e71\\nadobeid-na1.services.adobe.com\\tFALSE\\t/\\tTRUE\\t0\\tftrset\\t894\\n.services.adobe.com\\tTRUE\\t/\\tTRUE\\t1733747277\\tgds\\teyJhbGciOiJSUzI1NiIsImtpZCI6Imltc19uYTEta2V5LWdjLTEiLCJpdHQiOiJjayJ9.eyJ0dGwiOjI0MTkyMDAsIm1vaSI6ImNjMDYwYmU0IiwiZG9tYWluTWFya2VyIjoiLnNlcnZpY2VzLmFkb2JlLmNvbSIsImdkaSI6IjE3MzEyOTA5OTM3NjBfNWYyYTQwNGUtMTIwNi00ZjQ3LWFhOTQtOWYzYWM2MTdhNjRkIiwiY2xpZW50X2lkIjoiZGMtcHJvZC1jaHJvbWUtdmlld2VyIiwiY3JlYXRlZF9hdCI6MTczMTI5MDk5MywiZXhwaXJlc19hdCI6MTczMzcxMDE5M30.LkzoR3HuEbL0GN_8HqJRYJITTLefkEeKW8TUUj2Wv_MzqEZbbxZUVPAT-zpDvZW8P8jEJyTfbosKkFSX4pO6tL2QPplRgizgeo_ohekeCcDQcOzOyRvvQ4NsKG6Cr7m7efz-i_KPoQ0aOA6yo7WjnxqFksEwmYgJJx_agzsfkr2OzKS75Y_MyqnNpflx7HCaoxGfpluxKcsVrNstps3oYhGlW15ORa2qMALusVFFigG2sCGaWGAPyNYRVnwJfz7lGxHoC30Odajf6OHDPJIX9kPCgoMbyr1T7ykABjJVcxLh7wQilBxVcEZRl9dzYr2olrmXJtgLJ-uTecyI0fXVbQ\\n.services.adobe.com\\tTRUE\\t/\\tTRUE\\t0\\tgas\\teyJhbGciOiJSUzI1NiIsImtpZCI6Imltc19uYTEta2V5LWdjLTEiLCJpdHQiOiJjayJ9.eyJ0dGwiOjg2NDAwLCJkb21haW5NYXJrZXIiOiIuc2VydmljZXMuYWRvYmUuY29tIiwiZ2lkIjoiMTczMTI5MDk5Mzc2MF8yMWNhYjZlNS1jOTVjLTQxNmYtOGZjMy1iODk3NjM3ZmM0N2JAR3Vlc3RJRCIsImNsaWVudF9pZCI6ImRjLXByb2QtY2hyb21lLXZpZXdlciIsImRldmljZV9pZCI6IjE3MzEyOTA5OTM3NjBfNWYyYTQwNGUtMTIwNi00ZjQ3LWFhOTQtOWYzYWM2MTdhNjRkIiwiY3JlYXRlZF9hdCI6MTczMTI5MDk5MywiZXhwaXJlc19hdCI6MTczMTM3NzM5Mywic2NjIjoiQ0EifQ.hPFXDBs5Jl0CT_FdRPByFbOocxJ6BZSUiIDMPkwp4eUeNEREC5lncJq5VaU7C5efNFVfZC8r995Z1cEf7VichkPC0G69n7DLSAlT8bLqPH2YarpCDYClOEi4HtU-me2V9FUOR1VQ8xPo6cmPr9llhV4_qsn2ibucMfipS_8kbFOmOOulQQaJLJPejbsGP2mrH1m4_sueAQ5Ioo4CnM9jigQIvVjJE7O3kbZL47ylSIt6QkAIB5p8tpV2iGFI0Auh5R4xhVFwF6ibMMDdxMUTH5lxkSGjib8pfSURLjyeRX7DLualdklga7Rtb_wbIW4ycfx2WkqiJvE52IkdC6bvfA\\n.by2.uservoice.com\\tTRUE\\t/\\tTRUE\\t0\\tuvts\\t0afcb7d5-a0c7-48f8-788f-efe2b42bd2d8\\n.adobe.com\\tTRUE\\t/\\tTRUE\\t0\\tat_check\\ttrue\\n.adobe.com\\tTRUE\\t/\\tTRUE\\t0\\tAMCVS_9E1005A551ED61CA0A490D45%40AdobeOrg\\t1\\n.acrobat.adobe.com\\tTRUE\\t/\\tTRUE\\t1762864083\\tuvts\\t0afcb7d5-a0c7-48f8-788f-efe2b42bd2d8\\n.adobe.com\\tTRUE\\t/\\tFALSE\\t1765890587\\ts_ecid\\tMCMID%7C11363909162928172312622329740162597351\\n.acrobat.adobe.com\\tTRUE\\t/\\tTRUE\\t1765419003\\tkndctr_9E1005A551ED61CA0A490D45_AdobeOrg_identity\\tCiYxMTM2MzkwOTE2MjkyODE3MjMxMjYyMjMyOTc0MDE2MjU5NzM1MVIQCKjr8MexMhgBKgNWQTYwA_ABqOvwx7Ey\\nwww.kaggle.com\\tFALSE\\t/\\tFALSE\\t1733920483\\tka_sessionid\\tcd3c9d60205a9fc696b54300b9e99d76\\nwww.kaggle.com\\tFALSE\\t/\\tFALSE\\t0\\tGCLB\\tCL3Li-SHhdvbExAD\\n.kaggle.com\\tTRUE\\t/\\tFALSE\\t1765934766\\t_ga\\tGA1.1.951549161.1731293926\\n.support.discord.com\\tTRUE\\t/\\tTRUE\\t0\\t__cfruid\\t03c09426d05b0d05c717ae1fa804d80afaf16b7e-1731294098\\n.support.discord.com\\tTRUE\\t/\\tTRUE\\t0\\t_cfuvid\\teUg1a9XhczmRhOninrOH639ckJFRLYipo67Y1ePYfLM-1731294098240-0.0.1.1-604800000\\nsupport.discord.com\\tFALSE\\t/\\tTRUE\\t0\\t_help_center_session\\tVU41SGpoQ3VKUkxucTJTWkFPZ1VVR2VnSHkxRzNwSDFMN3d0ck9vc3RSczZ2Y0FBT216YVdweWt2OG9YL1ZDdThoQzVMaERvVjdCcGNUcWxzQWFRTHh4OVk0OEpGNTBqRzFNTlpRTlJ2d3FaY2cyRmt5eFM2VkYzcG16ZENCaXEtLWVPK2hPcEhYMDg5cWFRV01wNDVtc1E9PQ%3D%3D--857b7aa3c7bab193694792dca8884655d1ae03ed\\n.hammerandchisel.zendesk.com\\tTRUE\\t/\\tTRUE\\t0\\t__cfruid\\t03c09426d05b0d05c717ae1fa804d80afaf16b7e-1731294098\\n.hammerandchisel.zendesk.com\\tTRUE\\t/\\tTRUE\\t0\\t_cfuvid\\tTP95wRgNtWzXf42Dr4sCZ5mCz3jBbyKK1mfc5HAC_RE-1731294098973-0.0.1.1-604800000\\n.login.microsoftonline.com\\tTRUE\\t/\\tTRUE\\t0\\tesctx-4d80LyAi3Cg\\tAQABCQEAAADW6jl31mB3T7ugrWTT8pFeXbfn3wRVqLywYItgMSwgej00JU6e2uKHj8Nw3O451ymrew5BcYkVdqhdhMdJRUcVwgzu7L-gGaGbAzuSqlCxIO6vtlRb_nV8POuT7lJTFRqyH1sm1iypjFr2uiMDHE1wANqPA76J3FdhV5X6phiQniAA\\naccounts.google.com\\tFALSE\\t/\\tTRUE\\t1733886437\\tOTZ\\t7816507_76_76_104100_72_446760\\n.google.com\\tTRUE\\t/\\tFALSE\\t1765854475\\tSID\\tg.a000qAhfxgsnM3c3xsNELyTF0wR2HyBOFUAJNTPSKEHYtWEpOe0C9qb34JAEzKJbv5F3x_N_KwACgYKATESARUSFQHGX2MibLjVlEC-maUVUi6zrcLLehoVAUF8yKpkOWg992R5QB6HerA5FMR00076\\n.google.com\\tTRUE\\t/\\tTRUE\\t1765854475\\t__Secure-1PSID\\tg.a000qAhfxgsnM3c3xsNELyTF0wR2HyBOFUAJNTPSKEHYtWEpOe0CpzGpphqcCMvCt2Jjhov0AwACgYKAZMSARUSFQHGX2MitW1AooxZMmPvFucK_uOxMBoVAUF8yKo1RjEBGk-K_vH89SoPWMR80076\\n.google.com\\tTRUE\\t/\\tTRUE\\t1765854475\\t__Secure-3PSID\\tg.a000qAhfxgsnM3c3xsNELyTF0wR2HyBOFUAJNTPSKEHYtWEpOe0C_-K2u5x-f_3iXf6AiPcEDQACgYKAdwSARUSFQHGX2MiWtz39j-seMqpArt5K4baHRoVAUF8yKqhjtHQTpBWCupggHfcUunM0076\\n.google.com\\tTRUE\\t/\\tFALSE\\t1765854475\\tHSID\\tA8xgtXIyfM15LR3KR\\n.google.com\\tTRUE\\t/\\tTRUE\\t1765854475\\tSSID\\tAPqUEzRe2XNsMYq3Z\\n.google.com\\tTRUE\\t/\\tFALSE\\t1765854475\\tAPISID\\tTrxbf0VyQ6moyVy5/A1sXr8ooRYWlQeiHw\\n.google.com\\tTRUE\\t/\\tTRUE\\t1765854475\\tSAPISID\\tgoH164bv1usbLZGt/A9_fxFfT8mOybZziH\\n.google.com\\tTRUE\\t/\\tTRUE\\t1765854475\\t__Secure-1PAPISID\\tgoH164bv1usbLZGt/A9_fxFfT8mOybZziH\\n.google.com\\tTRUE\\t/\\tTRUE\\t1765854475\\t__Secure-3PAPISID\\tgoH164bv1usbLZGt/A9_fxFfT8mOybZziH\\naccounts.google.com\\tFALSE\\t/\\tTRUE\\t1765854475\\tACCOUNT_CHOOSER\\tAFx_qI4U4MWic09PObmqjMJ24laz8JQWGeJbJSzy4T72yYTc51LTtN81nfkn8ibvTyUR7oyvLWOC_rv_bBjOvNMQvUIMX5dEqN9xO3Uu3QtmDYYNYL5A6kFO3WQaoRXKKdr3YQglLhUT_C1HohmnTEoHypcUKCtcz1u9fIvAUHWgEN27Ujnb521pbmVZrKXqL-k42UuQTeX_pmV9PfWDc87GrjZHnsjvXg\\naccounts.google.com\\tFALSE\\t/\\tTRUE\\t1765854475\\tSMSV\\tADHTe-Ayc_w3iqi4Azr1r9MLUjyhDI5L8hUsMMHWDYiUX-FPuYf4UO7-TrO3dVu7XIClpmBYETYUDAhFYZmYJt5E34ehaCYC1-d6QXpefgEhDV463LC-ZJw\\nmail.google.com\\tFALSE\\t/\\tTRUE\\t1765854475\\tOSID\\tg.a000qAhfxtL9UtHEJM3tud6NsinEgGolTxEKS8-5ef8awuHXXMMyLOayUwnnB9h2ZW4lBIeKIwACgYKAcYSARUSFQHGX2MiXiAmg_UQ3sUMbFr7hJrh1BoVAUF8yKpslKhOKulO0zsG5fyzY1XL0076\\nmail.google.com\\tFALSE\\t/\\tTRUE\\t1765854475\\t__Secure-OSID\\tg.a000qAhfxtL9UtHEJM3tud6NsinEgGolTxEKS8-5ef8awuHXXMMyTgUsYC6coW6HzcpD3B5HWgACgYKAZ0SARUSFQHGX2MizIu4hCqQI62F54BWvK4GHhoVAUF8yKqcHsxOWYEmBwxeb-LLpzgq0076\\n.youtube.com\\tTRUE\\t/\\tFALSE\\t1765854475\\tSID\\tg.a000qAhfxgsnM3c3xsNELyTF0wR2HyBOFUAJNTPSKEHYtWEpOe0C9qb34JAEzKJbv5F3x_N_KwACgYKATESARUSFQHGX2MibLjVlEC-maUVUi6zrcLLehoVAUF8yKpkOWg992R5QB6HerA5FMR00076\\n.youtube.com\\tTRUE\\t/\\tTRUE\\t1762830475\\t__Secure-1PSIDTS\\tsidts-CjEBQT4rXxA3ctH1XQfUIonIVpMCwy502am9lnFZDdL4lwfGEb3nbURv_QWcNfHZuxscEAA\\n.youtube.com\\tTRUE\\t/\\tTRUE\\t1762830475\\t__Secure-3PSIDTS\\tsidts-CjEBQT4rXxA3ctH1XQfUIonIVpMCwy502am9lnFZDdL4lwfGEb3nbURv_QWcNfHZuxscEAA\\n.youtube.com\\tTRUE\\t/\\tTRUE\\t1765854475\\t__Secure-1PSID\\tg.a000qAhfxgsnM3c3xsNELyTF0wR2HyBOFUAJNTPSKEHYtWEpOe0CpzGpphqcCMvCt2Jjhov0AwACgYKAZMSARUSFQHGX2MitW1AooxZMmPvFucK_uOxMBoVAUF8yKo1RjEBGk-K_vH89SoPWMR80076\\n.youtube.com\\tTRUE\\t/\\tTRUE\\t1765854475\\t__Secure-3PSID\\tg.a000qAhfxgsnM3c3xsNELyTF0wR2HyBOFUAJNTPSKEHYtWEpOe0C_-K2u5x-f_3iXf6AiPcEDQACgYKAdwSARUSFQHGX2MiWtz39j-seMqpArt5K4baHRoVAUF8yKqhjtHQTpBWCupggHfcUunM0076\\n.youtube.com\\tTRUE\\t/\\tFALSE\\t1765854475\\tHSID\\tAmcWV2H77G8rpRzKR\\n.youtube.com\\tTRUE\\t/\\tTRUE\\t1765854475\\tSSID\\tAK-aBvk-vf_c_AHU7\\n.youtube.com\\tTRUE\\t/\\tFALSE\\t1765854475\\tAPISID\\tTrxbf0VyQ6moyVy5/A1sXr8ooRYWlQeiHw\\n.youtube.com\\tTRUE\\t/\\tTRUE\\t1765854475\\tSAPISID\\tgoH164bv1usbLZGt/A9_fxFfT8mOybZziH\\n.youtube.com\\tTRUE\\t/\\tTRUE\\t1765854475\\t__Secure-1PAPISID\\tgoH164bv1usbLZGt/A9_fxFfT8mOybZziH\\n.youtube.com\\tTRUE\\t/\\tTRUE\\t1765854475\\t__Secure-3PAPISID\\tgoH164bv1usbLZGt/A9_fxFfT8mOybZziH\\n.google.ca\\tTRUE\\t/\\tFALSE\\t1765854476\\tSID\\tg.a000qAhfxgsnM3c3xsNELyTF0wR2HyBOFUAJNTPSKEHYtWEpOe0C9qb34JAEzKJbv5F3x_N_KwACgYKATESARUSFQHGX2MibLjVlEC-maUVUi6zrcLLehoVAUF8yKpkOWg992R5QB6HerA5FMR00076\\n.google.ca\\tTRUE\\t/\\tTRUE\\t1765854476\\t__Secure-1PSID\\tg.a000qAhfxgsnM3c3xsNELyTF0wR2HyBOFUAJNTPSKEHYtWEpOe0CpzGpphqcCMvCt2Jjhov0AwACgYKAZMSARUSFQHGX2MitW1AooxZMmPvFucK_uOxMBoVAUF8yKo1RjEBGk-K_vH89SoPWMR80076\\n.google.ca\\tTRUE\\t/\\tTRUE\\t1765854476\\t__Secure-3PSID\\tg.a000qAhfxgsnM3c3xsNELyTF0wR2HyBOFUAJNTPSKEHYtWEpOe0C_-K2u5x-f_3iXf6AiPcEDQACgYKAdwSARUSFQHGX2MiWtz39j-seMqpArt5K4baHRoVAUF8yKqhjtHQTpBWCupggHfcUunM0076\\n.google.ca\\tTRUE\\t/\\tFALSE\\t1765854476\\tHSID\\tAmcWV2H77G8rpRzKR\\n.google.ca\\tTRUE\\t/\\tTRUE\\t1765854476\\tSSID\\tAK-aBvk-vf_c_AHU7\\n.google.ca\\tTRUE\\t/\\tFALSE\\t1765854476\\tAPISID\\tTrxbf0VyQ6moyVy5/A1sXr8ooRYWlQeiHw\\n.google.ca\\tTRUE\\t/\\tTRUE\\t1765854476\\tSAPISID\\tgoH164bv1usbLZGt/A9_fxFfT8mOybZziH\\n.google.ca\\tTRUE\\t/\\tTRUE\\t1765854476\\t__Secure-1PAPISID\\tgoH164bv1usbLZGt/A9_fxFfT8mOybZziH\\n.google.ca\\tTRUE\\t/\\tTRUE\\t1765854476\\t__Secure-3PAPISID\\tgoH164bv1usbLZGt/A9_fxFfT8mOybZziH\\n.google.ca\\tTRUE\\t/\\tTRUE\\t1747086343\\tNID\\t519=hirrvEFBduGUNCfubD_nc9Afi9uZoLe9AA7FK7V41Vnr5hhioYRwVXQ-PITrXFC1oeFm3a513Ma3pGtLiuyU-k0J7F7qGRy9-LPX5UaWLigU8DImYOdzKdoSWbTp4MM__dwiQKzfiZq9Dz3A2vaYH4narSerPbmasTfHdxd2l7zuvAhG9inJkVDlvuyqWWEUNmkdbE4y7e4ZP1iSC-wgVc9PAhyfOV2W7E09xvZqDbDoYlk_ZT_Ym1z7MwaguBuyHBCKy2p5wpTB3s09_xJQ1S0jkn5bJeNKyiaLCoMolK8k_aFr1mXlLGzrJSvOhSQIb9EtwvVVBnNeyxcnNj9nRYRJHzydTefpH8cMTEDdaTbUWqxFtz84fYxEiSP5dHBNaq9KJpclHq6yY6Wv64L_VInlzxN9l6HHO7gGV52VjAE6VlScTmAW6Vt2xgROk0dMbqTt--XyevlSJsxWYt-20H6QERGaAqQdI7XjXzBz-rSa9dOvozyUdZfH0fH6YstCo_NAixv1EMMOjGePO8_wS05n5Acf6HIUlcQKmiHXo5wl7kHysYAuOW0BsJehz7UuYDY8jHXgnx1LiRRaHJ-oGZMJLmIiqngEXlKMcQ43Qxx-8hYQpir9M4gDp0MQwBpe40jF5T92Zuj8J3mobWc7ql7TjCbPf_Cudpik5_3Fg3Rl9M0npkOvunhj5eQSGapvvPhhrNew33XVO7luVfKY7IhZNPMm05ZHseVRemjDze_xTSyg30InEYuuKg\\n.colab.research.google.com\\tTRUE\\t/\\tFALSE\\t1765934071\\t_ga\\tGA1.4.827288025.1731295045\\n.colab.research.google.com\\tTRUE\\t/\\tFALSE\\t1731460471\\t_gid\\tGA1.4.1534637573.1731295045\\nwww.kaggle.com\\tFALSE\\t/\\tTRUE\\t0\\t__Host-KAGGLEID\\tCfDJ8GrUjsAKvhxNhvm67MmtKLkcNiYBt8NDJmwalnS3r8ihXZk_e6WmKd6_rbcCI0rRzAczwjXvVDccOZalf_v2kPFzjPeqUeQOnimSFJYWRDOSOYJbbpzPOA\\n.instructables.com\\tTRUE\\t/\\tTRUE\\t0\\tOPTOUTMULTI_GEO\\tCA\\nwww.instructables.com\\tFALSE\\t/\\tTRUE\\t0\\tiblesource\\t{%22sourceUrl%22:%22/Vegetables-and-Fruits-Ripeness-Detection-by-Color-/%22}\\n.instructables.com\\tTRUE\\t/\\tTRUE\\t0\\tOPTOUTMULTI_SYNC_READY\\ttrue\\n.instructables.com\\tTRUE\\t/\\tTRUE\\t1762832084\\tADSK_GDPR_OPT_LENGTH\\tTue%2C%2011%20Nov%202025%2003%3A34%3A44%20GMT\\n.instructables.com\\tTRUE\\t/\\tTRUE\\t1762832084\\tOPTOUTMULTI\\t0%3A0%7Cc1%3A0%7Cc7%3A0%7Cc8%3A0%7Cc9%3A0\\n.instructables.com\\tTRUE\\t/\\tTRUE\\t1762832084\\tOPTOUTMULTI_TYPE\\tP\\n.instructables.com\\tTRUE\\t/\\tTRUE\\t1765856084\\tOPTOUTMULTI_REF\\t90c6410e-13ec-a6f3-c53d-8a19642e8957\\n.autodesk.com\\tTRUE\\t/\\tTRUE\\t1762832084\\tOPTOUTMULTI\\t0%3A0%7C0%3A0%7Cc1%3A0%7Cc7%3A0%7Cc8%3A0%7Cc9%3A0\\n.autodesk.com\\tTRUE\\t/\\tTRUE\\t1765856084\\tOPTOUTMULTI_REF\\t90c6410e-13ec-a6f3-c53d-8a19642e8957\\n.autodesk.com\\tTRUE\\t/\\tTRUE\\t1762832084\\tOPTOUTMULTI_TYPE\\tP\\n.autodesk.com\\tTRUE\\t/\\tTRUE\\t1762832084\\tADSK_GDPR_OPT_LENGTH\\tTue, 11 Nov 2025 03:34:44 GMT\\n.autodesk.com\\tTRUE\\t/\\tTRUE\\t0\\tOPTOUTMULTI_GEO\\tCA\\n.instructables.com\\tTRUE\\t/\\tFALSE\\t1762832085\\tutag_main\\tv_id:01931949b7260015737f8d8f02bd0506f005106700bd0$_sn:1$_ss:1$_st:1731297881703$ses_id:1731296081703%3Bexp-session$_pn:1%3Bexp-session$vapi_domain:instructables.com$optoutbackup:undefined%3Bexp-1739072085136\\n.instructables.com\\tTRUE\\t/\\tFALSE\\t0\\tAMCVS_6DC7655351E5696B0A490D44%40AdobeOrg\\t1\\n.instructables.com\\tTRUE\\t/\\tFALSE\\t1731382485\\t_gid\\tGA1.2.1634380117.1731296085\\nwww.instructables.com\\tFALSE\\t/\\tTRUE\\t1765856085\\t_gd_visitor\\t81dfc1df-e1d5-4c78-8fd9-410cff5936fa\\n.instructables.com\\tTRUE\\t/\\tFALSE\\t1765856085\\t_ga\\tGA1.1.1684985517.1731296085\\nwww.instructables.com\\tFALSE\\t/\\tTRUE\\t1731900885\\t_an_uid\\t3201462394567835867\\n.instructables.com\\tTRUE\\t/\\tFALSE\\t1765856085\\tAMCV_6DC7655351E5696B0A490D44%40AdobeOrg\\t1585540135%7CMCIDTS%7C20039%7CMCMID%7C04985569872728014473263452168877218831%7CMCAAMLH-1731900885%7C7%7CMCAAMB-1731900885%7CRKhpRz8krg2tLO6pguXWp5olkAcUniQYPHaMWWgdJ3xzPWQmdj0y%7CMCOPTOUT-1731303285s%7CNONE%7CMCAID%7CNONE%7CvVersion%7C4.4.0\\n.www.instructables.com\\tTRUE\\t/\\tFALSE\\t1765856085\\ts_dlv\\t1731296085571\\n.instructables.com\\tTRUE\\t/\\tFALSE\\t1762837199\\ts_vnc365\\t1762832085574%26vn%3D1\\n.www.instructables.com\\tTRUE\\t/\\tFALSE\\t0\\ts_cc\\ttrue\\n.instructables.com\\tTRUE\\t/\\tFALSE\\t0\\ts_ips\\t920\\n.instructables.com\\tTRUE\\t/\\tFALSE\\t0\\ts_tp\\t30557\\n.instructables.com\\tTRUE\\t/\\tTRUE\\t1765856115\\t_sp_id.d576\\t4b93ec7a-92f3-4aca-bd2b-5d91b1d91fc3.1731296086.1.1731296116..1446719e-df49-469f-8b5f-f81d31a5e777..1066e020-b200-4fb5-86d1-744bdf94cab5.1731296085556.2\\n.instructables.com\\tTRUE\\t/\\tFALSE\\t0\\ts_ppv\\tinstructables%253Awww%253Avegetables-and-fruits-ripeness-detection-by-color-%2C3%2C45%2C45%2C13719%2C33%2C14\\n.instructables.com\\tTRUE\\t/\\tFALSE\\t1765856124\\t_ga_NZSJ72N6RX\\tGS1.1.1731296085.1.1.1731296124.21.0.0\\n.springer.com\\tTRUE\\t/\\tFALSE\\t1765856143\\tpermutive-session\\t%7B%22session_id%22%3A%22b1ff421d-3c01-43f3-8801-5bd26111e5a9%22%2C%22last_updated%22%3A%222024-11-11T03%3A35%3A43.174Z%22%7D\\n.springer.com\\tTRUE\\t/\\tFALSE\\t1762832143\\tamp_72dea4\\tA7Ui28qfpFcoCysXFbwDNr...1icckl9sm.1icckl9so.3.0.3\\n.springer.com\\tTRUE\\t/\\tFALSE\\t1731382543\\t_uetsid\\t90e7d8909fd111ef8c035b99939e14c2\\n.springer.com\\tTRUE\\t/\\tFALSE\\t1764992143\\t_uetvid\\t90e825b09fd111efa718fde5727453ec\\n.springer.com\\tTRUE\\t/\\tFALSE\\t1762832143\\tajs_anonymous_id\\t970f3dd4-1577-4303-b921-a8b7971820ca\\n.springer.com\\tTRUE\\t/\\tFALSE\\t1765856174\\t_ga_B3E4QL2TPR\\tGS1.1.1731296142.2.1.1731296174.28.0.0\\n.springer.com\\tTRUE\\t/\\tFALSE\\t1765856174\\t_ga_5V24HQ1XD5\\tGS1.1.1731296143.2.1.1731296174.0.0.0\\nwww.toronto.ca\\tFALSE\\t/\\tFALSE\\t1765857180\\tORA_FPC\\tid=30589a57-56b4-4fb9-8410-113792de5db1\\n.toronto.ca\\tTRUE\\t/\\tTRUE\\t1762833182\\tWEBTRENDS_ID\\tb6aaa00e.6269b098562e7\\n.secure.toronto.ca\\tTRUE\\t/\\tFALSE\\t0\\tTS01174203\\t01716c46810bab0b3b9af7d4a258f94a7eac7b24562dbbca2edbf489be31c4e0bc8e4056042b151f3172a5c81bbedb42f95efa9b5e36875bcff9ed9197b331c03e1d736906\\nsecure.toronto.ca\\tFALSE\\t/\\tFALSE\\t1765857183\\tORA_FPC\\tid=e96e10f7-d774-4d8d-bbcc-27a36fb1c297\\nsecure.toronto.ca\\tFALSE\\t/\\tFALSE\\t1731383587\\tcot-terms-parking\\tagree\\n.ontario.ca\\tTRUE\\t/\\tFALSE\\t1765857768\\t_ga\\tGA1.1.195927493.1731297769\\n.ontario.ca\\tTRUE\\t/\\tFALSE\\t1765857794\\t_ga_HLLEK4SB6V\\tGS1.1.1731297768.1.1.1731297794.0.0.0\\n.login.microsoftonline.com\\tTRUE\\t/\\tTRUE\\t0\\tesctx-TcCTDQXbIM\\tAQABCQEAAADW6jl31mB3T7ugrWTT8pFevvnoDsEp_DC-T8dHGSspIfyM0JqAQlXgm9N_67AiGdpuy1UZLrzbQlzwP7Mf73Et-sQ4sMG9x6grxYMip39kdTO86oieTWBLYAiOybaU7TNexFbHsE_xhedJVjCGuxoQIfbProgk0w194aJtZ0zpFiAA\\n.www.researchgate.net\\tTRUE\\t/\\tTRUE\\t0\\tsid\\tUhSqc1kosUENlnvQZJymxcbj48xXdQhNhEE21jK3fMUWLanaFqp06Zto958guSFN8ycVm1VU6TsFwrxG5lo7oJHJYxEwAS6TS42PFVpQRVjxWXbeT391SGXO7S8oQScM\\n.www.researchgate.net\\tTRUE\\t/\\tTRUE\\t0\\tcili\\t_2_NDQ1NGFmM2MyMWU3NjBhNTE4NDQ4Mjk4MDk1YzkzMDFiMDBjZjZlNjlkZDk5YzczYmMxNzI1NTdiZGIwZjY3OF82MjkxMDczOzA%3D\\n.www.researchgate.net\\tTRUE\\t/\\tTRUE\\t1762881452\\tcirgu\\t_1_p%2FewUuM6gbclx74OCStIx22ADeTULj475pWVwZ3r3eo0PV%2BFc%2FC3DgXimziOG3ZK2332kA%3D%3D\\n.researchgate.net\\tTRUE\\t/\\tFALSE\\t1765884946\\t_ga\\tGA1.2.1418570835.1731277193\\n.adobe.com\\tTRUE\\t/\\tTRUE\\t1765885025\\tAMCV_9E1005A551ED61CA0A490D45%40AdobeOrg\\t-2121179033%7CMCMID%7C11363909162928172312622329740162597351%7CMCAAMLH-1731929825%7C7%7CMCAAMB-1731929825%7CRKhpRz8krg2tLO6pguXWp5olkAcUniQYPHaMWWgdJ3xzPWQmdj0y%7CMCOPTOUT-1731332225s%7CNONE%7CMCAID%7CNONE%7CMCCIDH%7C-1539935023%7CvVersion%7C5.3.0\\nmail.google.com\\tFALSE\\t/\\tTRUE\\t1732189715\\tCOMPASS\\tappsfrontendserver=CgAQivrHuQYafQAJa4lXSztxMmlyRy3ElVLMSOG6HKG5sRAktEsYCI5MPebcDyAZFm6qWwjJ2HnTfCRUvqx00WZROi_HVsYzKdpHNExolAnVdY-THUJztvBA56m-p3EN4jeza63KHU9zgSoWOXQKSw9bT6KBPzlHziCAmLEIwQRUsp2KR9OEIAEqhwEIARCi-se5Bhp9AAlriVf70TTv_AvBKMaWmYvkYD-HWpSRMgc3eyoc4Dbu8jbKosfoE-doLEkk7_a9mhIy-EBr3jLk61NAnHlw5mxoSwkLFSLys7XqKWeOpi2-YRY1kGjhSzeaq5tycypz6zH73_0MKzcwz7yij_JcHSrh8Kxhyw2i5jo3rbMwAQ\\n.avenue.mcmaster.ca\\tTRUE\\t/\\tFALSE\\t1765885982\\t__utma\\t228025677.1033351072.1731276435.1731299628.1731325716.5\\nlogin.microsoftonline.com\\tFALSE\\t/\\tTRUE\\t1762861726\\tMSFPC\\tGUID=489a34952e254e98b35a2087a8cb3b0d&HASH=489a&LV=202411&V=4&LU=1731276465579\\n.login.microsoftonline.com\\tTRUE\\t/\\tTRUE\\t0\\tesctx\\tPAQABBwEAAADW6jl31mB3T7ugrWTT8pFevdbPuTrS6fLBuTmbjMN564ML3hW6tVJfirpyROw_XUcdbQP-qxHX5vbLsfCHzV0IE0T_yak911gBamvZ8DcrGbkS7C4CLDuxOPsiSMhjhIzN1t6QTeM1-QhsYn2g9zqmf8tXJ8inTbC8PBg7cQKIkQ-lgJPvPq1zM8BOTLrY3ysgAA\\n.login.microsoftonline.com\\tTRUE\\t/\\tTRUE\\t0\\tesctx-I68ZuLe7RSM\\tAQABCQEAAADW6jl31mB3T7ugrWTT8pFeZndGu42OIDbPqQEPRZAddpSmKG82xkeJ9v_LfOf2Jd6aRMViy42k64WpPy6UH9cikmYKc0mNBRCUog8OaczoKIkQPdQEpSYjmXMTJXF1yuwd4_q3xY_uJ1dzFfrMSgKZmZB1u1iXJw98La6kYtInwSAA\\n.login.live.com\\tTRUE\\t/\\tTRUE\\t0\\tuaid\\t6c2664384811478ab78bd891472cb15d\\n.login.live.com\\tTRUE\\t/\\tTRUE\\t0\\tMSPRequ\\tid=N&lt=1731325740&co=0\\n.login.microsoftonline.com\\tTRUE\\t/\\tTRUE\\t1739101749\\tESTSAUTHPERSISTENT\\t1.ATcAB2M3RCm0rUKMJSjNSW9Hcl0vpscewEJKrGjQeEdmNqc3AFU3AA.AgABFwQAAADW6jl31mB3T7ugrWTT8pFeAwDs_wUA9P9vCcJxRjS2O4xyBzjqrkqHJuFmkpIRxSy1GTV03Wpi_BsWyPCsZjwBOaYSeSWvubgKo52qsfmpBiwI7ZPJ-ZBAp2GCaylwxhWWKawXyOUzNxPbZWyNtV1irFeSHhtT2476q6rLnEZwOwTiun57CAsVQ98qI7QCuQoUbFzJAvsW3UOaNISR3McUKJoWe_zHVTXbMEoUQULF2XZX2cvQyR8Bu_uyJBT5bUkig47R-arejQIIih__ybc92OV-yV98nEamjLTn4dA2EyUClAa9bEuOKLSOxLVTFkjgAjQPdewpcMYJ7VIOaTAcmdBgkKUrODzsIW61plcc-0cp9RSSyI7DWuqK1WoEciuZ4nsTnPqZUGA1pZEhvZSb3CnIRNUW3ujS_vq7_qzLF7hGXg71JJ5d8d8X7cFyEETASAKW0bD0FBn0uwSfklBxhVULBiB4riWD21I1dVKo_Zm_lWMwhXNvo_zfom7iqcj9CgcUHlz-yt1VPr3R0Jy6l1pSPlGITAELP8ShpTvLwkotPsaSxiEmVoVecTTcF0IM4yktJ574werD2017UBCN62brAsgV2rSBQ4lFYwTxJF70pmYS-08OMvvdL0GzAzSW8ZquX1ET2bn3Nuz2reWRepFCAUNqu4huLzZWioZrVvplSc-kDoBDhOEgh56sd6tD6HNvPH8YeOIzoM573htl-A\\n.login.microsoftonline.com\\tTRUE\\t/\\tTRUE\\t0\\tESTSAUTH\\t1.ATcAB2M3RCm0rUKMJSjNSW9Hcl0vpscewEJKrGjQeEdmNqc3AFU3AA.AgABFwQAAADW6jl31mB3T7ugrWTT8pFeAwDs_wUA9P83CWQ_bUNNBwen_xydQAmYaRIsycaR9A-BpBPpBNYuh6tR6Ezj0vwLIeo7VjlgtBTqGYooymTnsw\\nlogin.microsoftonline.com\\tFALSE\\t/\\tTRUE\\t1733917749\\tbuid\\t1.ATcAB2M3RCm0rUKMJSjNSW9Hcl0vpscewEJKrGjQeEdmNqc3AFU3AA.AQABGgEAAADW6jl31mB3T7ugrWTT8pFeeIaGxwLoBQsqht6ARWJYOG4FhePOjeBRWB3NIsOWRrCnEbfQyj0FErIYHKg3BL4XU-xGd8sDhTvZxrl0CaZYK6BIjtHyvASFqDObe4_RgF3_21TY5tHZM1z9lmdgUa4Twoui12NqHiQjjuQt34b9w-po0uTG9ZyrGWpY2KMdxXwgAA\\n.login.microsoftonline.com\\tTRUE\\t/\\tTRUE\\t1732189749\\tCCState\\tRWhJS0VMTUFkT2EwdGU5RG5pZ2ZzalJSTS80PQ==\\n.login.microsoftonline.com\\tTRUE\\t/\\tTRUE\\t0\\tSignInStateCookie\\tCAgABFgIAAADW6jl31mB3T7ugrWTT8pFeAwDs_wUA9P_I6McUenSqTkDHe9ErOmHm8M2C81ogjgga2xwT2UUc7URn--FDQN-UkABA6rWJ5drcHBfsWs5MEIoujZGRQSoGk0xDx3HTJlm3xVModlv30aZ3pm2YIetgVybJdGXf61_uCCSP1td5TCahEqauR1yOv-YslPuuMvRHT5ZMQFtwFQwl6eLNY5EtDJOnbd-0akWrdTHGQR1OXCbnKR8mosXZZX7-7OWYadQy-fWW6R9lSC6jTdnqp_h6D3aVXs2U1k-LMAdUCP9mxN60rt8PpO9rsn9nq5IXrrTFTC2QXKPfQg5R_IjfyyFb8x7exIod5lS50w\\nlogin.microsoftonline.com\\tFALSE\\t/\\tTRUE\\t1733917749\\tfpc\\tAlpcfElIGr1LsnTKXUk3CzaSHeHkAQAAABTmw94OAAAApz47ugIAAAAr5sPeDgAAAA\\navenue.mcmaster.ca\\tFALSE\\t/\\tTRUE\\t0\\tSimpleSAMLAuthToken\\t_68d6ea0889ca9a6d6cbf8976491485ead0a8b4a5cb\\navenue.cllmcmaster.ca\\tFALSE\\t/\\tTRUE\\t0\\td2lSessionVal\\tIy0loRD2EgxfwTftK6y4UiTlW\\navenue.cllmcmaster.ca\\tFALSE\\t/\\tTRUE\\t0\\td2lSecureSessionVal\\tZ1cqbqyHkblfjmKGuKF2UYPz6\\navenue.cllmcmaster.ca\\tFALSE\\t/\\tFALSE\\t0\\ti18next\\ten-US\\navenue.mcmaster.ca\\tFALSE\\t/\\tFALSE\\t1731412222\\tstart_time\\t1731325820\\n.zoom.us\\tTRUE\\t/\\tTRUE\\t0\\t_zm_ssid\\taw1_c_wMdak983SVek2OyKhDUifA\\n.zoom.us\\tTRUE\\t/\\tTRUE\\t1765886009\\t_zm_mtk_guid\\t0ac05e9236704f02985b40929681f7ec\\n.zoom.us\\tTRUE\\t/\\tTRUE\\t0\\t_zm_csp_script_nonce\\tsnjlhxPPS7KDKyZPVfD9KA\\n.zoom.us\\tTRUE\\t/\\tTRUE\\t1731412409\\t_zm_currency\\tCAD\\n.zoom.us\\tTRUE\\t/\\tTRUE\\t1762862009\\t_zm_visitor_guid\\t265003db23484cf0bdeec9e5a652b418\\n.zoom.us\\tTRUE\\t/\\tFALSE\\t1765886036\\twULrMv6t\\tBXVeEhuTAQAAgakU-r56mBqeWsx7mr5bbaEjKaXoD_RyYZYLVNqBe0WatQr6JK5y3cXAfwAAQHcAAAAAIAEZcEjDUwAwgt99iW-LXA|1|0|02a566ad2a063eb7ee65d003f788a146e85b5142\\nmcmaster.zoom.us\\tFALSE\\t/\\tFALSE\\t1762882988\\tktlvDW7IG5ClOcxYTbmY\\ta\\n.zoom.us\\tTRUE\\t/\\tTRUE\\t0\\t_zm_page_auth\\taw1_c_wEWBtXYfTneYUHYNo8UfkQ\\n.zoom.us\\tTRUE\\t/\\tTRUE\\t1762863192\\t_zm_lang\\ten-US\\n.zoom.us\\tTRUE\\t/\\tFALSE\\t1762862037\\tOptanonAlertBoxClosed\\t2024-11-11T11:53:57.159Z\\n.zoom.us\\tTRUE\\t/\\tTRUE\\t1762862037\\tOnetrustActiveGroups\\tC0001C0002C0003C0004\\n.zoom.us\\tTRUE\\t/\\tFALSE\\t1762862037\\tOptanonConsent\\tisGpcEnabled=0&datestamp=Mon+Nov+11+2024+06%3A53%3A57+GMT-0500+(Eastern+Standard+Time)&version=6.21.0&isIABGlobal=false&hosts=&consentId=6a92d674-64a6-4fb1-8187-8a5812e58e8a&interactionCount=2&landingPath=NotLandingPage&AwaitingReconsent=false&groups=C0001%3A1%2CC0002%3A1%2CC0003%3A1%2CC0004%3A1\\n.zoom.us\\tTRUE\\t/\\tTRUE\\t1765886037\\t_zm_tracking_guid\\tdc266ca0fe27475fb33ddedbd8aafb68\\nmcmaster.zoom.us\\tFALSE\\t/\\tTRUE\\t0\\tcred\\tAB1BFA2002184A6E940210F42EFA759B\\n.researchgate.net\\tTRUE\\t/\\tFALSE\\t1765887215\\t_ga_4P31SJ70EJ\\tGS1.1.1731327212.6.1.1731327215.0.0.0\\n.researchgate.net\\tTRUE\\t/\\tTRUE\\t1762863215\\tph_phc_ma1XTQyee96N1GML6qUTgLQRiDifnRcE9STiHTZ0CfZ_posthog\\t%7B%22distinct_id%22%3A%22AC%3A6291073%22%2C%22%24sesid%22%3A%5B1731327215491%2C%2201931b24-bcdd-72b7-8982-e14805f18c6b%22%2C1731327212764%5D%2C%22%24epp%22%3Atrue%7D\\n.www.mdpi.com\\tTRUE\\t/\\tFALSE\\t1747095319\\t_pk_ref.1.0af8\\t%5B%22%22%2C%22%22%2C1731327319%2C%22https%3A%2F%2Fwww.google.com%2F%22%5D\\n.academia.edu\\tTRUE\\t/\\tTRUE\\t1762863382\\tauvid\\tMTczMTMyNzM4MTQ0MDowLjU3NDAwMDY5OTI2MjQ3\\n.youtube.com\\tTRUE\\t/\\tTRUE\\t1762863383\\t__Secure-3PSIDCC\\tAKEyXzWivoJGJS2UIADROGQp-Vhy7OEP3spPId4oi65LYDahHThwIv4-YBm8yptv9Se-_HYvlA\\n.academia.edu\\tTRUE\\t/\\tFALSE\\t1765887982\\t_ga\\tGA1.2.2050972870.1731327383\\n.academia.edu\\tTRUE\\t/\\tTRUE\\t1762864020\\tuser_id\\t65340781\\n.academia.edu\\tTRUE\\t/\\tTRUE\\t1762864019\\tcookie_test\\t65340781\\n.academia.edu\\tTRUE\\t/\\tTRUE\\t1762864020\\tadmin_unrecorded_tests\\t%7B%22auth_system_version%22%3A%7B%22bucket%22%3A%22login_token_only%22%2C%22buckets%22%3A%5B%22y_cookie%22%2C%22login_token_only%22%5D%7D%7D\\n.academia.edu\\tTRUE\\t/\\tTRUE\\t1762863406\\tlong_term_login\\ttrue\\n.academia.edu\\tTRUE\\t/\\tTRUE\\t1762863406\\tlogin_token\\t65340781%3B1f15805b5fadc362931113b6\\n.academia.edu\\tTRUE\\t/\\tTRUE\\t1762863415\\tab_tests\\t%7B%22full_page_mobile_sutd_modal%22%3A%22full_page_mobile_sutd_modal%22%2C%22sutd_login_modal_wording_tweak_202411%22%3A%22treatment%22%2C%22ds_liswp_redesign_v2%22%3A%22overrides%22%2C%22mobile_view_tools_menu_fix_july_2023%22%3A%22fixed_position%22%7D\\n.academia.edu\\tTRUE\\t/\\tFALSE\\t1765887984\\t_ga_5VKX33P2DS\\tGS1.2.1731327383.1.1.1731327984.58.0.0\\n.academia.edu\\tTRUE\\t/\\tTRUE\\t1762864020\\toverridden_user_tests\\t%7B%22sutd_login_modal_wording_tweak_202411%22%3A%22control%22%7D\\n.academia.edu\\tTRUE\\t/\\tFALSE\\t0\\tjs_impression_nav_from\\t425d7034-44e6-43c2-af6c-8ae635ef5245\\n.academia.edu\\tTRUE\\t/\\tTRUE\\t1762864020\\tyauic\\teyJfcmFpbHMiOnsibWVzc2FnZSI6IkJBaEpJaVkyTlRNME1EYzRNVHN4WmpFMU9EQTFZalZtWVdSak16WXlPVE14TVRFellqWUdPZ1pGVkE9PSIsImV4cCI6IjIwMjUtMTEtMTFUMTI6MjY6NTguNzE2WiIsInB1ciI6bnVsbH19--d394b8784e6f9578b9a2a52d6994aacab1952884\\n.academia.edu\\tTRUE\\t/\\tTRUE\\t0\\t_cookie_session\\tZVFXcCs1WElaS2FQcllVUlNsYmYvS0VSbVNsdDNCbE1SRjNSRytuVy9ERkxjZkw3V2hOSlB5V1hJRGRVeHlQaE1hK1VDL1dnaXB2Yno2dzIrNTdFUXE3ZkRVWE5PK096b25pSGxxdmp6akgxT1U3QWN4eEw4QjRJOU5vSmNXZmpGR2NFMFR6ME9EMExmN1lyVmVGSUd2Z21uUlF4cVdFZVRVR3RiYUM3cXNiWVZXUGRsbFNWWlpQUUE0VUJGdnM3RWVvWHpDZXZkdUZBNkVRemswajZHRVZERVAyR2pRMkdhYXV3eEc4Tm00RlVxaWlvbWpTVFNIUzlVc0E3TmhpaDIrYjJGNEk1aDN6ZFkwRWxQQ2NTdkFIRGVKSFBrbnhMaDJXSm4wKzNYRDJLQ1Q3c3VudTFZUjVsQXc1S1lWakZocUJPc0JWQ0krVTdERUVZTkVLemwrZGlhOThXWGllU1hkU29sVlR5WDVCdFZMc0Y2UWI4bEJVSlgwYVhVYnMrUUtPYlYwYlJKamRwWEF0NFduMjRZeVpWUU9OYTllM1R6cndmd1l0R2UwQUZONUo1NE8yTi8yNkFOUFVUUk0xaUtFTFJ1ZUF6dkVXSVgvd29HMUF6anEvZDVnSDllUXVZaXp5VWlGSlE2RmVxeHYySDNxL2NUUkJod1ZuS2dIWEx1Rnd5aDY1TkUyZWRBMGl6bFFFZjVqQnpFS01PSnhTT1Q1ekxSRWd5bG5YTkhNU054c016MmZRRWZEQitUZWQxRGRsaStFU2NKMm5sYVhkektKRmYxekpMeVFjRjkrNzVacTZtQjA5cjd0d25QOEpjVFJXV211dldDQjVFYjBBdHJpNGpVN1ltVlBvSjlub01rRHRHa1RkRm43Rm02VUZSb0Y3TGFZckFzVzFSbWY3NEE3UFpPUDBFRkovRTZRK3AtLW91c3NIMk1pbGpDZjRrcklHd2d6ZWc9PQ%3D%3D--14bc66057298f4bf226d5e3e930bc5cd2eb2d81e\\n.adobe.com\\tTRUE\\t/\\tTRUE\\t1765888081\\tmbox\\tPC#a3b9c561737b425c89608cf1dc1acb83.34_0#1794572882|session#f813cfdab9af4bb89a7ad52cb4223ef2#1731329942\\n.mdpi.com\\tTRUE\\t/\\tTRUE\\t0\\tMDPIPHPSESSID\\tf2a5677be65fda78ff712c22f736afab\\n.mdpi.com\\tTRUE\\t/\\tFALSE\\t1765888196\\t_ga\\tGA1.2.201194236.1731277292\\n.mdpi.com\\tTRUE\\t/\\tFALSE\\t0\\tcebsp_\\t7\\n.mdpi.com\\tTRUE\\t/\\tFALSE\\t1765888149\\t_ga_DCG3MM670F\\tGS1.1.1731327319.3.1.1731328149.39.0.0\\n.mdpi.com\\tTRUE\\t/\\tFALSE\\t1765888196\\t_ga_LGW8YYBWC4\\tGS1.2.1731327321.7.1.1731328196.0.0.0\\nimagetolink.com\\tFALSE\\t/\\tFALSE\\t1731416280\\ttraffic_target\\treseller\\nimagetolink.com\\tFALSE\\t/\\tFALSE\\t1731416280\\tcaf_ipaddr\\t24.150.58.228\\nimagetolink.com\\tFALSE\\t/\\tFALSE\\t1731416280\\tcountry\\tCA\\nimagetolink.com\\tFALSE\\t/\\tFALSE\\t1731416280\\tcity\\tBurlington\\nimagetolink.com\\tFALSE\\t/\\tFALSE\\t1731416280\\tlander_type\\tparkweb-reseller\\napi.aws.parking.godaddy.com\\tFALSE\\t/\\tTRUE\\t1731934681\\tAWSALBCORS\\tGbPEOiZARUnb25TvbMxprQF2XnevbH1HMjQbsm6W6tH62KIK47010TRf6Kv0cv8lfSXnAcxAem3/QZyfe3JlNDEoUZ4frPpzrZzWxYbP+aHlsqcGygRfRjB5ln61\\napi.aws.parking.godaddy.com\\tFALSE\\t/\\tTRUE\\t1733921881\\tpwvisitor\\tad2ec6ae-8cd0-4421-8a91-e83763793333\\n.imagetolink.com\\tTRUE\\t/\\tFALSE\\t1765025880\\t__gsas\\tID=45cc276ea71e8f4f:T=1731329880:RT=1731329880:S=ALNI_MZuKlBZW0Pcg5Qpnf4Cqy7rm8uvFw\\nimagetolink.com\\tFALSE\\t/\\tFALSE\\t1762870097\\tpvisitor\\tb80ec05f-f651-42bc-9513-b66170d22044\\ngithub.com\\tFALSE\\t/\\tTRUE\\t1762865980\\t_device_id\\tad99aec00bf2988f2cb3081bf0dd1e82\\ngithub.com\\tFALSE\\t/\\tTRUE\\t1739105982\\tsaved_user_sessions\\t116782565%3AOMbjI5ZNaVvBbpu55h7Y4Gv8_U4lpGaYU1lPYK2ZrcXDqWzw\\ngithub.com\\tFALSE\\t/\\tTRUE\\t1732539581\\tuser_session\\tOMbjI5ZNaVvBbpu55h7Y4Gv8_U4lpGaYU1lPYK2ZrcXDqWzw\\ngithub.com\\tFALSE\\t/\\tTRUE\\t1732539581\\t__Host-user_session_same_site\\tOMbjI5ZNaVvBbpu55h7Y4Gv8_U4lpGaYU1lPYK2ZrcXDqWzw\\ngithub.com\\tFALSE\\t/\\tTRUE\\t0\\ttz\\tAmerica%2FNew_York\\n.github.com\\tTRUE\\t/\\tTRUE\\t0\\tcolor_mode\\t%7B%22color_mode%22%3A%22auto%22%2C%22light_theme%22%3A%7B%22name%22%3A%22light%22%2C%22color_mode%22%3A%22light%22%7D%2C%22dark_theme%22%3A%7B%22name%22%3A%22dark%22%2C%22color_mode%22%3A%22dark%22%7D%7D\\n.github.com\\tTRUE\\t/\\tTRUE\\t1762865982\\tlogged_in\\tyes\\n.github.com\\tTRUE\\t/\\tTRUE\\t1762865982\\tdotcom_user\\tDanecono2016\\ncentral.github.com\\tFALSE\\t/\\tTRUE\\t1733922003\\track.session\\tBAh7B0kiD3Nlc3Npb25faWQGOgZFVG86HVJhY2s6OlNlc3Npb246OlNlc3Npb25JZAY6D0BwdWJsaWNfaWRJIkUwY2VmNzk4ZmE5MTEwYzM0ZjYyMzhlZDNmMDM4ODQ2MDFmNTk4NDg1MGZlYjc3MWVlZTlhM2RhOThhMTczNzZjBjsARkkiCWNzcmYGOwBGSSIxTzFxMm1ldlRfR1QydkExMmIwQjNGQ0QxYnlOYmNGV3hvVm9HM0ZRUFQ4MD0GOwBG--7e1e0d22c2954b1867e905f114da808fbdda13f8\\naccounts.google.com\\tFALSE\\t/\\tTRUE\\t1762869316\\tLSOLH\\t_SVI_EJGX-Zm31IkDGAQiP01BRURIZl9xM0FhT1NqM1lDeHd1Z0x2dmt1cDdacVhPd01NNnFIcWJxbGFKTmdERWZPTUtUVFlvenpkX2UtQQ_:28855570:918f\\n.google.com\\tTRUE\\t/\\tFALSE\\t1746926821\\tSEARCH_SAMESITE\\tCgQIx5wB\\n.google.com\\tTRUE\\t/\\tTRUE\\t1746827201\\tAEC\\tAZ6Zc-UZlTpcvELXchmvKCkE17jIQeocfVNJc_xCenbU8Ppmmbg4DyT52DM\\nwww.kaggle.com\\tFALSE\\t/\\tFALSE\\t0\\tbuild-hash\\t0dd9ec202ae8e3675dbaff49d749e7bb91053315\\n.google.com\\tTRUE\\t/\\tTRUE\\t1747183215\\tNID\\t519=Uqe3XWu2vVO0J5NlOQfRuJwN_OLYJfnLHJzouISaftUEKfE6eWcfEP-3EkgNaPCVJdV5t5QP1JyWimOLJP3xH1i2HjgmW6fj6UvEIF3JhjQfkyyNMFREm2_CZs8ki0WgDqzy76JnjdW8pAr19hyhQm7HQ-9ilyChH7B5bp6Zu4HwvfKWnZDAHjcyRAd8xP4fNuCT_ujXlDvOoIt-8oNCV-KeJVVCAlxeJEVhB5qB2ptOFmU7f3uH7Y_QyNZRP_hrlF2vR--QdFDqKANHw67IiYXYO2t7kapA8Qqb4iTbigdc2ccDC4-IJLh2OxKxfHXAUrVwiE-qgTzxgF_dTk8xHAR9IMDW5NPGWypRtdMwWpo1Pa1F7gIPO3kMVGnKq1IKOgmoVphnGTxBy22G4P3cRK3fxah6JajOkLeujLaTPK0dtgC9jC1X6MlNVBtL3fJv-gvUthkbyxvIhPW01mihloyN7ied8ktuPg1FGoVpnGgZv1pmFDOsDhAgZjruB6YCfaCSa9_fh7jVGqbKoKiaT1i5yF2lXs2XsLfpQh_xbZ2xOTIQE3RfakDOElWI9wnX7cHLDYQmqVnM4sp3X7JdyaDZV9-04HRFw7D2GmCah4U8qMnsZTsNvAvh10Tyyuwzh7JvNte6Onm5-bbdNtsYef1OZfzDNwi-jbiJVTeuIZeztLB7H2KBfO430POz9qmoEGU2rnfVlstOXh_BqcLCtWr6V-9JxrtNOp_ar8qMoJqxGIms1EoHLV4f3C2DgIIp6gsnrEPk9yFPpp0Qzeg2xHLOU5G6llcIRj-rbhap8fZo3C-ExICkU8tWxQYxDPHJ-8g4KYuaXMqYMCMSXPNICImzSX8232QuAmpK0D1GX1J9AjeOtWw3_KcWdzCcReEJUa6yf3Ep_z2HplBi0CjLzUTlT2mYA-_czCLm0mlunR-rj_LH-g\\n.mdpi.com\\tTRUE\\t/\\tFALSE\\t1762908383\\t_ce.s\\tv~73b9e12a5272f4825bb49d76bb5d09f5cdf94c84~lcw~1731371396077~vir~new~lva~1731277294408~vpv~0~v11.cs~416181~v11.s~9f71c710-a026-11ef-b176-5d1aff6f6423~v11.sla~1731331123500~v11.send~1731328144991~gtrk.la~m3dqexcf~lcw~1731372383823\\nacw.sciencedirect.com\\tFALSE\\t/\\tFALSE\\t1731455391\\t__cflb\\t02DiuEUZgWyrMRgnWqdShCPZ1oy3hj9hm2PSxK8YoY2zY\\n.sciencedirect.com\\tTRUE\\t/\\tTRUE\\t0\\tMIAMISESSION\\te63d63a3-71de-4178-a6f4-509a7155cdee:3908825391\\n.adobe.com\\tTRUE\\t/\\tFALSE\\t1731375090\\tkndctr_9E1005A551ED61CA0A490D45_AdobeOrg_cluster\\tva6\\n.adobe.com\\tTRUE\\t/\\tFALSE\\t1765500671\\tkndctr_9E1005A551ED61CA0A490D45_AdobeOrg_identity\\tCiYyMDMzNDc1MDA5ODM4MDA5MTcwMTYzMjM0Nzc2Nzg1MDM2NjQ1N1ISCKTvrMCxMhABGAEqA1ZBNjAA8AGiuOnusTI%3D\\naccounts.google.com\\tFALSE\\t/\\tTRUE\\t1765932788\\t__Host-GAPS\\t1:V146otp-zIEqQEIudoBPlILXGBWW8t8X3obOIYUMPhqbSd3O5HBJT_OvJgI15dkRrzRBpvt3mzy6l41q6NtanmEmh4aDeg:5gKLWIbCAu5gSwSN\\naccounts.google.com\\tFALSE\\t/\\tTRUE\\t1765932788\\tLSID\\to.chromewebstore.google.com|o.drive.google.com|o.mail.google.com|s.CA|s.youtube:g.a000qAhfxow65m4scNP_Nnh27TftQ9K8kBHMadxs5VxspLdAz6lf3cTdN9apUgGciSj-Ivs8rwACgYKAUQSARUSFQHGX2MiMlMZKnMCUIKjQFHZq585EhoVAUF8yKrsK_pu-heC4UQCgE9H7Efc0076\\naccounts.google.com\\tFALSE\\t/\\tTRUE\\t1765932788\\t__Host-1PLSID\\to.chromewebstore.google.com|o.drive.google.com|o.mail.google.com|s.CA|s.youtube:g.a000qAhfxow65m4scNP_Nnh27TftQ9K8kBHMadxs5VxspLdAz6lfs-IYkpgNIZZZ9x_7fZTNpwACgYKAbsSARUSFQHGX2MiRGFU47aASTgwC5rhyUWCehoVAUF8yKox_cofK_HPc5rzdC9Qxvcg0076\\naccounts.google.com\\tFALSE\\t/\\tTRUE\\t1765932788\\t__Host-3PLSID\\to.chromewebstore.google.com|o.drive.google.com|o.mail.google.com|s.CA|s.youtube:g.a000qAhfxow65m4scNP_Nnh27TftQ9K8kBHMadxs5VxspLdAz6lfSyRMv5hgpisr4XXbTERErgACgYKAZYSARUSFQHGX2MiwSk_UqCM-QxrLvyjowswBBoVAUF8yKoSMGYIBe_oImXN0rIMbEOG0076\\nchromewebstore.google.com\\tFALSE\\t/\\tTRUE\\t1765932788\\tOSID\\tg.a000qAhfxt-ctzcWHvobqcZ165igUDlaOglow-2PTT5Znq7bMLhavuWlSu-qnePvSIQIEfSBsQACgYKARsSARUSFQHGX2MiNkv4nJcFJSXaIIRg6igkPxoVAUF8yKo8MFRaADijiQ94yXAqintw0076\\nchromewebstore.google.com\\tFALSE\\t/\\tTRUE\\t1765932788\\t__Secure-OSID\\tg.a000qAhfxt-ctzcWHvobqcZ165igUDlaOglow-2PTT5Znq7bMLhaqJDmTrhGcP2yjuGPR1ZpGgACgYKASoSARUSFQHGX2MijhRsr-pvLzf_o4cP023clBoVAUF8yKrFNQCT1qDBFOMBUuzFH_EO0076\\n.chromewebstore.google.com\\tTRUE\\t/\\tFALSE\\t1765934834\\t_ga\\tGA1.1.93744828.1731372790\\nchromewebstore.google.com\\tFALSE\\t/\\tTRUE\\t1733964791\\tOTZ\\t7817813_76_76_104100_72_446760\\ngist.github.com\\tFALSE\\t/\\tTRUE\\t1732539581\\tgist_user_session\\tiHfflPnHi4cdEpKd8kN1Zq9jPTI_czxtlLaZ8aM4YQWvZTj7\\ngist.github.com\\tFALSE\\t/\\tTRUE\\t1732539581\\t__Host-gist_user_session_same_site\\tiHfflPnHi4cdEpKd8kN1Zq9jPTI_czxtlLaZ8aM4YQWvZTj7\\ngist.github.com\\tFALSE\\t/\\tTRUE\\t0\\t_gh_sess\\t6dTkI%2BxXHABwzlTZ%2BCM2c9qnDMkrsBEkFR6I4WVjvVdp0AG3SRssnbsfNbCGa8UHXmoWA%2FB5plFJJ%2Bf4U8ewsj%2FCC3qYSMwZrlPv6pYLQ4BTIqpRW%2FT5YOugfQpqASwpPXlOYG4tnLoJH%2FwZQr84Te6ev3b8ykkEhDqIcsJH3Q7btDdGa3WqiUvtDl1XZpsQB8GTOMFqGrubjwNzLz%2FRrzZjLC1u57FbEBvz%2BWyFiNkxDka9JYHDp70AT7SRjKHAIeXwWFUntBHLG7rtSKJTYWFm26AeqUVREv%2BA7a4mVvJV6xvbGfE9i5TMf%2BlYzUChchZMWjifDDboacCe06bGIvOdlUPGLV4vjvXxjKTm04LWljnhhswcKJuEbOoOWtWcECL1fitjpRbl366lFfOh7lCEP9SDZ7IChMfm%2FcfmFHDcExSr2yMqJ%2Frq1GzXeRze2DSzNW9lnIjM5U9yikXvkUW8mkVduj%2FXrngpa6%2FXk6tZn5Kau69BSx1pQNZ483efTwYHyD5aneSVlfg7ZduPFigptmjzvtU8F39iveap1EQ6vVlFeSZIoEp2hcwsL2zhMEqLqzzcPmChTFDdMO5wEbPhEtmq2AL4GB9mUkrSd0DjKLKyxkQs1ey5VeS1KeWmrWbnk7Ody%2F%2B04bHIfSgJM8HrRWbFFCxk--U%2Fkt31GmN5qUHrwO--vA7rHHMZ3HznsN0dUBPbsw%3D%3D\\n.colab.research.google.com\\tTRUE\\t/\\tFALSE\\t1765934073\\t_ga_S3V05QCXK5\\tGS1.4.1731371203.5.1.1731374073.0.0.0\\ncapi.grammarly.com\\tFALSE\\t/\\tTRUE\\t1731978899\\tAWSALBAPP-0\\tAAAAAAAAAABxjSrc5Xhl1GpwFKH4oHCBz1fm8ImoK6voVi5YBMIfe4iLXmCEGmeYcu//JRkklrDeZpPgpMvERx8HTpfaykCl0lAiCDgsCQSbFAiipIhzCXALxT7ikfR1+b6++qiKxogWWBU=\\n.google.com\\tTRUE\\t/\\tTRUE\\t1762910545\\t__Secure-1PSIDTS\\tsidts-CjEBQT4rX43N_t6hJ_Bt_0qdZ3I3MX5aite7fyszqMIFFlYTm0X7YmUaEAQOFLBcNZ_TEAA\\n.google.com\\tTRUE\\t/\\tTRUE\\t1762910545\\t__Secure-3PSIDTS\\tsidts-CjEBQT4rX43N_t6hJ_Bt_0qdZ3I3MX5aite7fyszqMIFFlYTm0X7YmUaEAQOFLBcNZ_TEAA\\ngithub.com\\tFALSE\\t/\\tTRUE\\t0\\t_gh_sess\\tvs54Plbl4OrOqg9pV%2Fot1u7TM0GJtk4I%2BfO8CYsqTeCu2OSQHJfIEorjmkmXWqYGOFIX0kGrtLjcFCCjL3ML7ptRpJIeT0%2FRGkyfx5SynlChrWbnZZAKvXnLAxzYM4E5ZT1%2BUqfOykJDHWmxAZ5cVskZ%2BQ26Dvb3PoiNCkCUXaI7ssOzw3znWCd3WfdWaDZ5TPyCQ%2BfUIPePmOj1jKV4yu45iqQO43G1kgvsDivJ6Z8ntLVjiwpwmB%2FVyI9tDC8D5gri6SZ6Va6iboUL1YFRzA5OYv6QR2Tj52HHt%2F3Gw698yr4vNckMlIzqV8RSPg%2F1X%2FJ5MtCRCTVJ1wYPzUUOnJxrWvkMOBIksqoCNLIgRLMhK0UfbF732M62zNFHKGHn7K4wpZeg8GHAOYUs7Bs7DnuOUe%2FBgWMhgPXh2bv2fY9noQrN5gLobojJWMF8BlngdN%2BLaMSwWqxbhkOXjeBKaYO4SipbjLMzxVxKEDNSQ8ov9D9Jib8ilXDCF4JSuDPsFH8vU1%2FkmCHVmUEMcJq2jh6h0plDs2ny9BpZf56gDVOFWkhwySIaE06CroTa42mvfLCcJt9lIOTGQzdxbVlsJP5vwnyL4Qwm24s0NBc0wOLplR3hG%2BNW4yRJN6gCU9TXhxkxLHUN7AjOYjySsOsMiOG4KtSjI9CL%2BjOAOR2AAHLDWUjDbz8oev67Y0Tjthb9--4ENHIiz6dMzWoDb%2B--toMhw90puJ6or30CWmKeBw%3D%3D\\nwww.kaggle.com\\tFALSE\\t/\\tTRUE\\t0\\tCSRF-TOKEN\\tCfDJ8GrUjsAKvhxNhvm67MmtKLkHLb2wsOJMc5cITeOZ_3nioiiVABVR2RKUJSmhAsJtndThLkHrWLSnqg3KATKjW5yOoKaTs-Faz0Tu7gp0Dg\\nwww.kaggle.com\\tFALSE\\t/\\tTRUE\\t0\\tXSRF-TOKEN\\tCfDJ8GrUjsAKvhxNhvm67MmtKLnrNnJoGh403unB3wwO-UCSRHR3dILvrHOcLtnu4EUwmhuupjYNTxGcniK0it3wq2in8Yottl-f1n9g9XJytx16ucJnvIbVE15frdX8g_nusiXGQWlWhZ1VuX8cRFzlru4\\nwww.kaggle.com\\tFALSE\\t/\\tTRUE\\t0\\tCLIENT-TOKEN\\teyJhbGciOiJub25lIiwidHlwIjoiSldUIn0.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.\\n.mozilla.org\\tTRUE\\t/\\tFALSE\\t1731461227\\t_gid\\tGA1.2.1796719791.1731374828\\n.mozilla.org\\tTRUE\\t/\\tFALSE\\t1765934828\\t_ga\\tGA1.1.1340770822.1731374828\\n.mozilla.org\\tTRUE\\t/\\tFALSE\\t1765934832\\t_ga_B9CY1C9VBC\\tGS1.1.1731374828.1.0.1731374832.0.0.0\\nwww.google.com\\tFALSE\\t/\\tFALSE\\t1731375474\\tDV\\t89yi3aWKXtRTMKf_7kRMOXmT677fMVmJrxBJHbd8IAIAACBNtrgAGKFR4gAAADCMjMj12f1CPgAAAJM3qZ5ZrMvnFAAAAA\\n.kaggle.com\\tTRUE\\t/\\tFALSE\\t1765934909\\t_ga_T7QHS60L4Q\\tGS1.1.1731371450.4.1.1731374909.0.0.0\\n.google.com\\tTRUE\\t/\\tFALSE\\t1762910912\\tSIDCC\\tAKEyXzXSP-mXeQl2LXBmcBW5vMIgjTAjFxy08_MiQyCUN5_-mQvwyR-9PsYAs9Kad4XSovDk1Q\\n.google.com\\tTRUE\\t/\\tTRUE\\t1762910912\\t__Secure-1PSIDCC\\tAKEyXzVmIWTzP_1ppR1p2Ol8ckfE_EV8F9dn2Z3-vY82-3ggh95CbbBCloq57PpBkJSecKeX3Q\\n.google.com\\tTRUE\\t/\\tTRUE\\t1762910912\\t__Secure-3PSIDCC\\tAKEyXzUglFyFOYZlIP3kMAxIfi4DMYMfyAzUwQJW4E-JTsq7usgNpaM44dqZqbi7vJ9IyYNqIv0\\n.chromewebstore.google.com\\tTRUE\\t/\\tFALSE\\t1765934918\\t_ga_KHZNC1Q6K0\\tGS1.1.1731372790.1.1.1731374918.0.0.0'}"
            ]
          },
          "metadata": {},
          "execution_count": 8
        }
      ]
    },
    {
      "cell_type": "code",
      "metadata": {
        "id": "bVIMuzaNnPHh",
        "colab": {
          "base_uri": "https://localhost:8080/"
        },
        "outputId": "3f5ae1ce-c067-47c2-aaa2-f4a52d040624"
      },
      "source": [
        "!wget --no-check-certificate -x --load-cookies cookies.txt \\\n",
        "  \"https://www.kaggle.com/sriramr/fruits-fresh-and-rotten-for-classification/download\" \\\n",
        "  -O /tmp/data.zip"
      ],
      "execution_count": 11,
      "outputs": [
        {
          "output_type": "stream",
          "name": "stdout",
          "text": [
            "Cannot open cookies file ‘cookies.txt’: No such file or directory\n",
            "--2024-11-12 01:30:19--  https://www.kaggle.com/sriramr/fruits-fresh-and-rotten-for-classification/download\n",
            "Resolving www.kaggle.com (www.kaggle.com)... 35.244.233.98\n",
            "Connecting to www.kaggle.com (www.kaggle.com)|35.244.233.98|:443... connected.\n",
            "HTTP request sent, awaiting response... 302 Found\n",
            "Location: /account/login?titleType=dataset-downloads&showDatasetDownloadSkip=False&messageId=datasetsWelcome&returnUrl=%2Fdatasets%2Fsriramr%2Ffruits-fresh-and-rotten-for-classification%3Fresource%3Ddownload [following]\n",
            "--2024-11-12 01:30:19--  https://www.kaggle.com/account/login?titleType=dataset-downloads&showDatasetDownloadSkip=False&messageId=datasetsWelcome&returnUrl=%2Fdatasets%2Fsriramr%2Ffruits-fresh-and-rotten-for-classification%3Fresource%3Ddownload\n",
            "Reusing existing connection to www.kaggle.com:443.\n",
            "HTTP request sent, awaiting response... 200 OK\n",
            "Length: unspecified [text/html]\n",
            "Saving to: ‘/tmp/data.zip’\n",
            "\n",
            "\r/tmp/data.zip           [<=>                 ]       0  --.-KB/s               \r/tmp/data.zip           [ <=>                ]   4.85K  --.-KB/s    in 0s      \n",
            "\n",
            "2024-11-12 01:30:19 (55.0 MB/s) - ‘/tmp/data.zip’ saved [4971]\n",
            "\n"
          ]
        }
      ]
    },
    {
      "cell_type": "code",
      "source": [
        "\n",
        "    import subprocess\n",
        "\n",
        "    def download_kaggle_dataset(url, cookies_file, output_path):\n",
        "        \"\"\"Downloads a Kaggle dataset using wget.\n",
        "\n",
        "        Args:\n",
        "            url: The URL of the Kaggle dataset.\n",
        "            cookies_file: The path to the cookies.txt file containing your Kaggle cookies.\n",
        "            output_path: The path where the downloaded dataset should be saved.\n",
        "\n",
        "        Raises:\n",
        "            Exception: If the download fails.\n",
        "        \"\"\"\n",
        "        try:\n",
        "            # Build the wget command with a user agent and to fail on download errors\n",
        "            cmd = [\n",
        "                'wget', '--no-check-certificate', '-x', '--load-cookies', cookies_file,\n",
        "                '--user-agent', 'Mozilla/5.0 (Windows NT 10.0; Win64; x64) AppleWebKit/537.36 (KHTML, like Gecko) Chrome/114.0.0.0 Safari/537.36',\n",
        "                url, '-O', output_path\n",
        "            ]\n",
        "\n",
        "            # Execute the wget command\n",
        "            process = subprocess.run(cmd, capture_output=True, text=True, check=True)\n",
        "            print(\"Download completed successfully.\")\n",
        "\n",
        "            # Remove the file if the http status code of the server's response is not 200 (OK)\n",
        "            if '200 OK' not in process.stderr:\n",
        "                os.remove(output_path)  # Clean up the partial or invalid download\n",
        "                raise Exception(f\"Download failed. Status code not 200: {process.stderr}\")\n",
        "\n",
        "        except subprocess.CalledProcessError as e:\n",
        "            raise Exception(f\"Download failed: {e.stderr}\")\n",
        "\n",
        "    download_kaggle_dataset(url=\"https://www.kaggle.com/sriramr/fruits-fresh-and-rotten-for-classification/download\",\n",
        "                           cookies_file=\"cookies.txt\",\n",
        "                           output_path=\"/tmp/data.zip\")"
      ],
      "metadata": {
        "id": "0fsj_3t6AA9J",
        "outputId": "9c507893-bf6f-4893-c8cd-e3b7e3b2b87c",
        "colab": {
          "base_uri": "https://localhost:8080/"
        }
      },
      "execution_count": 20,
      "outputs": [
        {
          "output_type": "stream",
          "name": "stdout",
          "text": [
            "Download completed successfully.\n"
          ]
        }
      ]
    },
    {
      "cell_type": "markdown",
      "metadata": {
        "id": "5WzNVHRHpfhz"
      },
      "source": [
        "## Extract Data"
      ]
    },
    {
      "cell_type": "code",
      "metadata": {
        "id": "ZJKWED5NpksW",
        "colab": {
          "base_uri": "https://localhost:8080/",
          "height": 339
        },
        "outputId": "38d72a82-1254-4581-fd10-cc69acb86131"
      },
      "source": [
        "local_zip = '/tmp/data.zip'\n",
        "zip_ref = zipfile.ZipFile(local_zip, 'r')\n",
        "zip_ref.extractall('/tmp')\n",
        "zip_ref.close()"
      ],
      "execution_count": 21,
      "outputs": [
        {
          "output_type": "error",
          "ename": "BadZipFile",
          "evalue": "File is not a zip file",
          "traceback": [
            "\u001b[0;31m---------------------------------------------------------------------------\u001b[0m",
            "\u001b[0;31mBadZipFile\u001b[0m                                Traceback (most recent call last)",
            "\u001b[0;32m<ipython-input-21-6e5cfabb719b>\u001b[0m in \u001b[0;36m<cell line: 2>\u001b[0;34m()\u001b[0m\n\u001b[1;32m      1\u001b[0m \u001b[0mlocal_zip\u001b[0m \u001b[0;34m=\u001b[0m \u001b[0;34m'/tmp/data.zip'\u001b[0m\u001b[0;34m\u001b[0m\u001b[0;34m\u001b[0m\u001b[0m\n\u001b[0;32m----> 2\u001b[0;31m \u001b[0mzip_ref\u001b[0m \u001b[0;34m=\u001b[0m \u001b[0mzipfile\u001b[0m\u001b[0;34m.\u001b[0m\u001b[0mZipFile\u001b[0m\u001b[0;34m(\u001b[0m\u001b[0mlocal_zip\u001b[0m\u001b[0;34m,\u001b[0m \u001b[0;34m'r'\u001b[0m\u001b[0;34m)\u001b[0m\u001b[0;34m\u001b[0m\u001b[0;34m\u001b[0m\u001b[0m\n\u001b[0m\u001b[1;32m      3\u001b[0m \u001b[0mzip_ref\u001b[0m\u001b[0;34m.\u001b[0m\u001b[0mextractall\u001b[0m\u001b[0;34m(\u001b[0m\u001b[0;34m'/tmp'\u001b[0m\u001b[0;34m)\u001b[0m\u001b[0;34m\u001b[0m\u001b[0;34m\u001b[0m\u001b[0m\n\u001b[1;32m      4\u001b[0m \u001b[0mzip_ref\u001b[0m\u001b[0;34m.\u001b[0m\u001b[0mclose\u001b[0m\u001b[0;34m(\u001b[0m\u001b[0;34m)\u001b[0m\u001b[0;34m\u001b[0m\u001b[0;34m\u001b[0m\u001b[0m\n",
            "\u001b[0;32m/usr/lib/python3.10/zipfile.py\u001b[0m in \u001b[0;36m__init__\u001b[0;34m(self, file, mode, compression, allowZip64, compresslevel, strict_timestamps)\u001b[0m\n\u001b[1;32m   1270\u001b[0m         \u001b[0;32mtry\u001b[0m\u001b[0;34m:\u001b[0m\u001b[0;34m\u001b[0m\u001b[0;34m\u001b[0m\u001b[0m\n\u001b[1;32m   1271\u001b[0m             \u001b[0;32mif\u001b[0m \u001b[0mmode\u001b[0m \u001b[0;34m==\u001b[0m \u001b[0;34m'r'\u001b[0m\u001b[0;34m:\u001b[0m\u001b[0;34m\u001b[0m\u001b[0;34m\u001b[0m\u001b[0m\n\u001b[0;32m-> 1272\u001b[0;31m                 \u001b[0mself\u001b[0m\u001b[0;34m.\u001b[0m\u001b[0m_RealGetContents\u001b[0m\u001b[0;34m(\u001b[0m\u001b[0;34m)\u001b[0m\u001b[0;34m\u001b[0m\u001b[0;34m\u001b[0m\u001b[0m\n\u001b[0m\u001b[1;32m   1273\u001b[0m             \u001b[0;32melif\u001b[0m \u001b[0mmode\u001b[0m \u001b[0;32min\u001b[0m \u001b[0;34m(\u001b[0m\u001b[0;34m'w'\u001b[0m\u001b[0;34m,\u001b[0m \u001b[0;34m'x'\u001b[0m\u001b[0;34m)\u001b[0m\u001b[0;34m:\u001b[0m\u001b[0;34m\u001b[0m\u001b[0;34m\u001b[0m\u001b[0m\n\u001b[1;32m   1274\u001b[0m                 \u001b[0;31m# set the modified flag so central directory gets written\u001b[0m\u001b[0;34m\u001b[0m\u001b[0;34m\u001b[0m\u001b[0m\n",
            "\u001b[0;32m/usr/lib/python3.10/zipfile.py\u001b[0m in \u001b[0;36m_RealGetContents\u001b[0;34m(self)\u001b[0m\n\u001b[1;32m   1337\u001b[0m             \u001b[0;32mraise\u001b[0m \u001b[0mBadZipFile\u001b[0m\u001b[0;34m(\u001b[0m\u001b[0;34m\"File is not a zip file\"\u001b[0m\u001b[0;34m)\u001b[0m\u001b[0;34m\u001b[0m\u001b[0;34m\u001b[0m\u001b[0m\n\u001b[1;32m   1338\u001b[0m         \u001b[0;32mif\u001b[0m \u001b[0;32mnot\u001b[0m \u001b[0mendrec\u001b[0m\u001b[0;34m:\u001b[0m\u001b[0;34m\u001b[0m\u001b[0;34m\u001b[0m\u001b[0m\n\u001b[0;32m-> 1339\u001b[0;31m             \u001b[0;32mraise\u001b[0m \u001b[0mBadZipFile\u001b[0m\u001b[0;34m(\u001b[0m\u001b[0;34m\"File is not a zip file\"\u001b[0m\u001b[0;34m)\u001b[0m\u001b[0;34m\u001b[0m\u001b[0;34m\u001b[0m\u001b[0m\n\u001b[0m\u001b[1;32m   1340\u001b[0m         \u001b[0;32mif\u001b[0m \u001b[0mself\u001b[0m\u001b[0;34m.\u001b[0m\u001b[0mdebug\u001b[0m \u001b[0;34m>\u001b[0m \u001b[0;36m1\u001b[0m\u001b[0;34m:\u001b[0m\u001b[0;34m\u001b[0m\u001b[0;34m\u001b[0m\u001b[0m\n\u001b[1;32m   1341\u001b[0m             \u001b[0mprint\u001b[0m\u001b[0;34m(\u001b[0m\u001b[0mendrec\u001b[0m\u001b[0;34m)\u001b[0m\u001b[0;34m\u001b[0m\u001b[0;34m\u001b[0m\u001b[0m\n",
            "\u001b[0;31mBadZipFile\u001b[0m: File is not a zip file"
          ]
        }
      ]
    },
    {
      "cell_type": "markdown",
      "metadata": {
        "id": "t1LLO9qcnbI3"
      },
      "source": [
        "## Split Dataset to Train, Test and Validation"
      ]
    },
    {
      "cell_type": "code",
      "metadata": {
        "id": "hawHUrw0wk59"
      },
      "source": [
        "def make_dir(PATH):\n",
        "  if not os.path.exists(PATH):\n",
        "      os.mkdir(PATH)\n",
        "      return PATH\n",
        "  else:\n",
        "    shutil.rmtree(PATH)\n",
        "    os.mkdir(PATH)\n",
        "    return PATH"
      ],
      "execution_count": null,
      "outputs": []
    },
    {
      "cell_type": "code",
      "metadata": {
        "id": "cuYCDDB1pu9I"
      },
      "source": [
        "try:\n",
        "    base_dir = '/tmp'\n",
        "    fruit_dir = make_dir(os.path.join(base_dir, 'fruit-dataset'))\n",
        "    train_dir = make_dir(os.path.join(fruit_dir, 'train'))\n",
        "    validation_dir = make_dir(os.path.join(fruit_dir, 'val'))\n",
        "    test_dir = make_dir(os.path.join(fruit_dir, 'test'))\n",
        "    preview_dir = make_dir(os.path.join(fruit_dir, 'preview'))\n",
        "\n",
        "    train_fresh_dir = make_dir(os.path.join(train_dir, 'Fresh Fruit'))\n",
        "    train_rotten_dir = make_dir(os.path.join(train_dir, 'Rotten Fruit'))\n",
        "\n",
        "    validation_fresh_dir = make_dir(os.path.join(validation_dir, 'Fresh Fruit'))\n",
        "    validation_rotten_dir = make_dir(os.path.join(validation_dir, 'Rotten Fruit'))\n",
        "\n",
        "    test_fresh_dir = make_dir(os.path.join(test_dir, 'Fresh Fruit'))\n",
        "    test_rotten_dir = make_dir(os.path.join(test_dir, 'Rotten Fruit'))\n",
        "\n",
        "except OSError:\n",
        "    pass"
      ],
      "execution_count": null,
      "outputs": []
    },
    {
      "cell_type": "code",
      "metadata": {
        "id": "xmMyaqbmpzfX"
      },
      "source": [
        "from PIL import Image\n",
        "\n",
        "def split_data(SOURCE='', TRAINING='', VALIDATION='', SPLIT_SIZE=0):\n",
        "  data = os.listdir(SOURCE)\n",
        "  random_data = random.sample(data, len(data))\n",
        "\n",
        "  train_size = len(data)*SPLIT_SIZE\n",
        "\n",
        "  for i, filename in enumerate(random_data):\n",
        "    filepath = os.path.join(SOURCE, filename)\n",
        "    if os.path.getsize(filepath) > 0:\n",
        "      if i < train_size:\n",
        "        copyfile(filepath, os.path.join(TRAINING, filename))\n",
        "        # img = Image.open(os.path.join(TRAINING, filename)).convert('L')\n",
        "        # img.save(os.path.join(TRAINING, filename))\n",
        "      else:\n",
        "        copyfile(filepath, os.path.join(VALIDATION, filename))\n",
        "        # img = Image.open(os.path.join(VALIDATION, filename)).convert('L')\n",
        "        # img.save(os.path.join(VALIDATION, filename))"
      ],
      "execution_count": null,
      "outputs": []
    },
    {
      "cell_type": "code",
      "metadata": {
        "id": "LgrZmUPtpOd2"
      },
      "source": [
        "dataset_train_dir = '/tmp/dataset/train'\n",
        "dataset_test_dir = '/tmp/dataset/test'\n",
        "\n",
        "fapples_train_dir = os.path.join(dataset_train_dir, 'freshapples')\n",
        "fbananas_train_dir = os.path.join(dataset_train_dir, 'freshbanana')\n",
        "foranges_train_dir = os.path.join(dataset_train_dir, 'freshoranges')\n",
        "rapples_train_dir = os.path.join(dataset_train_dir, 'rottenapples')\n",
        "rbananas_train_dir = os.path.join(dataset_train_dir, 'rottenbanana')\n",
        "roranges_train_dir = os.path.join(dataset_train_dir, 'rottenoranges')\n",
        "\n",
        "fapples_test_dir = os.path.join(dataset_test_dir, 'freshapples')\n",
        "fbananas_test_dir = os.path.join(dataset_test_dir, 'freshbanana')\n",
        "foranges_test_dir = os.path.join(dataset_test_dir, 'freshoranges')\n",
        "rapples_test_dir = os.path.join(dataset_test_dir, 'rottenapples')\n",
        "rbananas_test_dir = os.path.join(dataset_test_dir, 'rottenbanana')\n",
        "roranges_test_dir = os.path.join(dataset_test_dir, 'rottenoranges')\n",
        "\n",
        "print('fapples_train images = ', len(os.listdir(fapples_train_dir)))\n",
        "print('fbananas_train images = ', len(os.listdir(fbananas_train_dir)))\n",
        "print('foranges_train images = ', len(os.listdir(foranges_train_dir)))\n",
        "print('rapples_train images = ', len(os.listdir(rapples_train_dir)))\n",
        "print('rbananas_train images = ', len(os.listdir(rbananas_train_dir)))\n",
        "print('roranges_train images = ', len(os.listdir(roranges_train_dir)))\n",
        "print()\n",
        "print('fapples_test images = ', len(os.listdir(fapples_test_dir)))\n",
        "print('fbananas_test images = ', len(os.listdir(fbananas_test_dir)))\n",
        "print('foranges_test images = ', len(os.listdir(foranges_test_dir)))\n",
        "print('rapples_test images = ', len(os.listdir(rapples_test_dir)))\n",
        "print('rbananas_test images = ', len(os.listdir(rbananas_test_dir)))\n",
        "print('roranges_test images = ', len(os.listdir(roranges_test_dir)))"
      ],
      "execution_count": null,
      "outputs": []
    },
    {
      "cell_type": "code",
      "metadata": {
        "id": "feno4qIJp17H"
      },
      "source": [
        "SPLIT_SIZE = 0.67\n",
        "split_data(fapples_train_dir, train_fresh_dir, validation_fresh_dir, SPLIT_SIZE)\n",
        "split_data(fbananas_train_dir, train_fresh_dir, validation_fresh_dir, SPLIT_SIZE)\n",
        "split_data(foranges_train_dir, train_fresh_dir, validation_fresh_dir, SPLIT_SIZE)\n",
        "split_data(rapples_train_dir, train_rotten_dir, validation_rotten_dir, SPLIT_SIZE)\n",
        "split_data(rbananas_train_dir, train_rotten_dir, validation_rotten_dir, SPLIT_SIZE)\n",
        "split_data(roranges_train_dir, train_rotten_dir, validation_rotten_dir, SPLIT_SIZE)\n",
        "\n",
        "SPLIT_SIZE = 1.0\n",
        "split_data(fapples_test_dir, test_fresh_dir, validation_fresh_dir, SPLIT_SIZE)\n",
        "split_data(fbananas_test_dir, test_fresh_dir, validation_fresh_dir, SPLIT_SIZE)\n",
        "split_data(foranges_test_dir, test_fresh_dir, validation_fresh_dir, SPLIT_SIZE)\n",
        "split_data(rapples_test_dir, test_rotten_dir, validation_rotten_dir, SPLIT_SIZE)\n",
        "split_data(rbananas_test_dir, test_rotten_dir, validation_rotten_dir, SPLIT_SIZE)\n",
        "split_data(roranges_test_dir, test_rotten_dir, validation_rotten_dir, SPLIT_SIZE)"
      ],
      "execution_count": null,
      "outputs": []
    },
    {
      "cell_type": "code",
      "metadata": {
        "id": "giGseJnkzm1Q"
      },
      "source": [
        "print(len(os.listdir('/tmp/fruit-dataset/train/Fresh Fruit/')))\n",
        "print(len(os.listdir('/tmp/fruit-dataset/train/Rotten Fruit/')))\n",
        "print()\n",
        "print(len(os.listdir('/tmp/fruit-dataset/val/Fresh Fruit/')))\n",
        "print(len(os.listdir('/tmp/fruit-dataset/val/Rotten Fruit/')))\n",
        "print()\n",
        "print(len(os.listdir('/tmp/fruit-dataset/test/Fresh Fruit/')))\n",
        "print(len(os.listdir('/tmp/fruit-dataset/test/Rotten Fruit/')))"
      ],
      "execution_count": null,
      "outputs": []
    },
    {
      "cell_type": "markdown",
      "metadata": {
        "id": "avKnfQCYniuo"
      },
      "source": [
        "## Augmentation"
      ]
    },
    {
      "cell_type": "code",
      "metadata": {
        "id": "c1ZotiW51xSM"
      },
      "source": [
        "train_datagen = ImageDataGenerator(\n",
        "    rescale=1./255,\n",
        "    width_shift_range=0.2, #0.2, 0.5\n",
        "    height_shift_range=0.2, #0.2, 0.5\n",
        "    shear_range=0.2,\n",
        "    zoom_range=[0.5, 1.0], # 0.2, 0.5, [0.5,1.0]\n",
        "    rotation_range=90, #20, 40, 60, 90\n",
        "    horizontal_flip=True,\n",
        "    vertical_flip=True,\n",
        "    fill_mode='reflect' #nearest, reflect, wrap\n",
        ")\n",
        "\n",
        "validation_datagen = ImageDataGenerator(\n",
        "    rescale=1./255\n",
        ")"
      ],
      "execution_count": null,
      "outputs": []
    },
    {
      "cell_type": "markdown",
      "metadata": {
        "id": "-pkHakORQ1Sz"
      },
      "source": [
        "## Preview Augmentation"
      ]
    },
    {
      "cell_type": "code",
      "metadata": {
        "id": "3yDem9OYIoK2"
      },
      "source": [
        "path_aug = os.path.join(train_fresh_dir, os.listdir(train_fresh_dir)[-1])\n",
        "img_augmentation = image.load_img(path_aug)\n",
        "x_aug = image.img_to_array(img_augmentation)\n",
        "x_aug = x_aug.reshape((1,) + x_aug.shape)\n",
        "\n",
        "i = 0\n",
        "for batch in train_datagen.flow(x_aug, batch_size=1, save_to_dir=preview_dir, save_prefix='fruit', save_format='jpeg'):\n",
        "    i += 1\n",
        "    if i >= 20:\n",
        "        break\n",
        "\n",
        "preview_img = os.listdir(preview_dir)\n",
        "\n",
        "plt.figure(figsize=(15, 15))\n",
        "for n in range(len(preview_img)):\n",
        "  plt.subplot((len(preview_img)/4)+1, 4, n+1)\n",
        "  plt.subplots_adjust(hspace = 0.3)\n",
        "  plt.imshow(image.load_img(os.path.join(preview_dir, preview_img[n]),\n",
        "                            color_mode=\"rgb\",\n",
        "                            target_size=(150, 150),\n",
        "                            interpolation=\"nearest\"))\n",
        "  plt.axis('off')\n",
        "plt.show()\n",
        "\n",
        "for fn in preview_img:\n",
        "  os.system(f'rm {os.path.join(preview_dir, fn)}')"
      ],
      "execution_count": null,
      "outputs": []
    },
    {
      "cell_type": "markdown",
      "metadata": {
        "id": "boND1dnBnmO8"
      },
      "source": [
        "## Image Data Generator"
      ]
    },
    {
      "cell_type": "code",
      "metadata": {
        "id": "71theQtN1uby"
      },
      "source": [
        "train_generator = train_datagen.flow_from_directory(train_dir,\n",
        "                                                    batch_size=32,\n",
        "                                                    color_mode=\"rgb\",\n",
        "                                                    # shuffle = False,\n",
        "                                                    target_size=(150,150),\n",
        "                                                    class_mode='binary')\n",
        "\n",
        "validation_generator = train_datagen.flow_from_directory(validation_dir,\n",
        "                                                         batch_size=32,\n",
        "                                                         color_mode=\"rgb\",\n",
        "                                                         # shuffle = False,\n",
        "                                                         target_size=(150,150),\n",
        "                                                         class_mode='binary')"
      ],
      "execution_count": null,
      "outputs": []
    },
    {
      "cell_type": "markdown",
      "metadata": {
        "id": "0iLWWXPZoWTs"
      },
      "source": [
        "## Callbacks"
      ]
    },
    {
      "cell_type": "code",
      "metadata": {
        "id": "sK3z_ORJ4x5m"
      },
      "source": [
        "class myCallback(tf.keras.callbacks.Callback):\n",
        "  def on_epoch_end(self, epoch, logs={}):\n",
        "    if(logs.get('accuracy') >= 98):\n",
        "      print(\"\\nReached 98% accuracy. Stop Training\")\n",
        "      self.model.stop_training = True\n",
        "\n",
        "callbacks = myCallback()"
      ],
      "execution_count": null,
      "outputs": []
    },
    {
      "cell_type": "markdown",
      "metadata": {
        "id": "PIEmked8npyF"
      },
      "source": [
        "## Sequential Model (Baseline)"
      ]
    },
    {
      "cell_type": "code",
      "metadata": {
        "id": "_gvnMiWD0j90"
      },
      "source": [
        "#if you want to use tranfer learning, skip this cell\n",
        "model = tf.keras.models.Sequential([\n",
        "    tf.keras.layers.Conv2D(32, (3,3), activation='relu', input_shape=(150, 150, 3)),\n",
        "    tf.keras.layers.MaxPooling2D(2,2),\n",
        "    tf.keras.layers.Dropout(0.2),\n",
        "    tf.keras.layers.Conv2D(64, (3,3), activation='relu'),\n",
        "    tf.keras.layers.MaxPooling2D(2,2),\n",
        "    tf.keras.layers.Dropout(0.2),\n",
        "    tf.keras.layers.Conv2D(128, (3,3), activation='relu'),\n",
        "    tf.keras.layers.MaxPooling2D(2,2),\n",
        "    tf.keras.layers.Dropout(0.2),\n",
        "    tf.keras.layers.Flatten(),\n",
        "    tf.keras.layers.Dense(512, activation='relu'),\n",
        "    tf.keras.layers.Dropout(0.2),\n",
        "    tf.keras.layers.Dense(1, activation='sigmoid')\n",
        "])\n",
        "\n",
        "model.compile(optimizer='adam',\n",
        "              loss='binary_crossentropy',\n",
        "              metrics=['accuracy'])\n",
        "\n",
        "model.summary()"
      ],
      "execution_count": null,
      "outputs": []
    },
    {
      "cell_type": "markdown",
      "metadata": {
        "id": "ensVjShsQxR4"
      },
      "source": [
        "## Transfer Learning"
      ]
    },
    {
      "cell_type": "code",
      "metadata": {
        "id": "4wC-KOOQBSoe"
      },
      "source": [
        "from tensorflow.keras.applications import Xception, VGG16, InceptionV3\n",
        "from tensorflow.keras import layers\n",
        "from tensorflow.keras import Model\n",
        "import pandas as pd\n",
        "\n",
        "####################### init pre_trained_model #################################\n",
        "\n",
        "# pre_trained_model = InceptionV3(input_shape=(150,150,3),\n",
        "#                                 include_top=False)\n",
        "\n",
        "pre_trained_model = VGG16(input_shape=(150,150,3),\n",
        "                          include_top=False)\n",
        "\n",
        "# pre_trained_model = Xception(input_shape=(150,150,3),\n",
        "#                              include_top=False)\n",
        "\n",
        "# pre_trained_model.layers.pop()\n",
        "\n",
        "####################### init pre_trained_model #################################\n",
        "\n",
        "############################## freeze layer ####################################\n",
        "\n",
        "for layer in pre_trained_model.layers:\n",
        "    layer.trainable = False\n",
        "\n",
        "# for layer in pre_trained_model.layers[:-4]:\n",
        "#     layer.trainable = False\n",
        "\n",
        "############################## freeze layer ####################################\n",
        "\n",
        "############################## Flatten Layer ###################################\n",
        "\n",
        "# last_output = pre_trained_model.layers[-1].output\n",
        "# x = layers.Flatten()(last_output)\n",
        "\n",
        "x = layers.Flatten()(pre_trained_model.output)\n",
        "\n",
        "############################## Flatten Layer ###################################\n",
        "\n",
        "######################### Fully Connected Layer ################################\n",
        "\n",
        "x = layers.Dense(1024, activation='relu')(x)\n",
        "x = layers.Dropout(0.2)(x)\n",
        "x = layers.Dense(1, activation='sigmoid')(x)\n",
        "\n",
        "######################### Fully Connected Layer ################################\n",
        "\n",
        "model = Model(pre_trained_model.input, x)\n",
        "model.compile(optimizer='adam', #RMSprop(lr=0.0001), adam\n",
        "              loss='binary_crossentropy',\n",
        "              metrics=['accuracy'])\n",
        "\n",
        "pd.set_option('max_colwidth', None)\n",
        "layers = [(layer, layer.name, layer.trainable) for layer in pre_trained_model.layers]\n",
        "pd.DataFrame(layers, columns=['Layer Type', 'Layer Name', 'Layer Trainable'])"
      ],
      "execution_count": null,
      "outputs": []
    },
    {
      "cell_type": "code",
      "metadata": {
        "id": "U91Jl7OgJj0I"
      },
      "source": [
        "train_len = 0\n",
        "for foldername in os.listdir('/tmp/fruit-dataset/train'):\n",
        "    train_len = train_len + len(os.listdir(os.path.join('/tmp/fruit-dataset/train',foldername)))\n",
        "\n",
        "val_len = 0\n",
        "for foldername in os.listdir('/tmp/fruit-dataset/val'):\n",
        "    val_len = val_len + len(os.listdir(os.path.join('/tmp/fruit-dataset/val',foldername)))\n",
        "\n",
        "print(train_len)\n",
        "print(val_len)"
      ],
      "execution_count": null,
      "outputs": []
    },
    {
      "cell_type": "code",
      "metadata": {
        "id": "G_gyoqb42rpK"
      },
      "source": [
        "history = model.fit(\n",
        "    train_generator,\n",
        "    steps_per_epoch=(train_len/32),\n",
        "    epochs=3,\n",
        "    verbose=1,\n",
        "    callbacks=[callbacks],\n",
        "    validation_data=validation_generator,\n",
        "    validation_steps=(val_len/32)\n",
        ")"
      ],
      "execution_count": null,
      "outputs": []
    },
    {
      "cell_type": "markdown",
      "metadata": {
        "id": "r5a2n6lNocm0"
      },
      "source": [
        "## Plot Loss and Accuracy"
      ]
    },
    {
      "cell_type": "code",
      "metadata": {
        "id": "BhrIeVg8237q"
      },
      "source": [
        "acc = history.history['accuracy']\n",
        "val_acc = history.history['val_accuracy']\n",
        "loss = history.history['loss']\n",
        "val_loss = history.history['val_loss']\n",
        "\n",
        "epochs = range(len(acc))\n",
        "\n",
        "plt.plot(epochs, acc, 'r')\n",
        "plt.plot(epochs, val_acc, 'b')\n",
        "plt.title('Training and Validation Accuracy')\n",
        "plt.ylabel('accuracy')\n",
        "plt.xlabel('epoch')\n",
        "plt.legend(['train', 'val'], loc='upper left')\n",
        "plt.figure()\n",
        "\n",
        "plt.plot(epochs, loss, 'r')\n",
        "plt.plot(epochs, val_loss, 'b')\n",
        "plt.ylabel('loss')\n",
        "plt.xlabel('epoch')\n",
        "plt.legend(['train', 'val'], loc='upper left')\n",
        "plt.title('Training and Validaion Loss')\n",
        "plt.figure()"
      ],
      "execution_count": null,
      "outputs": []
    },
    {
      "cell_type": "markdown",
      "metadata": {
        "id": "PvKVUf0ggLm0"
      },
      "source": [
        "## Evaluate Model"
      ]
    },
    {
      "cell_type": "code",
      "metadata": {
        "id": "NOyevWcdQaaL"
      },
      "source": [
        "test_datagen = ImageDataGenerator(rescale=1./255)\n",
        "\n",
        "test_generator = test_datagen.flow_from_directory(test_dir,\n",
        "                                                  batch_size=1,\n",
        "                                                  target_size=(150, 150),\n",
        "                                                  shuffle = False,\n",
        "                                                  class_mode='binary')\n",
        "\n",
        "filenames = test_generator.filenames\n",
        "nb_samples = len(filenames)\n",
        "\n",
        "loss, acc = model.evaluate(test_generator,steps = (nb_samples), verbose=1)\n",
        "print('accuracy test: ',acc)\n",
        "print('loss test: ',loss)"
      ],
      "execution_count": null,
      "outputs": []
    },
    {
      "cell_type": "code",
      "metadata": {
        "id": "k3gNP80Jn3Ol"
      },
      "source": [
        "model.save('model.h5')"
      ],
      "execution_count": null,
      "outputs": []
    },
    {
      "cell_type": "markdown",
      "metadata": {
        "id": "g4tlL7l8ntki"
      },
      "source": [
        "## Predict Image"
      ]
    },
    {
      "cell_type": "code",
      "metadata": {
        "id": "NQKR4RDK8qkf"
      },
      "source": [
        "from keras.utils import get_file\n",
        "import pathlib\n",
        "import cv2\n",
        "\n",
        "model_predict = tf.keras.models.load_model('model.h5')\n",
        "model_predict.compile(optimizer='adam',\n",
        "                      loss='binary_crossentropy',\n",
        "                      metrics=['accuracy'])\n",
        "\n",
        "uploaded = files.upload()\n",
        "image_name = []\n",
        "image_conf = []\n",
        "predict_result = []\n",
        "\n",
        "for fn in uploaded.keys():\n",
        "  path = fn\n",
        "  img = image.load_img(path, color_mode=\"rgb\", target_size=(150, 150), interpolation=\"nearest\")\n",
        "  # imgplot = plt.imshow(img)\n",
        "  img = image.img_to_array(img)\n",
        "  img = np.expand_dims(img, axis=0)\n",
        "  img = img/255\n",
        "\n",
        "  images = np.vstack([img])\n",
        "  classes = model_predict.predict(images, batch_size=10)\n",
        "  label = np.where(classes[0] > 0.5, 1,0)\n",
        "  # print(label)\n",
        "  if label == 0:\n",
        "    image_name.append(fn)\n",
        "    image_conf.append(1.0 - classes[0])\n",
        "    predict_result.append('Fresh Fruit')\n",
        "  else:\n",
        "    image_name.append(fn)\n",
        "    image_conf.append(classes[0])\n",
        "    predict_result.append('Rotten Fruit')\n",
        "\n",
        "plt.figure(figsize=(15, 15))\n",
        "for n in range(len(image_name)):\n",
        "  plt.subplot((len(image_name)/4)+1, 4, n+1)\n",
        "  plt.subplots_adjust(hspace = 0.3)\n",
        "  plt.imshow(image.load_img(image_name[n], color_mode=\"rgb\", target_size=(150, 150), interpolation=\"nearest\"))\n",
        "  title = f\"predict: {predict_result[n]} ({round(float(image_conf[n])*100, 2)}%)\"\n",
        "  if predict_result[n] == 'Fresh Fruit':\n",
        "    plt.title(title, color='black')\n",
        "  else:\n",
        "    plt.title(title, color='red')\n",
        "\n",
        "  plt.axis('off')\n",
        "plt.show()\n",
        "\n",
        "for fn in image_name:\n",
        "  os.system(f'rm {fn}')"
      ],
      "execution_count": null,
      "outputs": []
    }
  ]
}