{
  "nbformat": 4,
  "nbformat_minor": 0,
  "metadata": {
    "colab": {
      "provenance": [],
      "authorship_tag": "ABX9TyNqnWDDvuUEZR+SH+mcEj0E",
      "include_colab_link": true
    },
    "kernelspec": {
      "name": "python3",
      "display_name": "Python 3"
    },
    "language_info": {
      "name": "python"
    }
  },
  "cells": [
    {
      "cell_type": "markdown",
      "metadata": {
        "id": "view-in-github",
        "colab_type": "text"
      },
      "source": [
        "<a href=\"https://colab.research.google.com/github/Danecono2016/assign1/blob/main/ASSG3.ipynb\" target=\"_parent\"><img src=\"https://colab.research.google.com/assets/colab-badge.svg\" alt=\"Open In Colab\"/></a>"
      ]
    },
    {
      "cell_type": "code",
      "execution_count": 8,
      "metadata": {
        "colab": {
          "base_uri": "https://localhost:8080/"
        },
        "id": "K9dOPnS0kdwu",
        "outputId": "5d9d9df1-f136-4336-960e-603eaed5a3b3"
      },
      "outputs": [
        {
          "output_type": "stream",
          "name": "stdout",
          "text": [
            "[-1.5  0.5  1. ]\n",
            "[[1.  0.6 2.1]\n",
            " [1.  2.  1. ]]\n",
            "[ 2 -1]\n"
          ]
        }
      ],
      "source": [
        "#1 Write the X and Y matrices needed in the Normal Equation:\n",
        "import numpy as np # imports numpy module\n",
        "import matplotlib.pyplot as plt\n",
        "import pandas as pd\n",
        "X_1= np.array([1,0.6 ,2.1])\n",
        "X_2= np.array([1,2,1])\n",
        "W=np.array([-1.5,0.5,1])\n",
        "X=np.array([X_1,X_2])\n",
        "Y=np.array([2,-1]) # Changed NP to np\n",
        "print(W)\n",
        "print(X)\n",
        "print(Y)"
      ]
    },
    {
      "cell_type": "code",
      "source": [
        "S=np.matmul(X,W)\n",
        "phi= np.array(1/(1+np.exp(-S)))\n",
        "phi_d = np.gradient(phi,S)\n",
        "e= Y-phi\n",
        "print(phi_d)\n",
        "J=np.mean( (e)**2)\n",
        "print(\"The phi values are\",phi)\n",
        "print('The error is',e)\n",
        "print('The S value is',S)\n",
        "print('The MSE is',J)\n"
      ],
      "metadata": {
        "colab": {
          "base_uri": "https://localhost:8080/"
        },
        "id": "zq3v4oC8wQoZ",
        "outputId": "8f6a4315-bc19-4118-9adc-a6cf9ad8b665"
      },
      "execution_count": 9,
      "outputs": [
        {
          "output_type": "stream",
          "name": "stdout",
          "text": [
            "[0.22122543 0.22122543]\n",
            "The phi values are [0.7109495  0.62245933]\n",
            "The error is [ 1.2890505  -1.62245933]\n",
            "The S value is [0.9 0.5]\n",
            "The MSE is 2.1470127330933466\n"
          ]
        }
      ]
    },
    {
      "cell_type": "code",
      "source": [
        "dw2=np.mean((-2*e*(X[:,2])*phi_d))\n",
        "dw= ((-2*e*(X[:,2])*phi_d))\n",
        "print(dw)\n",
        "print(X[:,2])\n",
        "print(dw2)"
      ],
      "metadata": {
        "colab": {
          "base_uri": "https://localhost:8080/"
        },
        "id": "lA1qxetY3sXR",
        "outputId": "171700d0-7453-4335-929b-4b36e27363ba"
      },
      "execution_count": 11,
      "outputs": [
        {
          "output_type": "stream",
          "name": "stdout",
          "text": [
            "[-1.19771714  0.71785852]\n",
            "[2.1 1. ]\n",
            "-0.23992931143764812\n"
          ]
        }
      ]
    },
    {
      "cell_type": "code",
      "source": [],
      "metadata": {
        "id": "czNCbw9oPtON"
      },
      "execution_count": 10,
      "outputs": []
    }
  ]
}