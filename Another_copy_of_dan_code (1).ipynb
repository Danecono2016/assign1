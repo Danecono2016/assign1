{
  "cells": [
    {
      "cell_type": "markdown",
      "metadata": {
        "id": "MkBaEYjfFZFr"
      },
      "source": [
        "# New Section"
      ]
    },
    {
      "cell_type": "code",
      "execution_count": 4,
      "metadata": {
        "colab": {
          "base_uri": "https://localhost:8080/"
        },
        "id": "4VN0G5-Q0yye",
        "outputId": "efcfaaa1-e78b-4cdb-b482-7518083df7a7"
      },
      "outputs": [
        {
          "ename": "ModuleNotFoundError",
          "evalue": "No module named 'pandas'",
          "output_type": "error",
          "traceback": [
            "\u001b[1;31m---------------------------------------------------------------------------\u001b[0m",
            "\u001b[1;31mModuleNotFoundError\u001b[0m                       Traceback (most recent call last)",
            "Cell \u001b[1;32mIn[4], line 2\u001b[0m\n\u001b[0;32m      1\u001b[0m \u001b[38;5;66;03m#1) read data from the file  \"PRIMA-INDIANS-DIABETES\" and view the first 5 samples\u001b[39;00m\n\u001b[1;32m----> 2\u001b[0m \u001b[38;5;28;01mimport\u001b[39;00m \u001b[38;5;21;01mpandas\u001b[39;00m \u001b[38;5;28;01mas\u001b[39;00m \u001b[38;5;21;01mpd\u001b[39;00m \n\u001b[0;32m      3\u001b[0m \u001b[38;5;28;01mfrom\u001b[39;00m \u001b[38;5;21;01mpandas\u001b[39;00m \u001b[38;5;28;01mimport\u001b[39;00m read_csv\n\u001b[0;32m      4\u001b[0m filename \u001b[38;5;241m=\u001b[39m \u001b[38;5;124m\"\u001b[39m\u001b[38;5;124mpima-indians-diabetes.data.csv\u001b[39m\u001b[38;5;124m\"\u001b[39m\n",
            "\u001b[1;31mModuleNotFoundError\u001b[0m: No module named 'pandas'"
          ]
        }
      ],
      "source": [
        "#1) read data from the file  \"PRIMA-INDIANS-DIABETES\" and view the first 5 samples\n",
        "import pandas as pd \n",
        "from pandas import read_csv\n",
        "filename = \"pima-indians-diabetes.data.csv\"\n",
        "names = ['preg', 'plas', 'pres', 'skin', 'test', 'mass', 'pedi', 'age', 'class']\n",
        "data = read_csv(filename, names=names)\n",
        "feat = data.head(5) #2 print the features of the first 5 samples\n",
        "print(feat)\n"
      ]
    },
    {
      "cell_type": "code",
      "execution_count": 6,
      "metadata": {
        "colab": {
          "base_uri": "https://localhost:8080/"
        },
        "id": "G_wL7qIS1ZqL",
        "outputId": "9039774a-6e81-4f14-f9d1-b1fcfcb8c159"
      },
      "outputs": [
        {
          "name": "stdout",
          "output_type": "stream",
          "text": [
            "           preg      plas      pres      skin      test      mass      pedi  \\\n",
            "preg   1.000000  0.797993  0.509708 -0.620394 -0.683764 -0.473810 -0.288684   \n",
            "plas   0.797993  1.000000 -0.104300 -0.489174 -0.178347  0.030986  0.334031   \n",
            "pres   0.509708 -0.104300  1.000000 -0.225860 -0.845910 -0.738771 -0.926860   \n",
            "skin  -0.620394 -0.489174 -0.225860  1.000000  0.371826  0.727738  0.323402   \n",
            "test  -0.683764 -0.178347 -0.845910  0.371826  1.000000  0.750166  0.716031   \n",
            "mass  -0.473810  0.030986 -0.738771  0.727738  0.750166  1.000000  0.852934   \n",
            "pedi  -0.288684  0.334031 -0.926860  0.323402  0.716031  0.852934  1.000000   \n",
            "age    0.493862  0.483465  0.216797  0.349494 -0.385997  0.295061  0.159455   \n",
            "class  0.563547  0.911585 -0.322832 -0.100599  0.064545  0.422899  0.606669   \n",
            "\n",
            "            age     class  \n",
            "preg   0.493862  0.563547  \n",
            "plas   0.483465  0.911585  \n",
            "pres   0.216797 -0.322832  \n",
            "skin   0.349494 -0.100599  \n",
            "test  -0.385997  0.064545  \n",
            "mass   0.295061  0.422899  \n",
            "pedi   0.159455  0.606669  \n",
            "age    1.000000  0.646147  \n",
            "class  0.646147  1.000000  \n"
          ]
        }
      ],
      "source": [
        "# Calculate and print correlations btw the features (columns)\n",
        "correlations = feat.corr(method='pearson')\n",
        "print(correlations)"
      ]
    },
    {
      "cell_type": "code",
      "execution_count": 7,
      "metadata": {
        "colab": {
          "base_uri": "https://localhost:8080/"
        },
        "id": "fOv74ewo2Hox",
        "outputId": "fee32807-cd53-4898-f437-975aabc11b2f"
      },
      "outputs": [
        {
          "name": "stdout",
          "output_type": "stream",
          "text": [
            "[[0.353 0.744 0.59  0.354 0.    0.501 0.234 0.483 1.   ]\n",
            " [0.059 0.427 0.541 0.293 0.    0.396 0.117 0.167 0.   ]\n",
            " [0.471 0.92  0.525 0.    0.    0.347 0.254 0.183 1.   ]\n",
            " [0.059 0.447 0.541 0.232 0.111 0.419 0.038 0.    0.   ]\n",
            " [0.    0.688 0.328 0.354 0.199 0.642 0.944 0.2   1.   ]]\n"
          ]
        }
      ],
      "source": [
        "#rescaling all 9 features into range\n",
        "from numpy import set_printoptions\n",
        "from sklearn.preprocessing import MinMaxScaler\n",
        "array = data.values\n",
        "X = array[:,0:9] # X includes 8 columns. It is column 0 to7!\n",
        "Y = array[:,8:] # This is column 8, the 9th column!\n",
        "scaler = MinMaxScaler(feature_range=(0, 1))\n",
        "scaledX = scaler.fit_transform(X)\n",
        "set_printoptions(precision=3)\n",
        "scaled_data = scaledX[0:5,:]\n",
        "print(scaled_data)"
      ]
    },
    {
      "cell_type": "code",
      "execution_count": null,
      "metadata": {
        "colab": {
          "base_uri": "https://localhost:8080/"
        },
        "id": "y9kp-E9H4ocl",
        "outputId": "ab46cdb9-e0df-4089-87c8-a1fceb5c4c37"
      },
      "outputs": [
        {
          "name": "stdout",
          "output_type": "stream",
          "text": [
            "          0         1         2         3         4         5         6  \\\n",
            "0  1.000000  0.797993  0.509708 -0.620394 -0.683764 -0.473810 -0.288684   \n",
            "1  0.797993  1.000000 -0.104300 -0.489174 -0.178347  0.030986  0.334031   \n",
            "2  0.509708 -0.104300  1.000000 -0.225860 -0.845910 -0.738771 -0.926860   \n",
            "3 -0.620394 -0.489174 -0.225860  1.000000  0.371826  0.727738  0.323402   \n",
            "4 -0.683764 -0.178347 -0.845910  0.371826  1.000000  0.750166  0.716031   \n",
            "5 -0.473810  0.030986 -0.738771  0.727738  0.750166  1.000000  0.852934   \n",
            "6 -0.288684  0.334031 -0.926860  0.323402  0.716031  0.852934  1.000000   \n",
            "7  0.493862  0.483465  0.216797  0.349494 -0.385997  0.295061  0.159455   \n",
            "8  0.563547  0.911585 -0.322832 -0.100599  0.064545  0.422899  0.606669   \n",
            "\n",
            "          7         8  \n",
            "0  0.493862  0.563547  \n",
            "1  0.483465  0.911585  \n",
            "2  0.216797 -0.322832  \n",
            "3  0.349494 -0.100599  \n",
            "4 -0.385997  0.064545  \n",
            "5  0.295061  0.422899  \n",
            "6  0.159455  0.606669  \n",
            "7  1.000000  0.646147  \n",
            "8  0.646147  1.000000  \n"
          ]
        }
      ],
      "source": [
        "# Convert the NumPy array back into a Pandas DataFrame.\n",
        "import pandas as pd\n",
        "df_scaled_data = pd.DataFrame(scaled_data)\n",
        "correlations = df_scaled_data.corr(method='pearson')\n",
        "print(correlations) # 6. The correlation has not changed\n"
      ]
    },
    {
      "cell_type": "code",
      "execution_count": 10,
      "metadata": {
        "colab": {
          "base_uri": "https://localhost:8080/"
        },
        "id": "ecfIC99T6s8X",
        "outputId": "364f259d-c2e6-4156-a661-bed80ec43863"
      },
      "outputs": [
        {
          "name": "stdout",
          "output_type": "stream",
          "text": [
            "class\n",
            "0    2\n",
            "1    3\n",
            "dtype: int64\n",
            "(0,    preg  plas  pres  skin  test  mass   pedi  age  class\n",
            "1     1    85    66    29     0  26.6  0.351   31      0\n",
            "3     1    89    66    23    94  28.1  0.167   21      0)\n",
            "(1,    preg  plas  pres  skin  test  mass   pedi  age  class\n",
            "0     6   148    72    35     0  33.6  0.627   50      1\n",
            "2     8   183    64     0     0  23.3  0.672   32      1\n",
            "4     0   137    40    35   168  43.1  2.288   33      1)\n"
          ]
        }
      ],
      "source": [
        "# Group data by 'class'\n",
        "classgrp = feat.groupby('class')\n",
        "print(classgrp.size())\n",
        "for line in classgrp:\n",
        "  print(line)"
      ]
    },
    {
      "cell_type": "code",
      "execution_count": 11,
      "metadata": {
        "colab": {
          "base_uri": "https://localhost:8080/"
        },
        "id": "_Vy2fdHc9SOy",
        "outputId": "22a2d207-a63d-4e75-cbad-5af6bd2d808b"
      },
      "outputs": [
        {
          "name": "stdout",
          "output_type": "stream",
          "text": [
            "       preg  plas  pres  skin  test  mass  pedi  age  class\n",
            "preg    NaN   NaN   NaN   NaN   NaN   NaN   NaN  NaN    NaN\n",
            "plas    NaN   1.0   NaN  -1.0   1.0   1.0  -1.0 -1.0    NaN\n",
            "pres    NaN   NaN   NaN   NaN   NaN   NaN   NaN  NaN    NaN\n",
            "skin    NaN  -1.0   NaN   1.0  -1.0  -1.0   1.0  1.0    NaN\n",
            "test    NaN   1.0   NaN  -1.0   1.0   1.0  -1.0 -1.0    NaN\n",
            "mass    NaN   1.0   NaN  -1.0   1.0   1.0  -1.0 -1.0    NaN\n",
            "pedi    NaN  -1.0   NaN   1.0  -1.0  -1.0   1.0  1.0    NaN\n",
            "age     NaN  -1.0   NaN   1.0  -1.0  -1.0   1.0  1.0    NaN\n",
            "class   NaN   NaN   NaN   NaN   NaN   NaN   NaN  NaN    NaN\n"
          ]
        }
      ],
      "source": [
        "class_0=classgrp.get_group(0)\n",
        "correlations=class_0.corr(method='pearson')\n",
        "print(correlations)#9 The correlations are not the same as item 3"
      ]
    },
    {
      "cell_type": "markdown",
      "metadata": {
        "id": "rmTaKdQG_XQ8"
      },
      "source": [
        "There are some changes in the correlation of class_0 comare with the whole data"
      ]
    },
    {
      "cell_type": "code",
      "execution_count": 12,
      "metadata": {
        "colab": {
          "base_uri": "https://localhost:8080/"
        },
        "id": "oB5p9hfG_uZn",
        "outputId": "31826945-769d-4a0b-fc54-230f5925aecf"
      },
      "outputs": [
        {
          "name": "stdout",
          "output_type": "stream",
          "text": [
            "           preg      plas      pres      skin      test      mass      pedi  \\\n",
            "preg   1.000000  0.839944  0.884615 -0.693375 -0.970725 -0.954040 -0.964740   \n",
            "plas   0.839944  1.000000  0.489967 -0.973434 -0.685009 -0.963968 -0.667492   \n",
            "pres   0.884615  0.489967  1.000000 -0.277350 -0.970725 -0.704211 -0.976162   \n",
            "skin  -0.693375 -0.973434 -0.277350  1.000000  0.500000  0.877450  0.479266   \n",
            "test  -0.970725 -0.685009 -0.970725  0.500000  1.000000  0.854129  0.999717   \n",
            "mass  -0.954040 -0.963968 -0.704211  0.877450  0.854129  1.000000  0.841522   \n",
            "pedi  -0.964740 -0.667492 -0.976162  0.479266  0.999717  0.841522  1.000000   \n",
            "age    0.229523 -0.335399  0.656912  0.542194 -0.456584  0.072706 -0.477610   \n",
            "class       NaN       NaN       NaN       NaN       NaN       NaN       NaN   \n",
            "\n",
            "            age  class  \n",
            "preg   0.229523    NaN  \n",
            "plas  -0.335399    NaN  \n",
            "pres   0.656912    NaN  \n",
            "skin   0.542194    NaN  \n",
            "test  -0.456584    NaN  \n",
            "mass   0.072706    NaN  \n",
            "pedi  -0.477610    NaN  \n",
            "age    1.000000    NaN  \n",
            "class       NaN    NaN  \n"
          ]
        }
      ],
      "source": [
        "class_1=classgrp.get_group(1)\n",
        "correlations=class_1.corr(method='pearson')\n",
        "print(correlations)# #10 corellations between class 1 and class 0 are not the same"
      ]
    },
    {
      "cell_type": "code",
      "execution_count": null,
      "metadata": {
        "id": "HlUBb-yRPiza"
      },
      "outputs": [],
      "source": [
        "from google.colab import drive\n",
        "drive.mount('/content/drive')"
      ]
    }
  ],
  "metadata": {
    "colab": {
      "provenance": []
    },
    "kernelspec": {
      "display_name": "Python 3",
      "name": "python3"
    },
    "language_info": {
      "codemirror_mode": {
        "name": "ipython",
        "version": 3
      },
      "file_extension": ".py",
      "mimetype": "text/x-python",
      "name": "python",
      "nbconvert_exporter": "python",
      "pygments_lexer": "ipython3",
      "version": "3.12.6"
    }
  },
  "nbformat": 4,
  "nbformat_minor": 0
}
